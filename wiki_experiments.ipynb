{
 "cells": [
  {
   "cell_type": "code",
   "execution_count": 4,
   "metadata": {
    "collapsed": true
   },
   "outputs": [
    {
     "data": {
      "text/plain": "'3.7.15'"
     },
     "execution_count": 4,
     "metadata": {},
     "output_type": "execute_result"
    }
   ],
   "source": [
    "from platform import python_version\n",
    "\n",
    "python_version()"
   ]
  },
  {
   "cell_type": "code",
   "execution_count": 5,
   "outputs": [
    {
     "name": "stderr",
     "output_type": "stream",
     "text": [
      "2022-11-10 14:26:43.246317: I tensorflow/core/platform/cpu_feature_guard.cc:193] This TensorFlow binary is optimized with oneAPI Deep Neural Network Library (oneDNN) to use the following CPU instructions in performance-critical operations:  AVX2 FMA\n",
      "To enable them in other operations, rebuild TensorFlow with the appropriate compiler flags.\n",
      "2022-11-10 14:26:43.540997: E tensorflow/stream_executor/cuda/cuda_blas.cc:2981] Unable to register cuBLAS factory: Attempting to register factory for plugin cuBLAS when one has already been registered\n",
      "2022-11-10 14:26:44.745391: W tensorflow/stream_executor/platform/default/dso_loader.cc:64] Could not load dynamic library 'libnvinfer.so.7'; dlerror: libnvinfer.so.7: cannot open shared object file: No such file or directory\n",
      "2022-11-10 14:26:44.745571: W tensorflow/stream_executor/platform/default/dso_loader.cc:64] Could not load dynamic library 'libnvinfer_plugin.so.7'; dlerror: libnvinfer_plugin.so.7: cannot open shared object file: No such file or directory\n",
      "2022-11-10 14:26:44.745590: W tensorflow/compiler/tf2tensorrt/utils/py_utils.cc:38] TF-TRT Warning: Cannot dlopen some TensorRT libraries. If you would like to use Nvidia GPU with TensorRT, please make sure the missing libraries mentioned above are installed properly.\n"
     ]
    }
   ],
   "source": [
    "import evaluate\n",
    "import os\n",
    "import re\n",
    "import string\n",
    "import torch\n",
    "import unicodedata"
   ],
   "metadata": {
    "collapsed": false
   }
  },
  {
   "cell_type": "code",
   "execution_count": 6,
   "outputs": [],
   "source": [
    "import gradio as gr\n",
    "import numpy as np\n",
    "import pandas as pd"
   ],
   "metadata": {
    "collapsed": false
   }
  },
  {
   "cell_type": "code",
   "execution_count": 7,
   "outputs": [],
   "source": [
    "from transformers import AdamW, get_scheduler\n",
    "from transformers import RealmRetriever, RealmTokenizerFast, RealmForOpenQA, RealmConfig\n",
    "\n",
    "from transformers.models.realm.retrieval_realm import convert_tfrecord_to_np"
   ],
   "metadata": {
    "collapsed": false
   }
  },
  {
   "cell_type": "code",
   "execution_count": 8,
   "outputs": [],
   "source": [
    "from datasets import load_dataset, get_dataset_infos\n",
    "from pathlib import Path\n",
    "from tqdm.auto import tqdm\n",
    "from typing import List"
   ],
   "metadata": {
    "collapsed": false
   }
  },
  {
   "cell_type": "code",
   "execution_count": 9,
   "outputs": [],
   "source": [
    "from torch.utils.data import DataLoader"
   ],
   "metadata": {
    "collapsed": false
   }
  },
  {
   "cell_type": "code",
   "execution_count": 9,
   "outputs": [
    {
     "name": "stdout",
     "output_type": "stream",
     "text": [
      "Downloading and preparing dataset wikipedia/20220301.en to /home/patrick/.cache/huggingface/datasets/wikipedia/20220301.en/2.0.0/aa542ed919df55cc5d3347f42dd4521d05ca68751f50dbc32bae2a7f1e167559...\n"
     ]
    },
    {
     "data": {
      "text/plain": "Downloading:   0%|          | 0.00/15.3k [00:00<?, ?B/s]",
      "application/vnd.jupyter.widget-view+json": {
       "version_major": 2,
       "version_minor": 0,
       "model_id": "d5358f394e75415ba0cdb10eadc2e48a"
      }
     },
     "metadata": {},
     "output_type": "display_data"
    },
    {
     "data": {
      "text/plain": "Downloading:   0%|          | 0.00/20.3G [00:00<?, ?B/s]",
      "application/vnd.jupyter.widget-view+json": {
       "version_major": 2,
       "version_minor": 0,
       "model_id": "ab748133531d4f8ba1004ce836bcc464"
      }
     },
     "metadata": {},
     "output_type": "display_data"
    },
    {
     "name": "stdout",
     "output_type": "stream",
     "text": [
      "Dataset wikipedia downloaded and prepared to /home/patrick/.cache/huggingface/datasets/wikipedia/20220301.en/2.0.0/aa542ed919df55cc5d3347f42dd4521d05ca68751f50dbc32bae2a7f1e167559. Subsequent calls will reuse this data.\n"
     ]
    },
    {
     "data": {
      "text/plain": "  0%|          | 0/1 [00:00<?, ?it/s]",
      "application/vnd.jupyter.widget-view+json": {
       "version_major": 2,
       "version_minor": 0,
       "model_id": "5926023b75554ef596fc18ec4785565d"
      }
     },
     "metadata": {},
     "output_type": "display_data"
    }
   ],
   "source": [
    "wiki_data = load_dataset(\"wikipedia\", \"20220301.en\")"
   ],
   "metadata": {
    "collapsed": false
   }
  },
  {
   "cell_type": "code",
   "execution_count": null,
   "outputs": [],
   "source": [
    "wiki_data"
   ],
   "metadata": {
    "collapsed": false
   }
  },
  {
   "cell_type": "code",
   "execution_count": 8,
   "outputs": [
    {
     "name": "stdout",
     "output_type": "stream",
     "text": [
      "Before filter:                  id         revid\n",
      "count     73.000000  7.300000e+01\n",
      "mean   32669.767123  1.282680e+08\n",
      "std       30.284540  3.286560e+08\n",
      "min    32616.000000  3.200500e+04\n",
      "25%    32645.000000  3.461395e+06\n",
      "50%    32672.000000  9.784415e+06\n",
      "75%    32695.000000  3.533295e+07\n",
      "max    32720.000000  1.060874e+09\n",
      "After filter:                  id         revid\n",
      "count     61.000000  6.100000e+01\n",
      "mean   32669.737705  1.527047e+08\n",
      "std       30.090365  3.548528e+08\n",
      "min    32616.000000  3.200500e+04\n",
      "25%    32644.000000  5.280263e+06\n",
      "50%    32673.000000  1.241690e+07\n",
      "75%    32695.000000  3.962001e+07\n",
      "max    32718.000000  1.060874e+09\n"
     ]
    }
   ],
   "source": [
    "sample_docs = pd.read_json('data/wiki-raw/enwiki-20211220/AD/wiki_00', lines=True)\n",
    "print(f\"Before filter: {sample_docs.describe()}\")\n",
    "\n",
    "# we want to filter and keep only docs that have non-empty text fields.\n",
    "sample_docs = sample_docs[sample_docs['text'].str.len() > 0]\n",
    "sample_docs.describe()\n",
    "print(f\"After filter: {sample_docs.describe()}\")"
   ],
   "metadata": {
    "collapsed": false
   }
  },
  {
   "cell_type": "code",
   "execution_count": 2,
   "outputs": [],
   "source": [],
   "metadata": {
    "collapsed": false
   }
  },
  {
   "cell_type": "code",
   "execution_count": 10,
   "outputs": [],
   "source": [
    "# We need to go from a dataframe to an array of text\n",
    "def get_documents(path: str) -> List[str]:\n",
    "    df = pd.read_json(path_or_buf=path, lines=True)\n",
    "\n",
    "    # check that it's read in\n",
    "    print(f\"Read in: {len(df)} lines from jsonl file: {path}\")\n",
    "    print(f\"Dataframe columns: {df.columns}\")\n",
    "\n",
    "    # filter rows with empty text\n",
    "    try:\n",
    "        df = df[df['text'].str.len() > 0]\n",
    "        print(f\"After filtering rows with empty text, df size: {len(df)}\")\n",
    "    except KeyError as ke:\n",
    "        return []\n",
    "\n",
    "    # return only the \"text\" column to be used with the retriever\n",
    "    return df.text.to_list()"
   ],
   "metadata": {
    "collapsed": false
   }
  },
  {
   "cell_type": "code",
   "execution_count": 11,
   "outputs": [],
   "source": [
    "# for each file in the directory, we need to pull its content\n",
    "def get_directory_contents(dir_name: str):\n",
    "    dir_data = list()\n",
    "    for sub_dir_name in os.listdir(dir_name):\n",
    "        files = os.listdir(os.path.join(dir_name + '/' + sub_dir_name))\n",
    "        for _file in files:\n",
    "            dir_data += get_documents(os.path.join(dir_name + '/' + sub_dir_name+'/' + _file))\n",
    "    return dir_data\n",
    "\n",
    "\n",
    "# return all evidence texts as a numpy ndarray\n",
    "def get_evidence_text():\n",
    "    return np.asarray(get_directory_contents(\"data/wiki-raw/sample-enwiki-20211220\"))"
   ],
   "metadata": {
    "collapsed": false
   }
  },
  {
   "cell_type": "code",
   "execution_count": 11,
   "outputs": [],
   "source": [],
   "metadata": {
    "collapsed": false
   }
  },
  {
   "cell_type": "code",
   "execution_count": 8,
   "outputs": [
    {
     "name": "stdout",
     "output_type": "stream",
     "text": [
      "Read in: 79 lines from jsonl file: data/wiki-raw/sample-enwiki-20211220/AC/wiki_74\n",
      "Dataframe columns: Index(['id', 'revid', 'url', 'title', 'text'], dtype='object')\n",
      "After filtering rows with empty text, df size: 60\n",
      "Read in: 90 lines from jsonl file: data/wiki-raw/sample-enwiki-20211220/AC/wiki_64\n",
      "Dataframe columns: Index(['id', 'revid', 'url', 'title', 'text'], dtype='object')\n",
      "After filtering rows with empty text, df size: 63\n",
      "Read in: 46 lines from jsonl file: data/wiki-raw/sample-enwiki-20211220/AC/wiki_47\n",
      "Dataframe columns: Index(['id', 'revid', 'url', 'title', 'text'], dtype='object')\n",
      "After filtering rows with empty text, df size: 43\n",
      "Read in: 48 lines from jsonl file: data/wiki-raw/sample-enwiki-20211220/AC/wiki_45\n",
      "Dataframe columns: Index(['id', 'revid', 'url', 'title', 'text'], dtype='object')\n",
      "After filtering rows with empty text, df size: 44\n",
      "Read in: 48 lines from jsonl file: data/wiki-raw/sample-enwiki-20211220/AC/wiki_06\n",
      "Dataframe columns: Index(['id', 'revid', 'url', 'title', 'text'], dtype='object')\n",
      "After filtering rows with empty text, df size: 33\n",
      "Read in: 73 lines from jsonl file: data/wiki-raw/sample-enwiki-20211220/AC/wiki_14\n",
      "Dataframe columns: Index(['id', 'revid', 'url', 'title', 'text'], dtype='object')\n",
      "After filtering rows with empty text, df size: 60\n",
      "Read in: 82 lines from jsonl file: data/wiki-raw/sample-enwiki-20211220/AC/wiki_37\n",
      "Dataframe columns: Index(['id', 'revid', 'url', 'title', 'text'], dtype='object')\n",
      "After filtering rows with empty text, df size: 59\n",
      "Read in: 88 lines from jsonl file: data/wiki-raw/sample-enwiki-20211220/AC/wiki_95\n",
      "Dataframe columns: Index(['id', 'revid', 'url', 'title', 'text'], dtype='object')\n",
      "After filtering rows with empty text, df size: 63\n",
      "Read in: 47 lines from jsonl file: data/wiki-raw/sample-enwiki-20211220/AC/wiki_73\n",
      "Dataframe columns: Index(['id', 'revid', 'url', 'title', 'text'], dtype='object')\n",
      "After filtering rows with empty text, df size: 39\n",
      "Read in: 59 lines from jsonl file: data/wiki-raw/sample-enwiki-20211220/AC/wiki_97\n",
      "Dataframe columns: Index(['id', 'revid', 'url', 'title', 'text'], dtype='object')\n",
      "After filtering rows with empty text, df size: 50\n",
      "Read in: 65 lines from jsonl file: data/wiki-raw/sample-enwiki-20211220/AC/wiki_56\n",
      "Dataframe columns: Index(['id', 'revid', 'url', 'title', 'text'], dtype='object')\n",
      "After filtering rows with empty text, df size: 54\n",
      "Read in: 78 lines from jsonl file: data/wiki-raw/sample-enwiki-20211220/AC/wiki_39\n",
      "Dataframe columns: Index(['id', 'revid', 'url', 'title', 'text'], dtype='object')\n",
      "After filtering rows with empty text, df size: 65\n",
      "Read in: 98 lines from jsonl file: data/wiki-raw/sample-enwiki-20211220/AC/wiki_23\n",
      "Dataframe columns: Index(['id', 'revid', 'url', 'title', 'text'], dtype='object')\n",
      "After filtering rows with empty text, df size: 85\n",
      "Read in: 61 lines from jsonl file: data/wiki-raw/sample-enwiki-20211220/AC/wiki_88\n",
      "Dataframe columns: Index(['id', 'revid', 'url', 'title', 'text'], dtype='object')\n",
      "After filtering rows with empty text, df size: 47\n",
      "Read in: 42 lines from jsonl file: data/wiki-raw/sample-enwiki-20211220/AC/wiki_42\n",
      "Dataframe columns: Index(['id', 'revid', 'url', 'title', 'text'], dtype='object')\n",
      "After filtering rows with empty text, df size: 31\n",
      "Read in: 61 lines from jsonl file: data/wiki-raw/sample-enwiki-20211220/AC/wiki_86\n",
      "Dataframe columns: Index(['id', 'revid', 'url', 'title', 'text'], dtype='object')\n",
      "After filtering rows with empty text, df size: 51\n",
      "Read in: 62 lines from jsonl file: data/wiki-raw/sample-enwiki-20211220/AC/wiki_87\n",
      "Dataframe columns: Index(['id', 'revid', 'url', 'title', 'text'], dtype='object')\n",
      "After filtering rows with empty text, df size: 51\n",
      "Read in: 74 lines from jsonl file: data/wiki-raw/sample-enwiki-20211220/AC/wiki_51\n",
      "Dataframe columns: Index(['id', 'revid', 'url', 'title', 'text'], dtype='object')\n",
      "After filtering rows with empty text, df size: 59\n",
      "Read in: 97 lines from jsonl file: data/wiki-raw/sample-enwiki-20211220/AC/wiki_01\n",
      "Dataframe columns: Index(['id', 'revid', 'url', 'title', 'text'], dtype='object')\n",
      "After filtering rows with empty text, df size: 64\n",
      "Read in: 49 lines from jsonl file: data/wiki-raw/sample-enwiki-20211220/AC/wiki_65\n",
      "Dataframe columns: Index(['id', 'revid', 'url', 'title', 'text'], dtype='object')\n",
      "After filtering rows with empty text, df size: 48\n",
      "Read in: 91 lines from jsonl file: data/wiki-raw/sample-enwiki-20211220/AC/wiki_27\n",
      "Dataframe columns: Index(['id', 'revid', 'url', 'title', 'text'], dtype='object')\n",
      "After filtering rows with empty text, df size: 69\n",
      "Read in: 52 lines from jsonl file: data/wiki-raw/sample-enwiki-20211220/AC/wiki_89\n",
      "Dataframe columns: Index(['id', 'revid', 'url', 'title', 'text'], dtype='object')\n",
      "After filtering rows with empty text, df size: 30\n",
      "Read in: 84 lines from jsonl file: data/wiki-raw/sample-enwiki-20211220/AC/wiki_17\n",
      "Dataframe columns: Index(['id', 'revid', 'url', 'title', 'text'], dtype='object')\n",
      "After filtering rows with empty text, df size: 72\n",
      "Read in: 68 lines from jsonl file: data/wiki-raw/sample-enwiki-20211220/AC/wiki_02\n",
      "Dataframe columns: Index(['id', 'revid', 'url', 'title', 'text'], dtype='object')\n",
      "After filtering rows with empty text, df size: 46\n",
      "Read in: 100 lines from jsonl file: data/wiki-raw/sample-enwiki-20211220/AC/wiki_28\n",
      "Dataframe columns: Index(['id', 'revid', 'url', 'title', 'text'], dtype='object')\n",
      "After filtering rows with empty text, df size: 70\n",
      "Read in: 43 lines from jsonl file: data/wiki-raw/sample-enwiki-20211220/AC/wiki_52\n",
      "Dataframe columns: Index(['id', 'revid', 'url', 'title', 'text'], dtype='object')\n",
      "After filtering rows with empty text, df size: 33\n",
      "Read in: 75 lines from jsonl file: data/wiki-raw/sample-enwiki-20211220/AC/wiki_96\n",
      "Dataframe columns: Index(['id', 'revid', 'url', 'title', 'text'], dtype='object')\n",
      "After filtering rows with empty text, df size: 54\n",
      "Read in: 61 lines from jsonl file: data/wiki-raw/sample-enwiki-20211220/AC/wiki_46\n",
      "Dataframe columns: Index(['id', 'revid', 'url', 'title', 'text'], dtype='object')\n",
      "After filtering rows with empty text, df size: 49\n",
      "Read in: 59 lines from jsonl file: data/wiki-raw/sample-enwiki-20211220/AC/wiki_00\n",
      "Dataframe columns: Index(['id', 'revid', 'url', 'title', 'text'], dtype='object')\n",
      "After filtering rows with empty text, df size: 37\n",
      "Read in: 90 lines from jsonl file: data/wiki-raw/sample-enwiki-20211220/AC/wiki_19\n",
      "Dataframe columns: Index(['id', 'revid', 'url', 'title', 'text'], dtype='object')\n",
      "After filtering rows with empty text, df size: 75\n",
      "Read in: 52 lines from jsonl file: data/wiki-raw/sample-enwiki-20211220/AC/wiki_34\n",
      "Dataframe columns: Index(['id', 'revid', 'url', 'title', 'text'], dtype='object')\n",
      "After filtering rows with empty text, df size: 46\n",
      "Read in: 73 lines from jsonl file: data/wiki-raw/sample-enwiki-20211220/AC/wiki_25\n",
      "Dataframe columns: Index(['id', 'revid', 'url', 'title', 'text'], dtype='object')\n",
      "After filtering rows with empty text, df size: 61\n",
      "Read in: 45 lines from jsonl file: data/wiki-raw/sample-enwiki-20211220/AC/wiki_90\n",
      "Dataframe columns: Index(['id', 'revid', 'url', 'title', 'text'], dtype='object')\n",
      "After filtering rows with empty text, df size: 29\n",
      "Read in: 60 lines from jsonl file: data/wiki-raw/sample-enwiki-20211220/AC/wiki_38\n",
      "Dataframe columns: Index(['id', 'revid', 'url', 'title', 'text'], dtype='object')\n",
      "After filtering rows with empty text, df size: 50\n",
      "Read in: 49 lines from jsonl file: data/wiki-raw/sample-enwiki-20211220/AC/wiki_71\n",
      "Dataframe columns: Index(['id', 'revid', 'url', 'title', 'text'], dtype='object')\n",
      "After filtering rows with empty text, df size: 31\n",
      "Read in: 73 lines from jsonl file: data/wiki-raw/sample-enwiki-20211220/AC/wiki_63\n",
      "Dataframe columns: Index(['id', 'revid', 'url', 'title', 'text'], dtype='object')\n",
      "After filtering rows with empty text, df size: 64\n",
      "Read in: 66 lines from jsonl file: data/wiki-raw/sample-enwiki-20211220/AC/wiki_15\n",
      "Dataframe columns: Index(['id', 'revid', 'url', 'title', 'text'], dtype='object')\n",
      "After filtering rows with empty text, df size: 62\n",
      "Read in: 90 lines from jsonl file: data/wiki-raw/sample-enwiki-20211220/AC/wiki_20\n",
      "Dataframe columns: Index(['id', 'revid', 'url', 'title', 'text'], dtype='object')\n",
      "After filtering rows with empty text, df size: 74\n",
      "Read in: 57 lines from jsonl file: data/wiki-raw/sample-enwiki-20211220/AC/wiki_57\n",
      "Dataframe columns: Index(['id', 'revid', 'url', 'title', 'text'], dtype='object')\n",
      "After filtering rows with empty text, df size: 36\n",
      "Read in: 62 lines from jsonl file: data/wiki-raw/sample-enwiki-20211220/AC/wiki_98\n",
      "Dataframe columns: Index(['id', 'revid', 'url', 'title', 'text'], dtype='object')\n",
      "After filtering rows with empty text, df size: 53\n",
      "Read in: 32 lines from jsonl file: data/wiki-raw/sample-enwiki-20211220/AC/wiki_29\n",
      "Dataframe columns: Index(['id', 'revid', 'url', 'title', 'text'], dtype='object')\n",
      "After filtering rows with empty text, df size: 23\n",
      "Read in: 73 lines from jsonl file: data/wiki-raw/sample-enwiki-20211220/AC/wiki_44\n",
      "Dataframe columns: Index(['id', 'revid', 'url', 'title', 'text'], dtype='object')\n",
      "After filtering rows with empty text, df size: 59\n",
      "Read in: 84 lines from jsonl file: data/wiki-raw/sample-enwiki-20211220/AC/wiki_83\n",
      "Dataframe columns: Index(['id', 'revid', 'url', 'title', 'text'], dtype='object')\n",
      "After filtering rows with empty text, df size: 69\n",
      "Read in: 51 lines from jsonl file: data/wiki-raw/sample-enwiki-20211220/AC/wiki_07\n",
      "Dataframe columns: Index(['id', 'revid', 'url', 'title', 'text'], dtype='object')\n",
      "After filtering rows with empty text, df size: 33\n",
      "Read in: 68 lines from jsonl file: data/wiki-raw/sample-enwiki-20211220/AC/wiki_12\n",
      "Dataframe columns: Index(['id', 'revid', 'url', 'title', 'text'], dtype='object')\n",
      "After filtering rows with empty text, df size: 50\n",
      "Read in: 59 lines from jsonl file: data/wiki-raw/sample-enwiki-20211220/AC/wiki_35\n",
      "Dataframe columns: Index(['id', 'revid', 'url', 'title', 'text'], dtype='object')\n",
      "After filtering rows with empty text, df size: 47\n",
      "Read in: 71 lines from jsonl file: data/wiki-raw/sample-enwiki-20211220/AC/wiki_68\n",
      "Dataframe columns: Index(['id', 'revid', 'url', 'title', 'text'], dtype='object')\n",
      "After filtering rows with empty text, df size: 49\n",
      "Read in: 74 lines from jsonl file: data/wiki-raw/sample-enwiki-20211220/AC/wiki_22\n",
      "Dataframe columns: Index(['id', 'revid', 'url', 'title', 'text'], dtype='object')\n",
      "After filtering rows with empty text, df size: 58\n",
      "Read in: 66 lines from jsonl file: data/wiki-raw/sample-enwiki-20211220/AC/wiki_77\n",
      "Dataframe columns: Index(['id', 'revid', 'url', 'title', 'text'], dtype='object')\n",
      "After filtering rows with empty text, df size: 48\n",
      "Read in: 71 lines from jsonl file: data/wiki-raw/sample-enwiki-20211220/AC/wiki_62\n",
      "Dataframe columns: Index(['id', 'revid', 'url', 'title', 'text'], dtype='object')\n",
      "After filtering rows with empty text, df size: 55\n",
      "Read in: 67 lines from jsonl file: data/wiki-raw/sample-enwiki-20211220/AC/wiki_13\n",
      "Dataframe columns: Index(['id', 'revid', 'url', 'title', 'text'], dtype='object')\n",
      "After filtering rows with empty text, df size: 56\n",
      "Read in: 91 lines from jsonl file: data/wiki-raw/sample-enwiki-20211220/AC/wiki_50\n",
      "Dataframe columns: Index(['id', 'revid', 'url', 'title', 'text'], dtype='object')\n",
      "After filtering rows with empty text, df size: 71\n",
      "Read in: 106 lines from jsonl file: data/wiki-raw/sample-enwiki-20211220/AC/wiki_41\n",
      "Dataframe columns: Index(['id', 'revid', 'url', 'title', 'text'], dtype='object')\n",
      "After filtering rows with empty text, df size: 38\n",
      "Read in: 76 lines from jsonl file: data/wiki-raw/sample-enwiki-20211220/AC/wiki_75\n",
      "Dataframe columns: Index(['id', 'revid', 'url', 'title', 'text'], dtype='object')\n",
      "After filtering rows with empty text, df size: 55\n",
      "Read in: 81 lines from jsonl file: data/wiki-raw/sample-enwiki-20211220/AC/wiki_54\n",
      "Dataframe columns: Index(['id', 'revid', 'url', 'title', 'text'], dtype='object')\n",
      "After filtering rows with empty text, df size: 60\n",
      "Read in: 59 lines from jsonl file: data/wiki-raw/sample-enwiki-20211220/AC/wiki_32\n",
      "Dataframe columns: Index(['id', 'revid', 'url', 'title', 'text'], dtype='object')\n",
      "After filtering rows with empty text, df size: 45\n",
      "Read in: 66 lines from jsonl file: data/wiki-raw/sample-enwiki-20211220/AC/wiki_49\n",
      "Dataframe columns: Index(['id', 'revid', 'url', 'title', 'text'], dtype='object')\n",
      "After filtering rows with empty text, df size: 53\n",
      "Read in: 44 lines from jsonl file: data/wiki-raw/sample-enwiki-20211220/AC/wiki_80\n",
      "Dataframe columns: Index(['id', 'revid', 'url', 'title', 'text'], dtype='object')\n",
      "After filtering rows with empty text, df size: 33\n",
      "Read in: 76 lines from jsonl file: data/wiki-raw/sample-enwiki-20211220/AC/wiki_03\n",
      "Dataframe columns: Index(['id', 'revid', 'url', 'title', 'text'], dtype='object')\n",
      "After filtering rows with empty text, df size: 43\n",
      "Read in: 65 lines from jsonl file: data/wiki-raw/sample-enwiki-20211220/AC/wiki_61\n",
      "Dataframe columns: Index(['id', 'revid', 'url', 'title', 'text'], dtype='object')\n",
      "After filtering rows with empty text, df size: 59\n",
      "Read in: 49 lines from jsonl file: data/wiki-raw/sample-enwiki-20211220/AC/wiki_91\n",
      "Dataframe columns: Index(['id', 'revid', 'url', 'title', 'text'], dtype='object')\n",
      "After filtering rows with empty text, df size: 48\n",
      "Read in: 51 lines from jsonl file: data/wiki-raw/sample-enwiki-20211220/AC/wiki_43\n",
      "Dataframe columns: Index(['id', 'revid', 'url', 'title', 'text'], dtype='object')\n",
      "After filtering rows with empty text, df size: 38\n",
      "Read in: 56 lines from jsonl file: data/wiki-raw/sample-enwiki-20211220/AC/wiki_58\n",
      "Dataframe columns: Index(['id', 'revid', 'url', 'title', 'text'], dtype='object')\n",
      "After filtering rows with empty text, df size: 41\n",
      "Read in: 64 lines from jsonl file: data/wiki-raw/sample-enwiki-20211220/AC/wiki_59\n",
      "Dataframe columns: Index(['id', 'revid', 'url', 'title', 'text'], dtype='object')\n",
      "After filtering rows with empty text, df size: 52\n",
      "Read in: 88 lines from jsonl file: data/wiki-raw/sample-enwiki-20211220/AC/wiki_84\n",
      "Dataframe columns: Index(['id', 'revid', 'url', 'title', 'text'], dtype='object')\n",
      "After filtering rows with empty text, df size: 68\n",
      "Read in: 57 lines from jsonl file: data/wiki-raw/sample-enwiki-20211220/AC/wiki_76\n",
      "Dataframe columns: Index(['id', 'revid', 'url', 'title', 'text'], dtype='object')\n",
      "After filtering rows with empty text, df size: 48\n",
      "Read in: 65 lines from jsonl file: data/wiki-raw/sample-enwiki-20211220/AC/wiki_36\n",
      "Dataframe columns: Index(['id', 'revid', 'url', 'title', 'text'], dtype='object')\n",
      "After filtering rows with empty text, df size: 52\n",
      "Read in: 70 lines from jsonl file: data/wiki-raw/sample-enwiki-20211220/AC/wiki_04\n",
      "Dataframe columns: Index(['id', 'revid', 'url', 'title', 'text'], dtype='object')\n",
      "After filtering rows with empty text, df size: 55\n",
      "Read in: 88 lines from jsonl file: data/wiki-raw/sample-enwiki-20211220/AC/wiki_60\n",
      "Dataframe columns: Index(['id', 'revid', 'url', 'title', 'text'], dtype='object')\n",
      "After filtering rows with empty text, df size: 73\n",
      "Read in: 107 lines from jsonl file: data/wiki-raw/sample-enwiki-20211220/AC/wiki_08\n",
      "Dataframe columns: Index(['id', 'revid', 'url', 'title', 'text'], dtype='object')\n",
      "After filtering rows with empty text, df size: 68\n",
      "Read in: 72 lines from jsonl file: data/wiki-raw/sample-enwiki-20211220/AC/wiki_10\n",
      "Dataframe columns: Index(['id', 'revid', 'url', 'title', 'text'], dtype='object')\n",
      "After filtering rows with empty text, df size: 51\n",
      "Read in: 57 lines from jsonl file: data/wiki-raw/sample-enwiki-20211220/AC/wiki_09\n",
      "Dataframe columns: Index(['id', 'revid', 'url', 'title', 'text'], dtype='object')\n",
      "After filtering rows with empty text, df size: 55\n",
      "Read in: 66 lines from jsonl file: data/wiki-raw/sample-enwiki-20211220/AC/wiki_94\n",
      "Dataframe columns: Index(['id', 'revid', 'url', 'title', 'text'], dtype='object')\n",
      "After filtering rows with empty text, df size: 49\n",
      "Read in: 70 lines from jsonl file: data/wiki-raw/sample-enwiki-20211220/AC/wiki_85\n",
      "Dataframe columns: Index(['id', 'revid', 'url', 'title', 'text'], dtype='object')\n",
      "After filtering rows with empty text, df size: 57\n",
      "Read in: 107 lines from jsonl file: data/wiki-raw/sample-enwiki-20211220/AC/wiki_70\n",
      "Dataframe columns: Index(['id', 'revid', 'url', 'title', 'text'], dtype='object')\n",
      "After filtering rows with empty text, df size: 44\n",
      "Read in: 70 lines from jsonl file: data/wiki-raw/sample-enwiki-20211220/AC/wiki_78\n",
      "Dataframe columns: Index(['id', 'revid', 'url', 'title', 'text'], dtype='object')\n",
      "After filtering rows with empty text, df size: 58\n",
      "Read in: 124 lines from jsonl file: data/wiki-raw/sample-enwiki-20211220/AC/wiki_05\n",
      "Dataframe columns: Index(['id', 'revid', 'url', 'title', 'text'], dtype='object')\n",
      "After filtering rows with empty text, df size: 59\n",
      "Read in: 45 lines from jsonl file: data/wiki-raw/sample-enwiki-20211220/AC/wiki_30\n",
      "Dataframe columns: Index(['id', 'revid', 'url', 'title', 'text'], dtype='object')\n",
      "After filtering rows with empty text, df size: 38\n",
      "Read in: 80 lines from jsonl file: data/wiki-raw/sample-enwiki-20211220/AC/wiki_55\n",
      "Dataframe columns: Index(['id', 'revid', 'url', 'title', 'text'], dtype='object')\n",
      "After filtering rows with empty text, df size: 58\n",
      "Read in: 75 lines from jsonl file: data/wiki-raw/sample-enwiki-20211220/AC/wiki_40\n",
      "Dataframe columns: Index(['id', 'revid', 'url', 'title', 'text'], dtype='object')\n",
      "After filtering rows with empty text, df size: 66\n",
      "Read in: 52 lines from jsonl file: data/wiki-raw/sample-enwiki-20211220/AC/wiki_11\n",
      "Dataframe columns: Index(['id', 'revid', 'url', 'title', 'text'], dtype='object')\n",
      "After filtering rows with empty text, df size: 45\n",
      "Read in: 79 lines from jsonl file: data/wiki-raw/sample-enwiki-20211220/AC/wiki_24\n",
      "Dataframe columns: Index(['id', 'revid', 'url', 'title', 'text'], dtype='object')\n",
      "After filtering rows with empty text, df size: 61\n",
      "Read in: 69 lines from jsonl file: data/wiki-raw/sample-enwiki-20211220/AC/wiki_82\n",
      "Dataframe columns: Index(['id', 'revid', 'url', 'title', 'text'], dtype='object')\n",
      "After filtering rows with empty text, df size: 58\n",
      "Read in: 51 lines from jsonl file: data/wiki-raw/sample-enwiki-20211220/AC/wiki_31\n",
      "Dataframe columns: Index(['id', 'revid', 'url', 'title', 'text'], dtype='object')\n",
      "After filtering rows with empty text, df size: 41\n",
      "Read in: 39 lines from jsonl file: data/wiki-raw/sample-enwiki-20211220/AC/wiki_99\n",
      "Dataframe columns: Index(['id', 'revid', 'url', 'title', 'text'], dtype='object')\n",
      "After filtering rows with empty text, df size: 31\n",
      "Read in: 58 lines from jsonl file: data/wiki-raw/sample-enwiki-20211220/AC/wiki_93\n",
      "Dataframe columns: Index(['id', 'revid', 'url', 'title', 'text'], dtype='object')\n",
      "After filtering rows with empty text, df size: 39\n",
      "Read in: 76 lines from jsonl file: data/wiki-raw/sample-enwiki-20211220/AC/wiki_21\n",
      "Dataframe columns: Index(['id', 'revid', 'url', 'title', 'text'], dtype='object')\n",
      "After filtering rows with empty text, df size: 62\n",
      "Read in: 59 lines from jsonl file: data/wiki-raw/sample-enwiki-20211220/AC/wiki_66\n",
      "Dataframe columns: Index(['id', 'revid', 'url', 'title', 'text'], dtype='object')\n",
      "After filtering rows with empty text, df size: 43\n",
      "Read in: 59 lines from jsonl file: data/wiki-raw/sample-enwiki-20211220/AC/wiki_18\n",
      "Dataframe columns: Index(['id', 'revid', 'url', 'title', 'text'], dtype='object')\n",
      "After filtering rows with empty text, df size: 51\n",
      "Read in: 78 lines from jsonl file: data/wiki-raw/sample-enwiki-20211220/AC/wiki_92\n",
      "Dataframe columns: Index(['id', 'revid', 'url', 'title', 'text'], dtype='object')\n",
      "After filtering rows with empty text, df size: 54\n",
      "Read in: 55 lines from jsonl file: data/wiki-raw/sample-enwiki-20211220/AC/wiki_72\n",
      "Dataframe columns: Index(['id', 'revid', 'url', 'title', 'text'], dtype='object')\n",
      "After filtering rows with empty text, df size: 42\n",
      "Read in: 74 lines from jsonl file: data/wiki-raw/sample-enwiki-20211220/AC/wiki_16\n",
      "Dataframe columns: Index(['id', 'revid', 'url', 'title', 'text'], dtype='object')\n",
      "After filtering rows with empty text, df size: 60\n",
      "Read in: 59 lines from jsonl file: data/wiki-raw/sample-enwiki-20211220/AC/wiki_79\n",
      "Dataframe columns: Index(['id', 'revid', 'url', 'title', 'text'], dtype='object')\n",
      "After filtering rows with empty text, df size: 49\n",
      "Read in: 59 lines from jsonl file: data/wiki-raw/sample-enwiki-20211220/AC/wiki_33\n",
      "Dataframe columns: Index(['id', 'revid', 'url', 'title', 'text'], dtype='object')\n",
      "After filtering rows with empty text, df size: 44\n",
      "Read in: 71 lines from jsonl file: data/wiki-raw/sample-enwiki-20211220/AC/wiki_26\n",
      "Dataframe columns: Index(['id', 'revid', 'url', 'title', 'text'], dtype='object')\n",
      "After filtering rows with empty text, df size: 53\n",
      "Read in: 71 lines from jsonl file: data/wiki-raw/sample-enwiki-20211220/AC/wiki_67\n",
      "Dataframe columns: Index(['id', 'revid', 'url', 'title', 'text'], dtype='object')\n",
      "After filtering rows with empty text, df size: 53\n",
      "Read in: 102 lines from jsonl file: data/wiki-raw/sample-enwiki-20211220/AC/wiki_48\n",
      "Dataframe columns: Index(['id', 'revid', 'url', 'title', 'text'], dtype='object')\n",
      "After filtering rows with empty text, df size: 94\n",
      "Read in: 60 lines from jsonl file: data/wiki-raw/sample-enwiki-20211220/AC/wiki_81\n",
      "Dataframe columns: Index(['id', 'revid', 'url', 'title', 'text'], dtype='object')\n",
      "After filtering rows with empty text, df size: 47\n",
      "Read in: 75 lines from jsonl file: data/wiki-raw/sample-enwiki-20211220/AC/wiki_53\n",
      "Dataframe columns: Index(['id', 'revid', 'url', 'title', 'text'], dtype='object')\n",
      "After filtering rows with empty text, df size: 59\n",
      "Read in: 92 lines from jsonl file: data/wiki-raw/sample-enwiki-20211220/AC/wiki_69\n",
      "Dataframe columns: Index(['id', 'revid', 'url', 'title', 'text'], dtype='object')\n",
      "After filtering rows with empty text, df size: 69\n",
      "Read in: 73 lines from jsonl file: data/wiki-raw/sample-enwiki-20211220/AB/wiki_74\n",
      "Dataframe columns: Index(['id', 'revid', 'url', 'title', 'text'], dtype='object')\n",
      "After filtering rows with empty text, df size: 30\n",
      "Read in: 95 lines from jsonl file: data/wiki-raw/sample-enwiki-20211220/AB/wiki_64\n",
      "Dataframe columns: Index(['id', 'revid', 'url', 'title', 'text'], dtype='object')\n",
      "After filtering rows with empty text, df size: 73\n",
      "Read in: 62 lines from jsonl file: data/wiki-raw/sample-enwiki-20211220/AB/wiki_47\n",
      "Dataframe columns: Index(['id', 'revid', 'url', 'title', 'text'], dtype='object')\n",
      "After filtering rows with empty text, df size: 54\n",
      "Read in: 62 lines from jsonl file: data/wiki-raw/sample-enwiki-20211220/AB/wiki_45\n",
      "Dataframe columns: Index(['id', 'revid', 'url', 'title', 'text'], dtype='object')\n",
      "After filtering rows with empty text, df size: 55\n",
      "Read in: 70 lines from jsonl file: data/wiki-raw/sample-enwiki-20211220/AB/wiki_06\n",
      "Dataframe columns: Index(['id', 'revid', 'url', 'title', 'text'], dtype='object')\n",
      "After filtering rows with empty text, df size: 53\n",
      "Read in: 41 lines from jsonl file: data/wiki-raw/sample-enwiki-20211220/AB/wiki_14\n",
      "Dataframe columns: Index(['id', 'revid', 'url', 'title', 'text'], dtype='object')\n",
      "After filtering rows with empty text, df size: 31\n",
      "Read in: 61 lines from jsonl file: data/wiki-raw/sample-enwiki-20211220/AB/wiki_37\n",
      "Dataframe columns: Index(['id', 'revid', 'url', 'title', 'text'], dtype='object')\n",
      "After filtering rows with empty text, df size: 46\n",
      "Read in: 49 lines from jsonl file: data/wiki-raw/sample-enwiki-20211220/AB/wiki_95\n",
      "Dataframe columns: Index(['id', 'revid', 'url', 'title', 'text'], dtype='object')\n",
      "After filtering rows with empty text, df size: 40\n",
      "Read in: 77 lines from jsonl file: data/wiki-raw/sample-enwiki-20211220/AB/wiki_73\n",
      "Dataframe columns: Index(['id', 'revid', 'url', 'title', 'text'], dtype='object')\n",
      "After filtering rows with empty text, df size: 56\n",
      "Read in: 102 lines from jsonl file: data/wiki-raw/sample-enwiki-20211220/AB/wiki_97\n",
      "Dataframe columns: Index(['id', 'revid', 'url', 'title', 'text'], dtype='object')\n",
      "After filtering rows with empty text, df size: 77\n",
      "Read in: 75 lines from jsonl file: data/wiki-raw/sample-enwiki-20211220/AB/wiki_56\n",
      "Dataframe columns: Index(['id', 'revid', 'url', 'title', 'text'], dtype='object')\n",
      "After filtering rows with empty text, df size: 43\n",
      "Read in: 77 lines from jsonl file: data/wiki-raw/sample-enwiki-20211220/AB/wiki_39\n",
      "Dataframe columns: Index(['id', 'revid', 'url', 'title', 'text'], dtype='object')\n",
      "After filtering rows with empty text, df size: 44\n",
      "Read in: 66 lines from jsonl file: data/wiki-raw/sample-enwiki-20211220/AB/wiki_23\n",
      "Dataframe columns: Index(['id', 'revid', 'url', 'title', 'text'], dtype='object')\n",
      "After filtering rows with empty text, df size: 52\n",
      "Read in: 56 lines from jsonl file: data/wiki-raw/sample-enwiki-20211220/AB/wiki_88\n",
      "Dataframe columns: Index(['id', 'revid', 'url', 'title', 'text'], dtype='object')\n",
      "After filtering rows with empty text, df size: 43\n",
      "Read in: 62 lines from jsonl file: data/wiki-raw/sample-enwiki-20211220/AB/wiki_42\n",
      "Dataframe columns: Index(['id', 'revid', 'url', 'title', 'text'], dtype='object')\n",
      "After filtering rows with empty text, df size: 43\n",
      "Read in: 59 lines from jsonl file: data/wiki-raw/sample-enwiki-20211220/AB/wiki_86\n",
      "Dataframe columns: Index(['id', 'revid', 'url', 'title', 'text'], dtype='object')\n",
      "After filtering rows with empty text, df size: 49\n",
      "Read in: 88 lines from jsonl file: data/wiki-raw/sample-enwiki-20211220/AB/wiki_87\n",
      "Dataframe columns: Index(['id', 'revid', 'url', 'title', 'text'], dtype='object')\n",
      "After filtering rows with empty text, df size: 72\n",
      "Read in: 43 lines from jsonl file: data/wiki-raw/sample-enwiki-20211220/AB/wiki_51\n",
      "Dataframe columns: Index(['id', 'revid', 'url', 'title', 'text'], dtype='object')\n",
      "After filtering rows with empty text, df size: 37\n",
      "Read in: 84 lines from jsonl file: data/wiki-raw/sample-enwiki-20211220/AB/wiki_01\n",
      "Dataframe columns: Index(['id', 'revid', 'url', 'title', 'text'], dtype='object')\n",
      "After filtering rows with empty text, df size: 38\n",
      "Read in: 72 lines from jsonl file: data/wiki-raw/sample-enwiki-20211220/AB/wiki_65\n",
      "Dataframe columns: Index(['id', 'revid', 'url', 'title', 'text'], dtype='object')\n",
      "After filtering rows with empty text, df size: 58\n",
      "Read in: 65 lines from jsonl file: data/wiki-raw/sample-enwiki-20211220/AB/wiki_27\n",
      "Dataframe columns: Index(['id', 'revid', 'url', 'title', 'text'], dtype='object')\n",
      "After filtering rows with empty text, df size: 49\n",
      "Read in: 94 lines from jsonl file: data/wiki-raw/sample-enwiki-20211220/AB/wiki_89\n",
      "Dataframe columns: Index(['id', 'revid', 'url', 'title', 'text'], dtype='object')\n",
      "After filtering rows with empty text, df size: 50\n",
      "Read in: 64 lines from jsonl file: data/wiki-raw/sample-enwiki-20211220/AB/wiki_17\n",
      "Dataframe columns: Index(['id', 'revid', 'url', 'title', 'text'], dtype='object')\n",
      "After filtering rows with empty text, df size: 43\n",
      "Read in: 61 lines from jsonl file: data/wiki-raw/sample-enwiki-20211220/AB/wiki_02\n",
      "Dataframe columns: Index(['id', 'revid', 'url', 'title', 'text'], dtype='object')\n",
      "After filtering rows with empty text, df size: 45\n",
      "Read in: 80 lines from jsonl file: data/wiki-raw/sample-enwiki-20211220/AB/wiki_28\n",
      "Dataframe columns: Index(['id', 'revid', 'url', 'title', 'text'], dtype='object')\n",
      "After filtering rows with empty text, df size: 48\n",
      "Read in: 98 lines from jsonl file: data/wiki-raw/sample-enwiki-20211220/AB/wiki_52\n",
      "Dataframe columns: Index(['id', 'revid', 'url', 'title', 'text'], dtype='object')\n",
      "After filtering rows with empty text, df size: 71\n",
      "Read in: 55 lines from jsonl file: data/wiki-raw/sample-enwiki-20211220/AB/wiki_96\n",
      "Dataframe columns: Index(['id', 'revid', 'url', 'title', 'text'], dtype='object')\n",
      "After filtering rows with empty text, df size: 38\n",
      "Read in: 80 lines from jsonl file: data/wiki-raw/sample-enwiki-20211220/AB/wiki_46\n",
      "Dataframe columns: Index(['id', 'revid', 'url', 'title', 'text'], dtype='object')\n",
      "After filtering rows with empty text, df size: 69\n",
      "Read in: 86 lines from jsonl file: data/wiki-raw/sample-enwiki-20211220/AB/wiki_00\n",
      "Dataframe columns: Index(['id', 'revid', 'url', 'title', 'text'], dtype='object')\n",
      "After filtering rows with empty text, df size: 62\n",
      "Read in: 67 lines from jsonl file: data/wiki-raw/sample-enwiki-20211220/AB/wiki_19\n",
      "Dataframe columns: Index(['id', 'revid', 'url', 'title', 'text'], dtype='object')\n",
      "After filtering rows with empty text, df size: 43\n",
      "Read in: 77 lines from jsonl file: data/wiki-raw/sample-enwiki-20211220/AB/wiki_34\n",
      "Dataframe columns: Index(['id', 'revid', 'url', 'title', 'text'], dtype='object')\n",
      "After filtering rows with empty text, df size: 56\n",
      "Read in: 65 lines from jsonl file: data/wiki-raw/sample-enwiki-20211220/AB/wiki_25\n",
      "Dataframe columns: Index(['id', 'revid', 'url', 'title', 'text'], dtype='object')\n",
      "After filtering rows with empty text, df size: 50\n",
      "Read in: 45 lines from jsonl file: data/wiki-raw/sample-enwiki-20211220/AB/wiki_90\n",
      "Dataframe columns: Index(['id', 'revid', 'url', 'title', 'text'], dtype='object')\n",
      "After filtering rows with empty text, df size: 35\n",
      "Read in: 66 lines from jsonl file: data/wiki-raw/sample-enwiki-20211220/AB/wiki_38\n",
      "Dataframe columns: Index(['id', 'revid', 'url', 'title', 'text'], dtype='object')\n",
      "After filtering rows with empty text, df size: 40\n",
      "Read in: 85 lines from jsonl file: data/wiki-raw/sample-enwiki-20211220/AB/wiki_71\n",
      "Dataframe columns: Index(['id', 'revid', 'url', 'title', 'text'], dtype='object')\n",
      "After filtering rows with empty text, df size: 77\n",
      "Read in: 92 lines from jsonl file: data/wiki-raw/sample-enwiki-20211220/AB/wiki_63\n",
      "Dataframe columns: Index(['id', 'revid', 'url', 'title', 'text'], dtype='object')\n",
      "After filtering rows with empty text, df size: 64\n",
      "Read in: 68 lines from jsonl file: data/wiki-raw/sample-enwiki-20211220/AB/wiki_15\n",
      "Dataframe columns: Index(['id', 'revid', 'url', 'title', 'text'], dtype='object')\n",
      "After filtering rows with empty text, df size: 33\n",
      "Read in: 33 lines from jsonl file: data/wiki-raw/sample-enwiki-20211220/AB/wiki_20\n",
      "Dataframe columns: Index(['id', 'revid', 'url', 'title', 'text'], dtype='object')\n",
      "After filtering rows with empty text, df size: 28\n",
      "Read in: 83 lines from jsonl file: data/wiki-raw/sample-enwiki-20211220/AB/wiki_57\n",
      "Dataframe columns: Index(['id', 'revid', 'url', 'title', 'text'], dtype='object')\n",
      "After filtering rows with empty text, df size: 55\n",
      "Read in: 80 lines from jsonl file: data/wiki-raw/sample-enwiki-20211220/AB/wiki_98\n",
      "Dataframe columns: Index(['id', 'revid', 'url', 'title', 'text'], dtype='object')\n",
      "After filtering rows with empty text, df size: 57\n",
      "Read in: 44 lines from jsonl file: data/wiki-raw/sample-enwiki-20211220/AB/wiki_29\n",
      "Dataframe columns: Index(['id', 'revid', 'url', 'title', 'text'], dtype='object')\n",
      "After filtering rows with empty text, df size: 36\n",
      "Read in: 55 lines from jsonl file: data/wiki-raw/sample-enwiki-20211220/AB/wiki_44\n",
      "Dataframe columns: Index(['id', 'revid', 'url', 'title', 'text'], dtype='object')\n",
      "After filtering rows with empty text, df size: 46\n",
      "Read in: 72 lines from jsonl file: data/wiki-raw/sample-enwiki-20211220/AB/wiki_83\n",
      "Dataframe columns: Index(['id', 'revid', 'url', 'title', 'text'], dtype='object')\n",
      "After filtering rows with empty text, df size: 53\n",
      "Read in: 65 lines from jsonl file: data/wiki-raw/sample-enwiki-20211220/AB/wiki_07\n",
      "Dataframe columns: Index(['id', 'revid', 'url', 'title', 'text'], dtype='object')\n",
      "After filtering rows with empty text, df size: 55\n",
      "Read in: 63 lines from jsonl file: data/wiki-raw/sample-enwiki-20211220/AB/wiki_12\n",
      "Dataframe columns: Index(['id', 'revid', 'url', 'title', 'text'], dtype='object')\n",
      "After filtering rows with empty text, df size: 57\n",
      "Read in: 87 lines from jsonl file: data/wiki-raw/sample-enwiki-20211220/AB/wiki_35\n",
      "Dataframe columns: Index(['id', 'revid', 'url', 'title', 'text'], dtype='object')\n",
      "After filtering rows with empty text, df size: 71\n",
      "Read in: 63 lines from jsonl file: data/wiki-raw/sample-enwiki-20211220/AB/wiki_68\n",
      "Dataframe columns: Index(['id', 'revid', 'url', 'title', 'text'], dtype='object')\n",
      "After filtering rows with empty text, df size: 43\n",
      "Read in: 51 lines from jsonl file: data/wiki-raw/sample-enwiki-20211220/AB/wiki_22\n",
      "Dataframe columns: Index(['id', 'revid', 'url', 'title', 'text'], dtype='object')\n",
      "After filtering rows with empty text, df size: 39\n",
      "Read in: 86 lines from jsonl file: data/wiki-raw/sample-enwiki-20211220/AB/wiki_77\n",
      "Dataframe columns: Index(['id', 'revid', 'url', 'title', 'text'], dtype='object')\n",
      "After filtering rows with empty text, df size: 48\n",
      "Read in: 79 lines from jsonl file: data/wiki-raw/sample-enwiki-20211220/AB/wiki_62\n",
      "Dataframe columns: Index(['id', 'revid', 'url', 'title', 'text'], dtype='object')\n",
      "After filtering rows with empty text, df size: 62\n",
      "Read in: 79 lines from jsonl file: data/wiki-raw/sample-enwiki-20211220/AB/wiki_13\n",
      "Dataframe columns: Index(['id', 'revid', 'url', 'title', 'text'], dtype='object')\n",
      "After filtering rows with empty text, df size: 47\n",
      "Read in: 45 lines from jsonl file: data/wiki-raw/sample-enwiki-20211220/AB/wiki_50\n",
      "Dataframe columns: Index(['id', 'revid', 'url', 'title', 'text'], dtype='object')\n",
      "After filtering rows with empty text, df size: 39\n",
      "Read in: 45 lines from jsonl file: data/wiki-raw/sample-enwiki-20211220/AB/wiki_41\n",
      "Dataframe columns: Index(['id', 'revid', 'url', 'title', 'text'], dtype='object')\n",
      "After filtering rows with empty text, df size: 30\n",
      "Read in: 53 lines from jsonl file: data/wiki-raw/sample-enwiki-20211220/AB/wiki_75\n",
      "Dataframe columns: Index(['id', 'revid', 'url', 'title', 'text'], dtype='object')\n",
      "After filtering rows with empty text, df size: 40\n",
      "Read in: 131 lines from jsonl file: data/wiki-raw/sample-enwiki-20211220/AB/wiki_54\n",
      "Dataframe columns: Index(['id', 'revid', 'url', 'title', 'text'], dtype='object')\n",
      "After filtering rows with empty text, df size: 93\n",
      "Read in: 56 lines from jsonl file: data/wiki-raw/sample-enwiki-20211220/AB/wiki_32\n",
      "Dataframe columns: Index(['id', 'revid', 'url', 'title', 'text'], dtype='object')\n",
      "After filtering rows with empty text, df size: 41\n",
      "Read in: 70 lines from jsonl file: data/wiki-raw/sample-enwiki-20211220/AB/wiki_49\n",
      "Dataframe columns: Index(['id', 'revid', 'url', 'title', 'text'], dtype='object')\n",
      "After filtering rows with empty text, df size: 57\n",
      "Read in: 77 lines from jsonl file: data/wiki-raw/sample-enwiki-20211220/AB/wiki_80\n",
      "Dataframe columns: Index(['id', 'revid', 'url', 'title', 'text'], dtype='object')\n",
      "After filtering rows with empty text, df size: 55\n",
      "Read in: 82 lines from jsonl file: data/wiki-raw/sample-enwiki-20211220/AB/wiki_03\n",
      "Dataframe columns: Index(['id', 'revid', 'url', 'title', 'text'], dtype='object')\n",
      "After filtering rows with empty text, df size: 58\n",
      "Read in: 63 lines from jsonl file: data/wiki-raw/sample-enwiki-20211220/AB/wiki_61\n",
      "Dataframe columns: Index(['id', 'revid', 'url', 'title', 'text'], dtype='object')\n",
      "After filtering rows with empty text, df size: 52\n",
      "Read in: 35 lines from jsonl file: data/wiki-raw/sample-enwiki-20211220/AB/wiki_91\n",
      "Dataframe columns: Index(['id', 'revid', 'url', 'title', 'text'], dtype='object')\n",
      "After filtering rows with empty text, df size: 30\n",
      "Read in: 71 lines from jsonl file: data/wiki-raw/sample-enwiki-20211220/AB/wiki_43\n",
      "Dataframe columns: Index(['id', 'revid', 'url', 'title', 'text'], dtype='object')\n",
      "After filtering rows with empty text, df size: 45\n",
      "Read in: 65 lines from jsonl file: data/wiki-raw/sample-enwiki-20211220/AB/wiki_58\n",
      "Dataframe columns: Index(['id', 'revid', 'url', 'title', 'text'], dtype='object')\n",
      "After filtering rows with empty text, df size: 62\n",
      "Read in: 53 lines from jsonl file: data/wiki-raw/sample-enwiki-20211220/AB/wiki_59\n",
      "Dataframe columns: Index(['id', 'revid', 'url', 'title', 'text'], dtype='object')\n",
      "After filtering rows with empty text, df size: 47\n",
      "Read in: 76 lines from jsonl file: data/wiki-raw/sample-enwiki-20211220/AB/wiki_84\n",
      "Dataframe columns: Index(['id', 'revid', 'url', 'title', 'text'], dtype='object')\n",
      "After filtering rows with empty text, df size: 57\n",
      "Read in: 61 lines from jsonl file: data/wiki-raw/sample-enwiki-20211220/AB/wiki_76\n",
      "Dataframe columns: Index(['id', 'revid', 'url', 'title', 'text'], dtype='object')\n",
      "After filtering rows with empty text, df size: 36\n",
      "Read in: 81 lines from jsonl file: data/wiki-raw/sample-enwiki-20211220/AB/wiki_36\n",
      "Dataframe columns: Index(['id', 'revid', 'url', 'title', 'text'], dtype='object')\n",
      "After filtering rows with empty text, df size: 51\n",
      "Read in: 71 lines from jsonl file: data/wiki-raw/sample-enwiki-20211220/AB/wiki_04\n",
      "Dataframe columns: Index(['id', 'revid', 'url', 'title', 'text'], dtype='object')\n",
      "After filtering rows with empty text, df size: 57\n",
      "Read in: 56 lines from jsonl file: data/wiki-raw/sample-enwiki-20211220/AB/wiki_60\n",
      "Dataframe columns: Index(['id', 'revid', 'url', 'title', 'text'], dtype='object')\n",
      "After filtering rows with empty text, df size: 43\n",
      "Read in: 76 lines from jsonl file: data/wiki-raw/sample-enwiki-20211220/AB/wiki_08\n",
      "Dataframe columns: Index(['id', 'revid', 'url', 'title', 'text'], dtype='object')\n",
      "After filtering rows with empty text, df size: 66\n",
      "Read in: 81 lines from jsonl file: data/wiki-raw/sample-enwiki-20211220/AB/wiki_10\n",
      "Dataframe columns: Index(['id', 'revid', 'url', 'title', 'text'], dtype='object')\n",
      "After filtering rows with empty text, df size: 60\n",
      "Read in: 80 lines from jsonl file: data/wiki-raw/sample-enwiki-20211220/AB/wiki_09\n",
      "Dataframe columns: Index(['id', 'revid', 'url', 'title', 'text'], dtype='object')\n",
      "After filtering rows with empty text, df size: 58\n",
      "Read in: 95 lines from jsonl file: data/wiki-raw/sample-enwiki-20211220/AB/wiki_94\n",
      "Dataframe columns: Index(['id', 'revid', 'url', 'title', 'text'], dtype='object')\n",
      "After filtering rows with empty text, df size: 64\n",
      "Read in: 67 lines from jsonl file: data/wiki-raw/sample-enwiki-20211220/AB/wiki_85\n",
      "Dataframe columns: Index(['id', 'revid', 'url', 'title', 'text'], dtype='object')\n",
      "After filtering rows with empty text, df size: 59\n",
      "Read in: 60 lines from jsonl file: data/wiki-raw/sample-enwiki-20211220/AB/wiki_70\n",
      "Dataframe columns: Index(['id', 'revid', 'url', 'title', 'text'], dtype='object')\n",
      "After filtering rows with empty text, df size: 54\n",
      "Read in: 59 lines from jsonl file: data/wiki-raw/sample-enwiki-20211220/AB/wiki_78\n",
      "Dataframe columns: Index(['id', 'revid', 'url', 'title', 'text'], dtype='object')\n",
      "After filtering rows with empty text, df size: 45\n",
      "Read in: 59 lines from jsonl file: data/wiki-raw/sample-enwiki-20211220/AB/wiki_05\n",
      "Dataframe columns: Index(['id', 'revid', 'url', 'title', 'text'], dtype='object')\n",
      "After filtering rows with empty text, df size: 46\n",
      "Read in: 66 lines from jsonl file: data/wiki-raw/sample-enwiki-20211220/AB/wiki_30\n",
      "Dataframe columns: Index(['id', 'revid', 'url', 'title', 'text'], dtype='object')\n",
      "After filtering rows with empty text, df size: 55\n",
      "Read in: 94 lines from jsonl file: data/wiki-raw/sample-enwiki-20211220/AB/wiki_55\n",
      "Dataframe columns: Index(['id', 'revid', 'url', 'title', 'text'], dtype='object')\n",
      "After filtering rows with empty text, df size: 73\n",
      "Read in: 112 lines from jsonl file: data/wiki-raw/sample-enwiki-20211220/AB/wiki_40\n",
      "Dataframe columns: Index(['id', 'revid', 'url', 'title', 'text'], dtype='object')\n",
      "After filtering rows with empty text, df size: 54\n",
      "Read in: 72 lines from jsonl file: data/wiki-raw/sample-enwiki-20211220/AB/wiki_11\n",
      "Dataframe columns: Index(['id', 'revid', 'url', 'title', 'text'], dtype='object')\n",
      "After filtering rows with empty text, df size: 58\n",
      "Read in: 43 lines from jsonl file: data/wiki-raw/sample-enwiki-20211220/AB/wiki_24\n",
      "Dataframe columns: Index(['id', 'revid', 'url', 'title', 'text'], dtype='object')\n",
      "After filtering rows with empty text, df size: 37\n",
      "Read in: 74 lines from jsonl file: data/wiki-raw/sample-enwiki-20211220/AB/wiki_82\n",
      "Dataframe columns: Index(['id', 'revid', 'url', 'title', 'text'], dtype='object')\n",
      "After filtering rows with empty text, df size: 59\n",
      "Read in: 84 lines from jsonl file: data/wiki-raw/sample-enwiki-20211220/AB/wiki_31\n",
      "Dataframe columns: Index(['id', 'revid', 'url', 'title', 'text'], dtype='object')\n",
      "After filtering rows with empty text, df size: 61\n",
      "Read in: 69 lines from jsonl file: data/wiki-raw/sample-enwiki-20211220/AB/wiki_99\n",
      "Dataframe columns: Index(['id', 'revid', 'url', 'title', 'text'], dtype='object')\n",
      "After filtering rows with empty text, df size: 46\n",
      "Read in: 78 lines from jsonl file: data/wiki-raw/sample-enwiki-20211220/AB/wiki_93\n",
      "Dataframe columns: Index(['id', 'revid', 'url', 'title', 'text'], dtype='object')\n",
      "After filtering rows with empty text, df size: 53\n",
      "Read in: 49 lines from jsonl file: data/wiki-raw/sample-enwiki-20211220/AB/wiki_21\n",
      "Dataframe columns: Index(['id', 'revid', 'url', 'title', 'text'], dtype='object')\n",
      "After filtering rows with empty text, df size: 38\n",
      "Read in: 73 lines from jsonl file: data/wiki-raw/sample-enwiki-20211220/AB/wiki_66\n",
      "Dataframe columns: Index(['id', 'revid', 'url', 'title', 'text'], dtype='object')\n",
      "After filtering rows with empty text, df size: 56\n",
      "Read in: 47 lines from jsonl file: data/wiki-raw/sample-enwiki-20211220/AB/wiki_18\n",
      "Dataframe columns: Index(['id', 'revid', 'url', 'title', 'text'], dtype='object')\n",
      "After filtering rows with empty text, df size: 40\n",
      "Read in: 83 lines from jsonl file: data/wiki-raw/sample-enwiki-20211220/AB/wiki_92\n",
      "Dataframe columns: Index(['id', 'revid', 'url', 'title', 'text'], dtype='object')\n",
      "After filtering rows with empty text, df size: 67\n",
      "Read in: 78 lines from jsonl file: data/wiki-raw/sample-enwiki-20211220/AB/wiki_72\n",
      "Dataframe columns: Index(['id', 'revid', 'url', 'title', 'text'], dtype='object')\n",
      "After filtering rows with empty text, df size: 55\n",
      "Read in: 62 lines from jsonl file: data/wiki-raw/sample-enwiki-20211220/AB/wiki_16\n",
      "Dataframe columns: Index(['id', 'revid', 'url', 'title', 'text'], dtype='object')\n",
      "After filtering rows with empty text, df size: 49\n",
      "Read in: 77 lines from jsonl file: data/wiki-raw/sample-enwiki-20211220/AB/wiki_79\n",
      "Dataframe columns: Index(['id', 'revid', 'url', 'title', 'text'], dtype='object')\n",
      "After filtering rows with empty text, df size: 63\n",
      "Read in: 68 lines from jsonl file: data/wiki-raw/sample-enwiki-20211220/AB/wiki_33\n",
      "Dataframe columns: Index(['id', 'revid', 'url', 'title', 'text'], dtype='object')\n",
      "After filtering rows with empty text, df size: 57\n",
      "Read in: 75 lines from jsonl file: data/wiki-raw/sample-enwiki-20211220/AB/wiki_26\n",
      "Dataframe columns: Index(['id', 'revid', 'url', 'title', 'text'], dtype='object')\n",
      "After filtering rows with empty text, df size: 59\n",
      "Read in: 115 lines from jsonl file: data/wiki-raw/sample-enwiki-20211220/AB/wiki_67\n",
      "Dataframe columns: Index(['id', 'revid', 'url', 'title', 'text'], dtype='object')\n",
      "After filtering rows with empty text, df size: 61\n",
      "Read in: 60 lines from jsonl file: data/wiki-raw/sample-enwiki-20211220/AB/wiki_48\n",
      "Dataframe columns: Index(['id', 'revid', 'url', 'title', 'text'], dtype='object')\n",
      "After filtering rows with empty text, df size: 43\n",
      "Read in: 76 lines from jsonl file: data/wiki-raw/sample-enwiki-20211220/AB/wiki_81\n",
      "Dataframe columns: Index(['id', 'revid', 'url', 'title', 'text'], dtype='object')\n",
      "After filtering rows with empty text, df size: 51\n",
      "Read in: 99 lines from jsonl file: data/wiki-raw/sample-enwiki-20211220/AB/wiki_53\n",
      "Dataframe columns: Index(['id', 'revid', 'url', 'title', 'text'], dtype='object')\n",
      "After filtering rows with empty text, df size: 70\n",
      "Read in: 48 lines from jsonl file: data/wiki-raw/sample-enwiki-20211220/AB/wiki_69\n",
      "Dataframe columns: Index(['id', 'revid', 'url', 'title', 'text'], dtype='object')\n",
      "After filtering rows with empty text, df size: 40\n",
      "Read in: 60 lines from jsonl file: data/wiki-raw/sample-enwiki-20211220/AA/wiki_74\n",
      "Dataframe columns: Index(['id', 'revid', 'url', 'title', 'text'], dtype='object')\n",
      "After filtering rows with empty text, df size: 47\n",
      "Read in: 88 lines from jsonl file: data/wiki-raw/sample-enwiki-20211220/AA/wiki_64\n",
      "Dataframe columns: Index(['id', 'revid', 'url', 'title', 'text'], dtype='object')\n",
      "After filtering rows with empty text, df size: 67\n",
      "Read in: 53 lines from jsonl file: data/wiki-raw/sample-enwiki-20211220/AA/wiki_47\n",
      "Dataframe columns: Index(['id', 'revid', 'url', 'title', 'text'], dtype='object')\n",
      "After filtering rows with empty text, df size: 44\n",
      "Read in: 75 lines from jsonl file: data/wiki-raw/sample-enwiki-20211220/AA/wiki_45\n",
      "Dataframe columns: Index(['id', 'revid', 'url', 'title', 'text'], dtype='object')\n",
      "After filtering rows with empty text, df size: 46\n",
      "Read in: 55 lines from jsonl file: data/wiki-raw/sample-enwiki-20211220/AA/wiki_06\n",
      "Dataframe columns: Index(['id', 'revid', 'url', 'title', 'text'], dtype='object')\n",
      "After filtering rows with empty text, df size: 42\n",
      "Read in: 58 lines from jsonl file: data/wiki-raw/sample-enwiki-20211220/AA/wiki_14\n",
      "Dataframe columns: Index(['id', 'revid', 'url', 'title', 'text'], dtype='object')\n",
      "After filtering rows with empty text, df size: 47\n",
      "Read in: 67 lines from jsonl file: data/wiki-raw/sample-enwiki-20211220/AA/wiki_37\n",
      "Dataframe columns: Index(['id', 'revid', 'url', 'title', 'text'], dtype='object')\n",
      "After filtering rows with empty text, df size: 53\n",
      "Read in: 58 lines from jsonl file: data/wiki-raw/sample-enwiki-20211220/AA/wiki_95\n",
      "Dataframe columns: Index(['id', 'revid', 'url', 'title', 'text'], dtype='object')\n",
      "After filtering rows with empty text, df size: 40\n",
      "Read in: 62 lines from jsonl file: data/wiki-raw/sample-enwiki-20211220/AA/wiki_73\n",
      "Dataframe columns: Index(['id', 'revid', 'url', 'title', 'text'], dtype='object')\n",
      "After filtering rows with empty text, df size: 49\n",
      "Read in: 94 lines from jsonl file: data/wiki-raw/sample-enwiki-20211220/AA/wiki_97\n",
      "Dataframe columns: Index(['id', 'revid', 'url', 'title', 'text'], dtype='object')\n",
      "After filtering rows with empty text, df size: 68\n",
      "Read in: 64 lines from jsonl file: data/wiki-raw/sample-enwiki-20211220/AA/wiki_56\n",
      "Dataframe columns: Index(['id', 'revid', 'url', 'title', 'text'], dtype='object')\n",
      "After filtering rows with empty text, df size: 52\n",
      "Read in: 75 lines from jsonl file: data/wiki-raw/sample-enwiki-20211220/AA/wiki_39\n",
      "Dataframe columns: Index(['id', 'revid', 'url', 'title', 'text'], dtype='object')\n",
      "After filtering rows with empty text, df size: 64\n",
      "Read in: 118 lines from jsonl file: data/wiki-raw/sample-enwiki-20211220/AA/wiki_23\n",
      "Dataframe columns: Index(['id', 'revid', 'url', 'title', 'text'], dtype='object')\n",
      "After filtering rows with empty text, df size: 69\n",
      "Read in: 61 lines from jsonl file: data/wiki-raw/sample-enwiki-20211220/AA/wiki_88\n",
      "Dataframe columns: Index(['id', 'revid', 'url', 'title', 'text'], dtype='object')\n",
      "After filtering rows with empty text, df size: 47\n",
      "Read in: 57 lines from jsonl file: data/wiki-raw/sample-enwiki-20211220/AA/wiki_42\n",
      "Dataframe columns: Index(['id', 'revid', 'url', 'title', 'text'], dtype='object')\n",
      "After filtering rows with empty text, df size: 41\n",
      "Read in: 67 lines from jsonl file: data/wiki-raw/sample-enwiki-20211220/AA/wiki_86\n",
      "Dataframe columns: Index(['id', 'revid', 'url', 'title', 'text'], dtype='object')\n",
      "After filtering rows with empty text, df size: 53\n",
      "Read in: 77 lines from jsonl file: data/wiki-raw/sample-enwiki-20211220/AA/wiki_87\n",
      "Dataframe columns: Index(['id', 'revid', 'url', 'title', 'text'], dtype='object')\n",
      "After filtering rows with empty text, df size: 60\n",
      "Read in: 79 lines from jsonl file: data/wiki-raw/sample-enwiki-20211220/AA/wiki_51\n",
      "Dataframe columns: Index(['id', 'revid', 'url', 'title', 'text'], dtype='object')\n",
      "After filtering rows with empty text, df size: 57\n",
      "Read in: 54 lines from jsonl file: data/wiki-raw/sample-enwiki-20211220/AA/wiki_01\n",
      "Dataframe columns: Index(['id', 'revid', 'url', 'title', 'text'], dtype='object')\n",
      "After filtering rows with empty text, df size: 41\n",
      "Read in: 97 lines from jsonl file: data/wiki-raw/sample-enwiki-20211220/AA/wiki_65\n",
      "Dataframe columns: Index(['id', 'revid', 'url', 'title', 'text'], dtype='object')\n",
      "After filtering rows with empty text, df size: 64\n",
      "Read in: 75 lines from jsonl file: data/wiki-raw/sample-enwiki-20211220/AA/wiki_27\n",
      "Dataframe columns: Index(['id', 'revid', 'url', 'title', 'text'], dtype='object')\n",
      "After filtering rows with empty text, df size: 59\n",
      "Read in: 117 lines from jsonl file: data/wiki-raw/sample-enwiki-20211220/AA/wiki_89\n",
      "Dataframe columns: Index(['id', 'revid', 'url', 'title', 'text'], dtype='object')\n",
      "After filtering rows with empty text, df size: 109\n",
      "Read in: 78 lines from jsonl file: data/wiki-raw/sample-enwiki-20211220/AA/wiki_17\n",
      "Dataframe columns: Index(['id', 'revid', 'url', 'title', 'text'], dtype='object')\n",
      "After filtering rows with empty text, df size: 61\n",
      "Read in: 43 lines from jsonl file: data/wiki-raw/sample-enwiki-20211220/AA/wiki_02\n",
      "Dataframe columns: Index(['id', 'revid', 'url', 'title', 'text'], dtype='object')\n",
      "After filtering rows with empty text, df size: 32\n",
      "Read in: 69 lines from jsonl file: data/wiki-raw/sample-enwiki-20211220/AA/wiki_28\n",
      "Dataframe columns: Index(['id', 'revid', 'url', 'title', 'text'], dtype='object')\n",
      "After filtering rows with empty text, df size: 55\n",
      "Read in: 78 lines from jsonl file: data/wiki-raw/sample-enwiki-20211220/AA/wiki_52\n",
      "Dataframe columns: Index(['id', 'revid', 'url', 'title', 'text'], dtype='object')\n",
      "After filtering rows with empty text, df size: 63\n",
      "Read in: 58 lines from jsonl file: data/wiki-raw/sample-enwiki-20211220/AA/wiki_96\n",
      "Dataframe columns: Index(['id', 'revid', 'url', 'title', 'text'], dtype='object')\n",
      "After filtering rows with empty text, df size: 49\n",
      "Read in: 53 lines from jsonl file: data/wiki-raw/sample-enwiki-20211220/AA/wiki_46\n",
      "Dataframe columns: Index(['id', 'revid', 'url', 'title', 'text'], dtype='object')\n",
      "After filtering rows with empty text, df size: 47\n",
      "Read in: 111 lines from jsonl file: data/wiki-raw/sample-enwiki-20211220/AA/wiki_00\n",
      "Dataframe columns: Index(['id', 'revid', 'url', 'title', 'text'], dtype='object')\n",
      "After filtering rows with empty text, df size: 36\n",
      "Read in: 141 lines from jsonl file: data/wiki-raw/sample-enwiki-20211220/AA/wiki_19\n",
      "Dataframe columns: Index(['id', 'revid', 'url', 'title', 'text'], dtype='object')\n",
      "After filtering rows with empty text, df size: 100\n",
      "Read in: 57 lines from jsonl file: data/wiki-raw/sample-enwiki-20211220/AA/wiki_34\n",
      "Dataframe columns: Index(['id', 'revid', 'url', 'title', 'text'], dtype='object')\n",
      "After filtering rows with empty text, df size: 49\n",
      "Read in: 49 lines from jsonl file: data/wiki-raw/sample-enwiki-20211220/AA/wiki_25\n",
      "Dataframe columns: Index(['id', 'revid', 'url', 'title', 'text'], dtype='object')\n",
      "After filtering rows with empty text, df size: 41\n",
      "Read in: 118 lines from jsonl file: data/wiki-raw/sample-enwiki-20211220/AA/wiki_90\n",
      "Dataframe columns: Index(['id', 'revid', 'url', 'title', 'text'], dtype='object')\n",
      "After filtering rows with empty text, df size: 58\n",
      "Read in: 69 lines from jsonl file: data/wiki-raw/sample-enwiki-20211220/AA/wiki_38\n",
      "Dataframe columns: Index(['id', 'revid', 'url', 'title', 'text'], dtype='object')\n",
      "After filtering rows with empty text, df size: 56\n",
      "Read in: 65 lines from jsonl file: data/wiki-raw/sample-enwiki-20211220/AA/wiki_71\n",
      "Dataframe columns: Index(['id', 'revid', 'url', 'title', 'text'], dtype='object')\n",
      "After filtering rows with empty text, df size: 53\n",
      "Read in: 79 lines from jsonl file: data/wiki-raw/sample-enwiki-20211220/AA/wiki_63\n",
      "Dataframe columns: Index(['id', 'revid', 'url', 'title', 'text'], dtype='object')\n",
      "After filtering rows with empty text, df size: 68\n",
      "Read in: 62 lines from jsonl file: data/wiki-raw/sample-enwiki-20211220/AA/wiki_15\n",
      "Dataframe columns: Index(['id', 'revid', 'url', 'title', 'text'], dtype='object')\n",
      "After filtering rows with empty text, df size: 52\n",
      "Read in: 94 lines from jsonl file: data/wiki-raw/sample-enwiki-20211220/AA/wiki_20\n",
      "Dataframe columns: Index(['id', 'revid', 'url', 'title', 'text'], dtype='object')\n",
      "After filtering rows with empty text, df size: 71\n",
      "Read in: 54 lines from jsonl file: data/wiki-raw/sample-enwiki-20211220/AA/wiki_57\n",
      "Dataframe columns: Index(['id', 'revid', 'url', 'title', 'text'], dtype='object')\n",
      "After filtering rows with empty text, df size: 39\n",
      "Read in: 77 lines from jsonl file: data/wiki-raw/sample-enwiki-20211220/AA/wiki_98\n",
      "Dataframe columns: Index(['id', 'revid', 'url', 'title', 'text'], dtype='object')\n",
      "After filtering rows with empty text, df size: 64\n",
      "Read in: 57 lines from jsonl file: data/wiki-raw/sample-enwiki-20211220/AA/wiki_29\n",
      "Dataframe columns: Index(['id', 'revid', 'url', 'title', 'text'], dtype='object')\n",
      "After filtering rows with empty text, df size: 44\n",
      "Read in: 98 lines from jsonl file: data/wiki-raw/sample-enwiki-20211220/AA/wiki_44\n",
      "Dataframe columns: Index(['id', 'revid', 'url', 'title', 'text'], dtype='object')\n",
      "After filtering rows with empty text, df size: 68\n",
      "Read in: 76 lines from jsonl file: data/wiki-raw/sample-enwiki-20211220/AA/wiki_83\n",
      "Dataframe columns: Index(['id', 'revid', 'url', 'title', 'text'], dtype='object')\n",
      "After filtering rows with empty text, df size: 59\n",
      "Read in: 65 lines from jsonl file: data/wiki-raw/sample-enwiki-20211220/AA/wiki_07\n",
      "Dataframe columns: Index(['id', 'revid', 'url', 'title', 'text'], dtype='object')\n",
      "After filtering rows with empty text, df size: 42\n",
      "Read in: 79 lines from jsonl file: data/wiki-raw/sample-enwiki-20211220/AA/wiki_12\n",
      "Dataframe columns: Index(['id', 'revid', 'url', 'title', 'text'], dtype='object')\n",
      "After filtering rows with empty text, df size: 60\n",
      "Read in: 56 lines from jsonl file: data/wiki-raw/sample-enwiki-20211220/AA/wiki_35\n",
      "Dataframe columns: Index(['id', 'revid', 'url', 'title', 'text'], dtype='object')\n",
      "After filtering rows with empty text, df size: 49\n",
      "Read in: 69 lines from jsonl file: data/wiki-raw/sample-enwiki-20211220/AA/wiki_68\n",
      "Dataframe columns: Index(['id', 'revid', 'url', 'title', 'text'], dtype='object')\n",
      "After filtering rows with empty text, df size: 51\n",
      "Read in: 93 lines from jsonl file: data/wiki-raw/sample-enwiki-20211220/AA/wiki_22\n",
      "Dataframe columns: Index(['id', 'revid', 'url', 'title', 'text'], dtype='object')\n",
      "After filtering rows with empty text, df size: 70\n",
      "Read in: 99 lines from jsonl file: data/wiki-raw/sample-enwiki-20211220/AA/wiki_77\n",
      "Dataframe columns: Index(['id', 'revid', 'url', 'title', 'text'], dtype='object')\n",
      "After filtering rows with empty text, df size: 47\n",
      "Read in: 75 lines from jsonl file: data/wiki-raw/sample-enwiki-20211220/AA/wiki_62\n",
      "Dataframe columns: Index(['id', 'revid', 'url', 'title', 'text'], dtype='object')\n",
      "After filtering rows with empty text, df size: 51\n",
      "Read in: 51 lines from jsonl file: data/wiki-raw/sample-enwiki-20211220/AA/wiki_13\n",
      "Dataframe columns: Index(['id', 'revid', 'url', 'title', 'text'], dtype='object')\n",
      "After filtering rows with empty text, df size: 40\n",
      "Read in: 70 lines from jsonl file: data/wiki-raw/sample-enwiki-20211220/AA/wiki_50\n",
      "Dataframe columns: Index(['id', 'revid', 'url', 'title', 'text'], dtype='object')\n",
      "After filtering rows with empty text, df size: 53\n",
      "Read in: 56 lines from jsonl file: data/wiki-raw/sample-enwiki-20211220/AA/wiki_41\n",
      "Dataframe columns: Index(['id', 'revid', 'url', 'title', 'text'], dtype='object')\n",
      "After filtering rows with empty text, df size: 34\n",
      "Read in: 84 lines from jsonl file: data/wiki-raw/sample-enwiki-20211220/AA/wiki_75\n",
      "Dataframe columns: Index(['id', 'revid', 'url', 'title', 'text'], dtype='object')\n",
      "After filtering rows with empty text, df size: 60\n",
      "Read in: 70 lines from jsonl file: data/wiki-raw/sample-enwiki-20211220/AA/wiki_54\n",
      "Dataframe columns: Index(['id', 'revid', 'url', 'title', 'text'], dtype='object')\n",
      "After filtering rows with empty text, df size: 56\n",
      "Read in: 52 lines from jsonl file: data/wiki-raw/sample-enwiki-20211220/AA/wiki_32\n",
      "Dataframe columns: Index(['id', 'revid', 'url', 'title', 'text'], dtype='object')\n",
      "After filtering rows with empty text, df size: 40\n",
      "Read in: 44 lines from jsonl file: data/wiki-raw/sample-enwiki-20211220/AA/wiki_49\n",
      "Dataframe columns: Index(['id', 'revid', 'url', 'title', 'text'], dtype='object')\n",
      "After filtering rows with empty text, df size: 36\n",
      "Read in: 96 lines from jsonl file: data/wiki-raw/sample-enwiki-20211220/AA/wiki_80\n",
      "Dataframe columns: Index(['id', 'revid', 'url', 'title', 'text'], dtype='object')\n",
      "After filtering rows with empty text, df size: 65\n",
      "Read in: 49 lines from jsonl file: data/wiki-raw/sample-enwiki-20211220/AA/wiki_03\n",
      "Dataframe columns: Index(['id', 'revid', 'url', 'title', 'text'], dtype='object')\n",
      "After filtering rows with empty text, df size: 34\n",
      "Read in: 88 lines from jsonl file: data/wiki-raw/sample-enwiki-20211220/AA/wiki_61\n",
      "Dataframe columns: Index(['id', 'revid', 'url', 'title', 'text'], dtype='object')\n",
      "After filtering rows with empty text, df size: 68\n",
      "Read in: 78 lines from jsonl file: data/wiki-raw/sample-enwiki-20211220/AA/wiki_91\n",
      "Dataframe columns: Index(['id', 'revid', 'url', 'title', 'text'], dtype='object')\n",
      "After filtering rows with empty text, df size: 63\n",
      "Read in: 54 lines from jsonl file: data/wiki-raw/sample-enwiki-20211220/AA/wiki_43\n",
      "Dataframe columns: Index(['id', 'revid', 'url', 'title', 'text'], dtype='object')\n",
      "After filtering rows with empty text, df size: 43\n",
      "Read in: 75 lines from jsonl file: data/wiki-raw/sample-enwiki-20211220/AA/wiki_58\n",
      "Dataframe columns: Index(['id', 'revid', 'url', 'title', 'text'], dtype='object')\n",
      "After filtering rows with empty text, df size: 61\n",
      "Read in: 55 lines from jsonl file: data/wiki-raw/sample-enwiki-20211220/AA/wiki_59\n",
      "Dataframe columns: Index(['id', 'revid', 'url', 'title', 'text'], dtype='object')\n",
      "After filtering rows with empty text, df size: 47\n",
      "Read in: 83 lines from jsonl file: data/wiki-raw/sample-enwiki-20211220/AA/wiki_84\n",
      "Dataframe columns: Index(['id', 'revid', 'url', 'title', 'text'], dtype='object')\n",
      "After filtering rows with empty text, df size: 66\n",
      "Read in: 80 lines from jsonl file: data/wiki-raw/sample-enwiki-20211220/AA/wiki_76\n",
      "Dataframe columns: Index(['id', 'revid', 'url', 'title', 'text'], dtype='object')\n",
      "After filtering rows with empty text, df size: 55\n",
      "Read in: 59 lines from jsonl file: data/wiki-raw/sample-enwiki-20211220/AA/wiki_36\n",
      "Dataframe columns: Index(['id', 'revid', 'url', 'title', 'text'], dtype='object')\n",
      "After filtering rows with empty text, df size: 48\n",
      "Read in: 65 lines from jsonl file: data/wiki-raw/sample-enwiki-20211220/AA/wiki_04\n",
      "Dataframe columns: Index(['id', 'revid', 'url', 'title', 'text'], dtype='object')\n",
      "After filtering rows with empty text, df size: 44\n",
      "Read in: 88 lines from jsonl file: data/wiki-raw/sample-enwiki-20211220/AA/wiki_60\n",
      "Dataframe columns: Index(['id', 'revid', 'url', 'title', 'text'], dtype='object')\n",
      "After filtering rows with empty text, df size: 68\n",
      "Read in: 91 lines from jsonl file: data/wiki-raw/sample-enwiki-20211220/AA/wiki_08\n",
      "Dataframe columns: Index(['id', 'revid', 'url', 'title', 'text'], dtype='object')\n",
      "After filtering rows with empty text, df size: 67\n",
      "Read in: 80 lines from jsonl file: data/wiki-raw/sample-enwiki-20211220/AA/wiki_10\n",
      "Dataframe columns: Index(['id', 'revid', 'url', 'title', 'text'], dtype='object')\n",
      "After filtering rows with empty text, df size: 69\n",
      "Read in: 95 lines from jsonl file: data/wiki-raw/sample-enwiki-20211220/AA/wiki_09\n",
      "Dataframe columns: Index(['id', 'revid', 'url', 'title', 'text'], dtype='object')\n",
      "After filtering rows with empty text, df size: 69\n",
      "Read in: 65 lines from jsonl file: data/wiki-raw/sample-enwiki-20211220/AA/wiki_94\n",
      "Dataframe columns: Index(['id', 'revid', 'url', 'title', 'text'], dtype='object')\n",
      "After filtering rows with empty text, df size: 46\n",
      "Read in: 68 lines from jsonl file: data/wiki-raw/sample-enwiki-20211220/AA/wiki_85\n",
      "Dataframe columns: Index(['id', 'revid', 'url', 'title', 'text'], dtype='object')\n",
      "After filtering rows with empty text, df size: 59\n",
      "Read in: 77 lines from jsonl file: data/wiki-raw/sample-enwiki-20211220/AA/wiki_70\n",
      "Dataframe columns: Index(['id', 'revid', 'url', 'title', 'text'], dtype='object')\n",
      "After filtering rows with empty text, df size: 53\n",
      "Read in: 54 lines from jsonl file: data/wiki-raw/sample-enwiki-20211220/AA/wiki_78\n",
      "Dataframe columns: Index(['id', 'revid', 'url', 'title', 'text'], dtype='object')\n",
      "After filtering rows with empty text, df size: 40\n",
      "Read in: 71 lines from jsonl file: data/wiki-raw/sample-enwiki-20211220/AA/wiki_05\n",
      "Dataframe columns: Index(['id', 'revid', 'url', 'title', 'text'], dtype='object')\n",
      "After filtering rows with empty text, df size: 50\n",
      "Read in: 60 lines from jsonl file: data/wiki-raw/sample-enwiki-20211220/AA/wiki_30\n",
      "Dataframe columns: Index(['id', 'revid', 'url', 'title', 'text'], dtype='object')\n",
      "After filtering rows with empty text, df size: 55\n",
      "Read in: 52 lines from jsonl file: data/wiki-raw/sample-enwiki-20211220/AA/wiki_55\n",
      "Dataframe columns: Index(['id', 'revid', 'url', 'title', 'text'], dtype='object')\n",
      "After filtering rows with empty text, df size: 45\n",
      "Read in: 118 lines from jsonl file: data/wiki-raw/sample-enwiki-20211220/AA/wiki_40\n",
      "Dataframe columns: Index(['id', 'revid', 'url', 'title', 'text'], dtype='object')\n",
      "After filtering rows with empty text, df size: 53\n",
      "Read in: 126 lines from jsonl file: data/wiki-raw/sample-enwiki-20211220/AA/wiki_11\n",
      "Dataframe columns: Index(['id', 'revid', 'url', 'title', 'text'], dtype='object')\n",
      "After filtering rows with empty text, df size: 97\n",
      "Read in: 34 lines from jsonl file: data/wiki-raw/sample-enwiki-20211220/AA/wiki_24\n",
      "Dataframe columns: Index(['id', 'revid', 'url', 'title', 'text'], dtype='object')\n",
      "After filtering rows with empty text, df size: 27\n",
      "Read in: 63 lines from jsonl file: data/wiki-raw/sample-enwiki-20211220/AA/wiki_82\n",
      "Dataframe columns: Index(['id', 'revid', 'url', 'title', 'text'], dtype='object')\n",
      "After filtering rows with empty text, df size: 54\n",
      "Read in: 57 lines from jsonl file: data/wiki-raw/sample-enwiki-20211220/AA/wiki_31\n",
      "Dataframe columns: Index(['id', 'revid', 'url', 'title', 'text'], dtype='object')\n",
      "After filtering rows with empty text, df size: 47\n",
      "Read in: 66 lines from jsonl file: data/wiki-raw/sample-enwiki-20211220/AA/wiki_99\n",
      "Dataframe columns: Index(['id', 'revid', 'url', 'title', 'text'], dtype='object')\n",
      "After filtering rows with empty text, df size: 52\n",
      "Read in: 81 lines from jsonl file: data/wiki-raw/sample-enwiki-20211220/AA/wiki_93\n",
      "Dataframe columns: Index(['id', 'revid', 'url', 'title', 'text'], dtype='object')\n",
      "After filtering rows with empty text, df size: 61\n",
      "Read in: 85 lines from jsonl file: data/wiki-raw/sample-enwiki-20211220/AA/wiki_21\n",
      "Dataframe columns: Index(['id', 'revid', 'url', 'title', 'text'], dtype='object')\n",
      "After filtering rows with empty text, df size: 65\n",
      "Read in: 67 lines from jsonl file: data/wiki-raw/sample-enwiki-20211220/AA/wiki_66\n",
      "Dataframe columns: Index(['id', 'revid', 'url', 'title', 'text'], dtype='object')\n",
      "After filtering rows with empty text, df size: 46\n",
      "Read in: 87 lines from jsonl file: data/wiki-raw/sample-enwiki-20211220/AA/wiki_18\n",
      "Dataframe columns: Index(['id', 'revid', 'url', 'title', 'text'], dtype='object')\n",
      "After filtering rows with empty text, df size: 63\n",
      "Read in: 52 lines from jsonl file: data/wiki-raw/sample-enwiki-20211220/AA/wiki_92\n",
      "Dataframe columns: Index(['id', 'revid', 'url', 'title', 'text'], dtype='object')\n",
      "After filtering rows with empty text, df size: 43\n",
      "Read in: 60 lines from jsonl file: data/wiki-raw/sample-enwiki-20211220/AA/wiki_72\n",
      "Dataframe columns: Index(['id', 'revid', 'url', 'title', 'text'], dtype='object')\n",
      "After filtering rows with empty text, df size: 49\n",
      "Read in: 66 lines from jsonl file: data/wiki-raw/sample-enwiki-20211220/AA/wiki_16\n",
      "Dataframe columns: Index(['id', 'revid', 'url', 'title', 'text'], dtype='object')\n",
      "After filtering rows with empty text, df size: 43\n",
      "Read in: 55 lines from jsonl file: data/wiki-raw/sample-enwiki-20211220/AA/wiki_79\n",
      "Dataframe columns: Index(['id', 'revid', 'url', 'title', 'text'], dtype='object')\n",
      "After filtering rows with empty text, df size: 51\n",
      "Read in: 46 lines from jsonl file: data/wiki-raw/sample-enwiki-20211220/AA/wiki_33\n",
      "Dataframe columns: Index(['id', 'revid', 'url', 'title', 'text'], dtype='object')\n",
      "After filtering rows with empty text, df size: 45\n",
      "Read in: 115 lines from jsonl file: data/wiki-raw/sample-enwiki-20211220/AA/wiki_26\n",
      "Dataframe columns: Index(['id', 'revid', 'url', 'title', 'text'], dtype='object')\n",
      "After filtering rows with empty text, df size: 73\n",
      "Read in: 72 lines from jsonl file: data/wiki-raw/sample-enwiki-20211220/AA/wiki_67\n",
      "Dataframe columns: Index(['id', 'revid', 'url', 'title', 'text'], dtype='object')\n",
      "After filtering rows with empty text, df size: 66\n",
      "Read in: 73 lines from jsonl file: data/wiki-raw/sample-enwiki-20211220/AA/wiki_48\n",
      "Dataframe columns: Index(['id', 'revid', 'url', 'title', 'text'], dtype='object')\n",
      "After filtering rows with empty text, df size: 56\n",
      "Read in: 51 lines from jsonl file: data/wiki-raw/sample-enwiki-20211220/AA/wiki_81\n",
      "Dataframe columns: Index(['id', 'revid', 'url', 'title', 'text'], dtype='object')\n",
      "After filtering rows with empty text, df size: 41\n",
      "Read in: 73 lines from jsonl file: data/wiki-raw/sample-enwiki-20211220/AA/wiki_53\n",
      "Dataframe columns: Index(['id', 'revid', 'url', 'title', 'text'], dtype='object')\n",
      "After filtering rows with empty text, df size: 65\n",
      "Read in: 68 lines from jsonl file: data/wiki-raw/sample-enwiki-20211220/AA/wiki_69\n",
      "Dataframe columns: Index(['id', 'revid', 'url', 'title', 'text'], dtype='object')\n",
      "After filtering rows with empty text, df size: 46\n"
     ]
    },
    {
     "ename": "TypeError",
     "evalue": "Mismatch between array dtype ('<U184370') and format specifier ('%.18e')",
     "output_type": "error",
     "traceback": [
      "\u001B[0;31m---------------------------------------------------------------------------\u001B[0m",
      "\u001B[0;31mTypeError\u001B[0m                                 Traceback (most recent call last)",
      "\u001B[0;32m~/Documents/MSc/Fall22/NLP/realm/realm-venv/lib/python3.7/site-packages/numpy/lib/npyio.py\u001B[0m in \u001B[0;36msavetxt\u001B[0;34m(fname, X, fmt, delimiter, newline, header, footer, comments, encoding)\u001B[0m\n\u001B[1;32m   1434\u001B[0m                 \u001B[0;32mtry\u001B[0m\u001B[0;34m:\u001B[0m\u001B[0;34m\u001B[0m\u001B[0;34m\u001B[0m\u001B[0m\n\u001B[0;32m-> 1435\u001B[0;31m                     \u001B[0mv\u001B[0m \u001B[0;34m=\u001B[0m \u001B[0mformat\u001B[0m \u001B[0;34m%\u001B[0m \u001B[0mtuple\u001B[0m\u001B[0;34m(\u001B[0m\u001B[0mrow\u001B[0m\u001B[0;34m)\u001B[0m \u001B[0;34m+\u001B[0m \u001B[0mnewline\u001B[0m\u001B[0;34m\u001B[0m\u001B[0;34m\u001B[0m\u001B[0m\n\u001B[0m\u001B[1;32m   1436\u001B[0m                 \u001B[0;32mexcept\u001B[0m \u001B[0mTypeError\u001B[0m \u001B[0;32mas\u001B[0m \u001B[0me\u001B[0m\u001B[0;34m:\u001B[0m\u001B[0;34m\u001B[0m\u001B[0;34m\u001B[0m\u001B[0m\n",
      "\u001B[0;31mTypeError\u001B[0m: must be real number, not numpy.str_",
      "\nThe above exception was the direct cause of the following exception:\n",
      "\u001B[0;31mTypeError\u001B[0m                                 Traceback (most recent call last)",
      "\u001B[0;32m/tmp/ipykernel_107900/3676925610.py\u001B[0m in \u001B[0;36m<module>\u001B[0;34m\u001B[0m\n\u001B[1;32m      2\u001B[0m \u001B[0;34m\u001B[0m\u001B[0m\n\u001B[1;32m      3\u001B[0m \u001B[0;31m# we need to save this an dopen it again, for memory saving purposes\u001B[0m\u001B[0;34m\u001B[0m\u001B[0;34m\u001B[0m\u001B[0;34m\u001B[0m\u001B[0m\n\u001B[0;32m----> 4\u001B[0;31m \u001B[0mnp\u001B[0m\u001B[0;34m.\u001B[0m\u001B[0msavetxt\u001B[0m\u001B[0;34m(\u001B[0m\u001B[0;34m'data/wiki-raw/database/evidence_texts.txt'\u001B[0m\u001B[0;34m,\u001B[0m \u001B[0mevidence_texts\u001B[0m\u001B[0;34m)\u001B[0m\u001B[0;34m\u001B[0m\u001B[0;34m\u001B[0m\u001B[0m\n\u001B[0m",
      "\u001B[0;32m<__array_function__ internals>\u001B[0m in \u001B[0;36msavetxt\u001B[0;34m(*args, **kwargs)\u001B[0m\n",
      "\u001B[0;32m~/Documents/MSc/Fall22/NLP/realm/realm-venv/lib/python3.7/site-packages/numpy/lib/npyio.py\u001B[0m in \u001B[0;36msavetxt\u001B[0;34m(fname, X, fmt, delimiter, newline, header, footer, comments, encoding)\u001B[0m\n\u001B[1;32m   1437\u001B[0m                     raise TypeError(\"Mismatch between array dtype ('%s') and \"\n\u001B[1;32m   1438\u001B[0m                                     \u001B[0;34m\"format specifier ('%s')\"\u001B[0m\u001B[0;34m\u001B[0m\u001B[0;34m\u001B[0m\u001B[0m\n\u001B[0;32m-> 1439\u001B[0;31m                                     % (str(X.dtype), format)) from e\n\u001B[0m\u001B[1;32m   1440\u001B[0m                 \u001B[0mfh\u001B[0m\u001B[0;34m.\u001B[0m\u001B[0mwrite\u001B[0m\u001B[0;34m(\u001B[0m\u001B[0mv\u001B[0m\u001B[0;34m)\u001B[0m\u001B[0;34m\u001B[0m\u001B[0;34m\u001B[0m\u001B[0m\n\u001B[1;32m   1441\u001B[0m \u001B[0;34m\u001B[0m\u001B[0m\n",
      "\u001B[0;31mTypeError\u001B[0m: Mismatch between array dtype ('<U184370') and format specifier ('%.18e')"
     ]
    }
   ],
   "source": [
    "evidence_texts = get_evidence_text()\n"
   ],
   "metadata": {
    "collapsed": false
   }
  },
  {
   "cell_type": "code",
   "execution_count": 9,
   "outputs": [],
   "source": [
    "\n",
    "# we need to save this an dopen it again, for memory saving purposes\n",
    "np.savetxt('data/wiki-raw/database/evidence_texts.txt', evidence_texts, fmt='%s')"
   ],
   "metadata": {
    "collapsed": false
   }
  },
  {
   "cell_type": "code",
   "execution_count": 12,
   "outputs": [
    {
     "name": "stdout",
     "output_type": "stream",
     "text": [
      "(15832,)\n"
     ]
    }
   ],
   "source": [
    "print(evidence_texts.shape)"
   ],
   "metadata": {
    "collapsed": false
   }
  },
  {
   "cell_type": "code",
   "execution_count": 9,
   "outputs": [],
   "source": [
    "# Read in sample database texts if they've already been processed\n",
    "evidence_texts = np.loadtxt('data/wiki-raw/database/evidence_texts.txt', dtype=str, delimiter='\\n')"
   ],
   "metadata": {
    "collapsed": false
   }
  },
  {
   "cell_type": "code",
   "execution_count": 10,
   "outputs": [
    {
     "name": "stdout",
     "output_type": "stream",
     "text": [
      "(852051,)\n"
     ]
    }
   ],
   "source": [
    "print(evidence_texts.shape)"
   ],
   "metadata": {
    "collapsed": false
   }
  },
  {
   "cell_type": "code",
   "execution_count": 9,
   "outputs": [],
   "source": [
    "# Is it possible to initialize a realm retriever with a block of texts?\n",
    "\n",
    "# 1. Let's find some texts\n",
    "evidence_texts = np.asarray(sample_docs.text.to_list())"
   ],
   "metadata": {
    "collapsed": false
   }
  },
  {
   "cell_type": "code",
   "execution_count": 10,
   "outputs": [
    {
     "data": {
      "text/plain": "(61,)"
     },
     "execution_count": 10,
     "metadata": {},
     "output_type": "execute_result"
    }
   ],
   "source": [
    "evidence_texts.shape"
   ],
   "metadata": {
    "collapsed": false
   }
  },
  {
   "cell_type": "code",
   "execution_count": 11,
   "outputs": [],
   "source": [
    "# 2. Retriever from sample evidence texts\n",
    "tokenizer = RealmTokenizerFast.from_pretrained(\"google/realm-cc-news-pretrained-encoder\")\n",
    "\n",
    "retriever = RealmRetriever(evidence_texts, tokenizer)"
   ],
   "metadata": {
    "collapsed": false
   }
  },
  {
   "cell_type": "markdown",
   "source": [],
   "metadata": {
    "collapsed": false
   }
  },
  {
   "cell_type": "code",
   "execution_count": 12,
   "outputs": [
    {
     "name": "stderr",
     "output_type": "stream",
     "text": [
      "Some weights of the model checkpoint at google/realm-cc-news-pretrained-encoder were not used when initializing RealmForOpenQA: ['realm.encoder.layer.1.attention.output.dense.bias', 'realm.encoder.layer.5.attention.output.dense.weight', 'realm.encoder.layer.7.attention.output.LayerNorm.bias', 'cls.predictions.transform.LayerNorm.bias', 'realm.encoder.layer.0.attention.self.key.bias', 'realm.encoder.layer.8.attention.self.value.weight', 'realm.encoder.layer.10.attention.self.value.weight', 'realm.encoder.layer.0.attention.output.dense.weight', 'cls.predictions.bias', 'realm.encoder.layer.0.attention.self.value.bias', 'realm.encoder.layer.6.attention.self.value.weight', 'realm.encoder.layer.6.attention.self.value.bias', 'realm.encoder.layer.0.output.dense.weight', 'cls.predictions.transform.LayerNorm.weight', 'realm.encoder.layer.6.attention.self.key.weight', 'realm.embeddings.LayerNorm.weight', 'realm.encoder.layer.9.attention.self.key.bias', 'realm.encoder.layer.10.intermediate.dense.weight', 'realm.encoder.layer.5.attention.output.dense.bias', 'realm.encoder.layer.8.output.dense.weight', 'realm.encoder.layer.5.attention.self.value.bias', 'realm.encoder.layer.2.output.dense.bias', 'realm.encoder.layer.8.attention.output.LayerNorm.bias', 'realm.encoder.layer.7.intermediate.dense.weight', 'realm.encoder.layer.0.attention.self.value.weight', 'realm.encoder.layer.9.attention.self.query.weight', 'realm.embeddings.position_ids', 'realm.encoder.layer.3.attention.self.value.weight', 'realm.pooler.dense.bias', 'realm.encoder.layer.8.attention.self.value.bias', 'realm.encoder.layer.7.output.LayerNorm.bias', 'realm.encoder.layer.9.attention.self.value.weight', 'realm.encoder.layer.3.attention.output.dense.weight', 'realm.encoder.layer.11.attention.output.dense.weight', 'realm.encoder.layer.6.output.dense.bias', 'realm.encoder.layer.7.attention.self.key.weight', 'realm.encoder.layer.11.attention.output.LayerNorm.weight', 'realm.encoder.layer.5.attention.self.value.weight', 'realm.encoder.layer.11.output.dense.bias', 'realm.encoder.layer.9.attention.self.query.bias', 'realm.encoder.layer.4.attention.output.dense.bias', 'realm.encoder.layer.9.attention.self.value.bias', 'realm.encoder.layer.10.attention.output.dense.weight', 'realm.encoder.layer.11.attention.self.query.bias', 'realm.encoder.layer.4.attention.self.query.weight', 'realm.encoder.layer.6.intermediate.dense.weight', 'realm.encoder.layer.7.attention.self.query.bias', 'realm.encoder.layer.4.attention.self.key.weight', 'realm.encoder.layer.9.output.LayerNorm.weight', 'realm.encoder.layer.2.attention.self.key.bias', 'realm.encoder.layer.10.output.dense.weight', 'realm.encoder.layer.8.attention.output.dense.weight', 'realm.encoder.layer.0.output.LayerNorm.weight', 'realm.encoder.layer.1.attention.self.key.bias', 'realm.encoder.layer.1.attention.output.LayerNorm.weight', 'realm.encoder.layer.7.attention.self.key.bias', 'realm.encoder.layer.0.intermediate.dense.bias', 'realm.encoder.layer.5.intermediate.dense.bias', 'realm.encoder.layer.7.attention.self.query.weight', 'realm.encoder.layer.8.attention.output.LayerNorm.weight', 'realm.embeddings.position_embeddings.weight', 'realm.encoder.layer.6.attention.self.query.bias', 'realm.encoder.layer.1.attention.self.query.weight', 'realm.encoder.layer.11.attention.self.key.weight', 'realm.encoder.layer.7.attention.self.value.bias', 'realm.encoder.layer.5.attention.self.key.weight', 'realm.encoder.layer.6.intermediate.dense.bias', 'realm.encoder.layer.8.output.dense.bias', 'realm.encoder.layer.10.intermediate.dense.bias', 'realm.encoder.layer.1.intermediate.dense.bias', 'realm.encoder.layer.2.attention.self.value.bias', 'realm.encoder.layer.11.output.LayerNorm.bias', 'realm.encoder.layer.4.attention.self.value.bias', 'realm.encoder.layer.6.attention.output.LayerNorm.weight', 'realm.encoder.layer.3.attention.self.query.bias', 'realm.encoder.layer.9.attention.output.dense.bias', 'realm.encoder.layer.3.intermediate.dense.bias', 'realm.encoder.layer.4.attention.self.value.weight', 'realm.encoder.layer.11.attention.self.key.bias', 'realm.encoder.layer.3.attention.output.dense.bias', 'realm.encoder.layer.4.intermediate.dense.bias', 'realm.encoder.layer.9.intermediate.dense.weight', 'realm.encoder.layer.2.attention.output.LayerNorm.bias', 'realm.encoder.layer.2.output.LayerNorm.bias', 'realm.encoder.layer.4.output.dense.bias', 'realm.encoder.layer.11.attention.self.value.weight', 'realm.encoder.layer.3.attention.self.value.bias', 'realm.encoder.layer.7.attention.output.LayerNorm.weight', 'realm.encoder.layer.10.output.dense.bias', 'realm.encoder.layer.5.output.dense.bias', 'realm.encoder.layer.8.attention.self.key.weight', 'realm.encoder.layer.11.output.dense.weight', 'realm.encoder.layer.0.attention.output.dense.bias', 'realm.encoder.layer.2.output.LayerNorm.weight', 'realm.encoder.layer.6.attention.output.LayerNorm.bias', 'realm.encoder.layer.10.attention.self.query.weight', 'realm.encoder.layer.4.attention.self.query.bias', 'realm.encoder.layer.2.attention.self.query.weight', 'realm.encoder.layer.2.attention.self.query.bias', 'realm.encoder.layer.4.output.LayerNorm.bias', 'realm.encoder.layer.9.attention.output.LayerNorm.weight', 'realm.embeddings.LayerNorm.bias', 'realm.encoder.layer.5.attention.self.query.bias', 'realm.encoder.layer.3.output.LayerNorm.bias', 'realm.encoder.layer.11.attention.output.dense.bias', 'realm.encoder.layer.7.attention.output.dense.bias', 'realm.encoder.layer.10.attention.output.LayerNorm.weight', 'realm.encoder.layer.9.output.LayerNorm.bias', 'realm.encoder.layer.3.intermediate.dense.weight', 'realm.encoder.layer.5.output.LayerNorm.bias', 'realm.encoder.layer.0.output.LayerNorm.bias', 'realm.encoder.layer.1.output.LayerNorm.weight', 'realm.encoder.layer.2.attention.self.key.weight', 'realm.encoder.layer.5.output.dense.weight', 'realm.encoder.layer.6.output.dense.weight', 'realm.encoder.layer.10.attention.output.dense.bias', 'realm.encoder.layer.11.intermediate.dense.bias', 'realm.encoder.layer.8.output.LayerNorm.weight', 'realm.encoder.layer.3.output.LayerNorm.weight', 'realm.encoder.layer.6.attention.self.key.bias', 'realm.encoder.layer.4.attention.output.LayerNorm.bias', 'realm.encoder.layer.4.output.LayerNorm.weight', 'realm.encoder.layer.6.output.LayerNorm.weight', 'realm.encoder.layer.1.attention.output.LayerNorm.bias', 'realm.encoder.layer.4.attention.output.LayerNorm.weight', 'realm.encoder.layer.11.output.LayerNorm.weight', 'realm.encoder.layer.3.attention.output.LayerNorm.bias', 'realm.encoder.layer.7.output.dense.bias', 'realm.encoder.layer.0.attention.self.key.weight', 'realm.encoder.layer.5.attention.output.LayerNorm.weight', 'realm.encoder.layer.5.attention.output.LayerNorm.bias', 'realm.encoder.layer.11.attention.output.LayerNorm.bias', 'realm.encoder.layer.9.intermediate.dense.bias', 'realm.encoder.layer.1.attention.self.value.weight', 'realm.encoder.layer.0.attention.output.LayerNorm.bias', 'realm.encoder.layer.0.output.dense.bias', 'realm.encoder.layer.2.output.dense.weight', 'realm.encoder.layer.8.attention.self.key.bias', 'realm.encoder.layer.6.output.LayerNorm.bias', 'realm.encoder.layer.1.attention.self.value.bias', 'realm.encoder.layer.10.output.LayerNorm.weight', 'realm.encoder.layer.1.output.dense.weight', 'realm.encoder.layer.2.intermediate.dense.bias', 'realm.encoder.layer.3.attention.output.LayerNorm.weight', 'realm.embeddings.token_type_embeddings.weight', 'realm.encoder.layer.5.attention.self.query.weight', 'realm.encoder.layer.9.output.dense.weight', 'realm.encoder.layer.2.attention.self.value.weight', 'realm.encoder.layer.3.attention.self.query.weight', 'realm.encoder.layer.4.attention.output.dense.weight', 'realm.encoder.layer.1.attention.self.key.weight', 'realm.encoder.layer.3.attention.self.key.weight', 'realm.encoder.layer.4.output.dense.weight', 'realm.encoder.layer.5.attention.self.key.bias', 'realm.encoder.layer.1.output.LayerNorm.bias', 'realm.embeddings.word_embeddings.weight', 'realm.encoder.layer.3.output.dense.weight', 'realm.encoder.layer.1.intermediate.dense.weight', 'realm.encoder.layer.9.attention.output.dense.weight', 'realm.encoder.layer.2.attention.output.dense.bias', 'realm.encoder.layer.4.attention.self.key.bias', 'realm.encoder.layer.0.attention.self.query.weight', 'realm.encoder.layer.10.attention.self.query.bias', 'realm.encoder.layer.10.attention.self.key.bias', 'realm.encoder.layer.11.attention.self.query.weight', 'cls.predictions.decoder.bias', 'cls.predictions.decoder.weight', 'realm.encoder.layer.1.attention.output.dense.weight', 'realm.encoder.layer.9.output.dense.bias', 'realm.encoder.layer.2.intermediate.dense.weight', 'realm.encoder.layer.6.attention.self.query.weight', 'realm.encoder.layer.8.intermediate.dense.bias', 'realm.encoder.layer.0.intermediate.dense.weight', 'realm.encoder.layer.10.attention.self.key.weight', 'realm.encoder.layer.5.intermediate.dense.weight', 'realm.encoder.layer.10.output.LayerNorm.bias', 'realm.encoder.layer.0.attention.self.query.bias', 'realm.encoder.layer.6.attention.output.dense.bias', 'realm.encoder.layer.1.attention.self.query.bias', 'realm.encoder.layer.3.attention.self.key.bias', 'realm.encoder.layer.9.attention.output.LayerNorm.bias', 'realm.encoder.layer.7.output.LayerNorm.weight', 'realm.encoder.layer.7.attention.output.dense.weight', 'realm.encoder.layer.8.attention.self.query.weight', 'realm.encoder.layer.8.attention.output.dense.bias', 'realm.encoder.layer.10.attention.output.LayerNorm.bias', 'realm.encoder.layer.5.output.LayerNorm.weight', 'realm.encoder.layer.1.output.dense.bias', 'cls.predictions.transform.dense.weight', 'realm.encoder.layer.7.output.dense.weight', 'realm.encoder.layer.7.attention.self.value.weight', 'realm.encoder.layer.8.intermediate.dense.weight', 'realm.encoder.layer.2.attention.output.LayerNorm.weight', 'realm.pooler.dense.weight', 'realm.encoder.layer.2.attention.output.dense.weight', 'cls.predictions.transform.dense.bias', 'realm.encoder.layer.9.attention.self.key.weight', 'realm.encoder.layer.7.intermediate.dense.bias', 'realm.encoder.layer.6.attention.output.dense.weight', 'realm.encoder.layer.8.attention.self.query.bias', 'realm.encoder.layer.4.intermediate.dense.weight', 'realm.encoder.layer.11.intermediate.dense.weight', 'realm.encoder.layer.0.attention.output.LayerNorm.weight', 'realm.encoder.layer.3.output.dense.bias', 'realm.encoder.layer.10.attention.self.value.bias', 'realm.encoder.layer.8.output.LayerNorm.bias', 'realm.encoder.layer.11.attention.self.value.bias']\n",
      "- This IS expected if you are initializing RealmForOpenQA from the checkpoint of a model trained on another task or with another architecture (e.g. initializing a BertForSequenceClassification model from a BertForPreTraining model).\n",
      "- This IS NOT expected if you are initializing RealmForOpenQA from the checkpoint of a model that you expect to be exactly identical (initializing a BertForSequenceClassification model from a BertForSequenceClassification model).\n",
      "Some weights of RealmForOpenQA were not initialized from the model checkpoint at google/realm-cc-news-pretrained-encoder and are newly initialized: ['realm.reader.realm.encoder.layer.7.attention.self.value.weight', 'realm.embedder.realm.encoder.layer.8.attention.self.key.bias', 'realm.embedder.realm.encoder.layer.5.output.LayerNorm.bias', 'realm.reader.realm.encoder.layer.5.attention.self.key.bias', 'realm.embedder.realm.encoder.layer.5.attention.output.LayerNorm.weight', 'realm.reader.realm.pooler.dense.weight', 'realm.reader.cls.predictions.transform.LayerNorm.weight', 'realm.embedder.realm.encoder.layer.4.output.LayerNorm.weight', 'realm.embedder.cls.predictions.transform.dense.weight', 'realm.embedder.realm.encoder.layer.6.attention.self.value.weight', 'realm.reader.realm.encoder.layer.3.attention.output.LayerNorm.weight', 'realm.embedder.realm.encoder.layer.8.intermediate.dense.bias', 'realm.reader.realm.encoder.layer.3.attention.self.query.bias', 'realm.embedder.realm.encoder.layer.5.attention.self.key.weight', 'realm.embedder.realm.encoder.layer.0.attention.output.dense.bias', 'realm.embedder.realm.encoder.layer.0.attention.output.dense.weight', 'realm.reader.realm.encoder.layer.2.attention.self.query.bias', 'realm.embedder.realm.encoder.layer.6.attention.output.dense.weight', 'realm.reader.realm.encoder.layer.11.attention.self.key.weight', 'realm.reader.realm.encoder.layer.9.attention.self.query.bias', 'realm.reader.realm.encoder.layer.7.attention.self.key.bias', 'realm.reader.realm.encoder.layer.8.output.LayerNorm.weight', 'realm.embedder.realm.encoder.layer.11.attention.self.value.bias', 'realm.embedder.realm.encoder.layer.1.output.LayerNorm.bias', 'realm.embedder.realm.encoder.layer.3.attention.self.query.bias', 'realm.embedder.realm.encoder.layer.4.attention.output.LayerNorm.bias', 'realm.embedder.realm.encoder.layer.2.attention.self.key.weight', 'realm.embedder.realm.encoder.layer.8.attention.self.key.weight', 'realm.embedder.realm.encoder.layer.1.output.dense.bias', 'realm.embedder.realm.encoder.layer.11.output.dense.weight', 'realm.embedder.realm.encoder.layer.0.attention.self.key.weight', 'realm.embedder.realm.encoder.layer.10.attention.self.key.bias', 'realm.reader.realm.encoder.layer.11.attention.self.value.bias', 'realm.embedder.realm.encoder.layer.3.output.dense.bias', 'realm.reader.realm.encoder.layer.6.intermediate.dense.bias', 'realm.reader.realm.encoder.layer.10.output.LayerNorm.bias', 'realm.reader.realm.encoder.layer.10.attention.output.dense.weight', 'realm.reader.realm.encoder.layer.6.output.dense.weight', 'realm.embedder.realm.encoder.layer.3.attention.self.key.weight', 'realm.embedder.realm.encoder.layer.6.attention.self.key.bias', 'realm.embedder.realm.encoder.layer.6.output.dense.weight', 'realm.reader.realm.encoder.layer.7.attention.self.query.weight', 'realm.embedder.realm.encoder.layer.3.attention.output.LayerNorm.weight', 'realm.embedder.realm.encoder.layer.0.output.dense.weight', 'realm.embedder.realm.encoder.layer.6.attention.output.LayerNorm.weight', 'realm.embedder.realm.encoder.layer.1.attention.self.value.weight', 'realm.embedder.realm.encoder.layer.2.output.LayerNorm.bias', 'realm.reader.realm.encoder.layer.0.attention.output.LayerNorm.bias', 'realm.embedder.realm.encoder.layer.8.intermediate.dense.weight', 'realm.reader.cls.predictions.decoder.weight', 'realm.embedder.realm.encoder.layer.0.output.LayerNorm.weight', 'realm.embedder.realm.encoder.layer.4.attention.self.key.bias', 'realm.embedder.realm.encoder.layer.10.attention.self.query.bias', 'realm.embedder.realm.encoder.layer.0.intermediate.dense.weight', 'realm.reader.realm.encoder.layer.10.attention.self.query.bias', 'realm.embedder.realm.encoder.layer.3.attention.self.key.bias', 'realm.embedder.realm.encoder.layer.1.output.dense.weight', 'realm.embedder.realm.encoder.layer.4.attention.self.value.bias', 'realm.embedder.realm.encoder.layer.0.attention.output.LayerNorm.bias', 'realm.reader.realm.encoder.layer.10.output.dense.bias', 'realm.embedder.realm.encoder.layer.9.attention.output.LayerNorm.weight', 'realm.reader.realm.encoder.layer.2.attention.self.value.bias', 'realm.reader.realm.encoder.layer.6.attention.self.query.weight', 'realm.reader.realm.encoder.layer.1.output.dense.weight', 'realm.reader.realm.encoder.layer.9.attention.output.dense.weight', 'realm.reader.realm.encoder.layer.0.output.LayerNorm.weight', 'realm.embedder.realm.encoder.layer.2.intermediate.dense.bias', 'realm.embedder.realm.encoder.layer.7.attention.self.value.bias', 'realm.reader.realm.encoder.layer.0.attention.output.dense.weight', 'realm.reader.realm.encoder.layer.1.attention.self.query.bias', 'realm.embedder.realm.pooler.dense.bias', 'realm.embedder.realm.encoder.layer.10.attention.self.key.weight', 'realm.reader.realm.encoder.layer.7.attention.output.LayerNorm.bias', 'realm.reader.realm.encoder.layer.10.attention.self.key.weight', 'realm.embedder.cls.predictions.transform.LayerNorm.weight', 'realm.reader.realm.encoder.layer.1.attention.self.key.weight', 'realm.reader.qa_outputs.dense_output.bias', 'realm.reader.realm.encoder.layer.3.attention.self.key.bias', 'realm.embedder.realm.encoder.layer.10.output.dense.weight', 'realm.embedder.realm.embeddings.position_embeddings.weight', 'realm.reader.realm.encoder.layer.9.output.dense.bias', 'realm.reader.realm.encoder.layer.1.attention.self.key.bias', 'realm.reader.realm.encoder.layer.3.intermediate.dense.weight', 'realm.embedder.realm.encoder.layer.7.attention.self.key.weight', 'realm.reader.realm.encoder.layer.0.attention.output.LayerNorm.weight', 'realm.reader.realm.encoder.layer.2.output.dense.weight', 'realm.reader.realm.encoder.layer.1.attention.self.query.weight', 'realm.reader.realm.encoder.layer.2.attention.output.LayerNorm.weight', 'realm.embedder.realm.encoder.layer.7.output.dense.weight', 'realm.embedder.cls.LayerNorm.bias', 'realm.reader.realm.encoder.layer.9.attention.self.key.bias', 'realm.reader.realm.encoder.layer.7.output.dense.bias', 'realm.embedder.realm.encoder.layer.11.attention.output.dense.weight', 'realm.embedder.realm.encoder.layer.9.intermediate.dense.weight', 'realm.reader.realm.encoder.layer.3.attention.output.LayerNorm.bias', 'realm.embedder.realm.encoder.layer.4.attention.self.query.weight', 'realm.reader.realm.encoder.layer.4.output.LayerNorm.bias', 'realm.reader.realm.encoder.layer.2.attention.output.dense.weight', 'realm.reader.realm.encoder.layer.11.output.dense.weight', 'realm.reader.realm.encoder.layer.8.attention.self.value.weight', 'realm.embedder.cls.LayerNorm.weight', 'realm.embedder.realm.encoder.layer.11.attention.self.query.weight', 'realm.reader.realm.encoder.layer.0.intermediate.dense.bias', 'realm.embedder.realm.encoder.layer.2.attention.output.LayerNorm.weight', 'realm.embedder.realm.encoder.layer.9.attention.self.value.weight', 'realm.embedder.realm.encoder.layer.10.attention.output.LayerNorm.bias', 'realm.reader.realm.encoder.layer.3.output.LayerNorm.weight', 'realm.embedder.realm.encoder.layer.9.attention.self.key.bias', 'realm.reader.realm.encoder.layer.5.attention.self.query.bias', 'realm.reader.realm.encoder.layer.0.attention.self.key.weight', 'realm.reader.realm.encoder.layer.6.attention.output.dense.bias', 'realm.reader.realm.encoder.layer.3.attention.output.dense.weight', 'realm.reader.cls.predictions.transform.dense.bias', 'realm.embedder.realm.encoder.layer.4.attention.self.value.weight', 'realm.embedder.realm.encoder.layer.6.attention.output.LayerNorm.bias', 'realm.reader.realm.encoder.layer.11.attention.output.dense.weight', 'realm.embedder.realm.encoder.layer.6.intermediate.dense.weight', 'realm.reader.realm.encoder.layer.11.output.LayerNorm.weight', 'realm.embedder.realm.encoder.layer.4.attention.self.query.bias', 'realm.embedder.realm.encoder.layer.5.attention.output.LayerNorm.bias', 'realm.embedder.realm.encoder.layer.11.intermediate.dense.bias', 'realm.reader.realm.encoder.layer.2.attention.output.LayerNorm.bias', 'realm.reader.realm.encoder.layer.4.intermediate.dense.bias', 'realm.reader.realm.encoder.layer.8.attention.output.LayerNorm.bias', 'realm.reader.realm.encoder.layer.2.intermediate.dense.weight', 'realm.reader.realm.encoder.layer.1.attention.output.dense.weight', 'realm.embedder.realm.encoder.layer.7.attention.self.query.bias', 'realm.reader.realm.embeddings.LayerNorm.weight', 'realm.embedder.realm.encoder.layer.10.output.LayerNorm.bias', 'realm.embedder.realm.encoder.layer.2.attention.output.LayerNorm.bias', 'realm.embedder.cls.predictions.decoder.bias', 'realm.reader.realm.encoder.layer.4.attention.self.query.bias', 'realm.embedder.realm.encoder.layer.9.attention.output.dense.bias', 'realm.embedder.realm.encoder.layer.3.attention.output.dense.bias', 'realm.reader.realm.encoder.layer.3.output.dense.weight', 'realm.embedder.realm.encoder.layer.10.intermediate.dense.weight', 'realm.reader.realm.encoder.layer.7.attention.output.dense.weight', 'realm.reader.qa_outputs.dense_intermediate.bias', 'realm.embedder.realm.encoder.layer.8.attention.output.LayerNorm.bias', 'realm.embedder.realm.pooler.dense.weight', 'realm.reader.realm.encoder.layer.0.attention.self.query.weight', 'realm.reader.realm.encoder.layer.1.output.LayerNorm.bias', 'realm.embedder.realm.encoder.layer.2.attention.self.key.bias', 'realm.reader.realm.encoder.layer.0.output.dense.weight', 'realm.reader.realm.encoder.layer.6.attention.self.query.bias', 'realm.embedder.realm.encoder.layer.0.attention.self.value.bias', 'realm.embedder.realm.encoder.layer.5.attention.self.key.bias', 'realm.embedder.realm.encoder.layer.0.attention.self.value.weight', 'realm.reader.realm.encoder.layer.8.intermediate.dense.weight', 'realm.embedder.realm.encoder.layer.6.intermediate.dense.bias', 'realm.embedder.realm.encoder.layer.10.intermediate.dense.bias', 'realm.reader.realm.encoder.layer.4.output.dense.weight', 'realm.reader.realm.encoder.layer.9.attention.self.query.weight', 'realm.reader.realm.encoder.layer.11.intermediate.dense.weight', 'realm.embedder.realm.encoder.layer.0.attention.self.query.bias', 'realm.embedder.realm.encoder.layer.9.attention.self.query.weight', 'realm.reader.realm.encoder.layer.9.attention.output.LayerNorm.weight', 'realm.reader.realm.encoder.layer.2.output.LayerNorm.bias', 'realm.embedder.realm.encoder.layer.6.attention.self.key.weight', 'realm.embedder.realm.encoder.layer.7.output.LayerNorm.bias', 'realm.reader.realm.encoder.layer.2.attention.self.key.weight', 'realm.reader.realm.encoder.layer.11.attention.output.LayerNorm.weight', 'realm.embedder.realm.encoder.layer.2.attention.self.query.bias', 'realm.reader.realm.encoder.layer.0.intermediate.dense.weight', 'realm.embedder.realm.encoder.layer.9.attention.self.value.bias', 'realm.reader.realm.encoder.layer.3.attention.self.query.weight', 'realm.reader.realm.encoder.layer.3.attention.output.dense.bias', 'realm.reader.realm.embeddings.LayerNorm.bias', 'realm.embedder.realm.encoder.layer.9.attention.self.query.bias', 'realm.embedder.realm.encoder.layer.3.output.LayerNorm.weight', 'realm.embedder.realm.encoder.layer.4.output.dense.weight', 'realm.embedder.cls.predictions.transform.LayerNorm.bias', 'realm.reader.realm.encoder.layer.8.attention.self.value.bias', 'realm.embedder.realm.encoder.layer.0.attention.self.key.bias', 'realm.embedder.realm.encoder.layer.10.attention.self.value.weight', 'realm.embedder.realm.encoder.layer.2.attention.output.dense.bias', 'realm.reader.realm.encoder.layer.6.attention.self.key.weight', 'realm.reader.realm.encoder.layer.9.intermediate.dense.weight', 'realm.reader.realm.encoder.layer.7.output.dense.weight', 'realm.embedder.realm.encoder.layer.2.intermediate.dense.weight', 'realm.embedder.realm.encoder.layer.3.intermediate.dense.bias', 'realm.reader.realm.encoder.layer.7.attention.output.LayerNorm.weight', 'realm.embedder.realm.encoder.layer.10.attention.output.dense.bias', 'realm.reader.realm.encoder.layer.2.attention.self.value.weight', 'realm.embedder.realm.encoder.layer.11.attention.self.query.bias', 'realm.reader.realm.encoder.layer.1.attention.output.LayerNorm.bias', 'realm.embedder.realm.encoder.layer.3.attention.output.dense.weight', 'realm.embedder.realm.encoder.layer.3.output.dense.weight', 'realm.reader.realm.encoder.layer.7.intermediate.dense.weight', 'realm.embedder.realm.encoder.layer.5.intermediate.dense.weight', 'realm.reader.realm.encoder.layer.4.attention.self.query.weight', 'realm.reader.realm.encoder.layer.10.attention.self.query.weight', 'realm.reader.realm.encoder.layer.11.output.LayerNorm.bias', 'realm.embedder.realm.encoder.layer.5.intermediate.dense.bias', 'realm.embedder.realm.encoder.layer.6.attention.self.value.bias', 'realm.embedder.realm.encoder.layer.3.attention.self.query.weight', 'realm.reader.realm.encoder.layer.9.attention.self.key.weight', 'realm.reader.realm.encoder.layer.1.attention.output.LayerNorm.weight', 'realm.embedder.realm.encoder.layer.7.intermediate.dense.weight', 'realm.embedder.realm.encoder.layer.4.output.dense.bias', 'realm.reader.realm.encoder.layer.11.attention.output.dense.bias', 'realm.reader.cls.predictions.transform.LayerNorm.bias', 'realm.embedder.realm.encoder.layer.5.output.LayerNorm.weight', 'realm.embedder.realm.encoder.layer.11.output.dense.bias', 'realm.reader.realm.encoder.layer.0.attention.self.value.weight', 'realm.embedder.realm.encoder.layer.8.output.LayerNorm.bias', 'realm.embedder.realm.encoder.layer.7.attention.self.query.weight', 'realm.reader.realm.encoder.layer.3.attention.self.key.weight', 'realm.embedder.realm.encoder.layer.1.attention.output.LayerNorm.bias', 'realm.embedder.realm.encoder.layer.9.intermediate.dense.bias', 'realm.embedder.realm.encoder.layer.10.output.dense.bias', 'realm.reader.realm.encoder.layer.10.attention.output.dense.bias', 'realm.reader.realm.encoder.layer.9.output.dense.weight', 'realm.embedder.realm.encoder.layer.2.output.LayerNorm.weight', 'realm.embedder.realm.encoder.layer.1.attention.output.LayerNorm.weight', 'realm.reader.realm.encoder.layer.6.output.LayerNorm.bias', 'realm.embedder.realm.encoder.layer.3.intermediate.dense.weight', 'realm.reader.realm.encoder.layer.4.attention.output.dense.weight', 'realm.embedder.realm.encoder.layer.5.attention.self.value.bias', 'realm.reader.realm.encoder.layer.8.attention.self.key.weight', 'realm.reader.realm.encoder.layer.10.intermediate.dense.weight', 'realm.reader.realm.encoder.layer.9.output.LayerNorm.bias', 'realm.reader.realm.encoder.layer.4.output.dense.bias', 'realm.reader.realm.encoder.layer.5.attention.self.value.weight', 'realm.embedder.realm.encoder.layer.3.output.LayerNorm.bias', 'realm.embedder.realm.encoder.layer.6.attention.output.dense.bias', 'realm.embedder.realm.encoder.layer.0.output.dense.bias', 'realm.embedder.realm.encoder.layer.3.attention.self.value.weight', 'realm.embedder.realm.encoder.layer.7.attention.output.dense.bias', 'realm.embedder.realm.encoder.layer.11.output.LayerNorm.bias', 'realm.reader.realm.encoder.layer.0.attention.output.dense.bias', 'realm.embedder.realm.encoder.layer.2.output.dense.weight', 'realm.embedder.realm.encoder.layer.7.output.LayerNorm.weight', 'realm.reader.realm.encoder.layer.4.attention.self.key.weight', 'realm.embedder.realm.embeddings.word_embeddings.weight', 'realm.reader.realm.encoder.layer.2.output.LayerNorm.weight', 'realm.embedder.realm.encoder.layer.1.attention.output.dense.bias', 'realm.reader.realm.encoder.layer.1.attention.output.dense.bias', 'realm.reader.realm.encoder.layer.8.attention.output.dense.weight', 'realm.embedder.realm.encoder.layer.4.attention.self.key.weight', 'realm.embedder.cls.predictions.transform.dense.bias', 'realm.reader.realm.encoder.layer.10.intermediate.dense.bias', 'realm.reader.realm.encoder.layer.10.output.dense.weight', 'realm.reader.realm.encoder.layer.8.output.dense.bias', 'realm.embedder.realm.encoder.layer.8.attention.self.value.bias', 'realm.embedder.realm.encoder.layer.11.attention.self.key.weight', 'realm.embedder.realm.encoder.layer.11.attention.output.LayerNorm.bias', 'realm.embedder.realm.encoder.layer.8.attention.self.value.weight', 'realm.embedder.realm.encoder.layer.7.attention.output.LayerNorm.bias', 'realm.reader.qa_outputs.layer_normalization.bias', 'realm.embedder.realm.encoder.layer.1.attention.self.query.bias', 'realm.embedder.realm.encoder.layer.5.output.dense.bias', 'realm.reader.realm.encoder.layer.5.output.LayerNorm.bias', 'realm.reader.realm.encoder.layer.10.output.LayerNorm.weight', 'realm.reader.realm.encoder.layer.10.attention.output.LayerNorm.weight', 'realm.embedder.realm.encoder.layer.7.attention.output.LayerNorm.weight', 'realm.reader.realm.encoder.layer.8.attention.self.query.weight', 'realm.reader.realm.encoder.layer.11.attention.self.query.bias', 'realm.reader.realm.encoder.layer.7.attention.self.value.bias', 'realm.reader.realm.encoder.layer.5.attention.output.LayerNorm.bias', 'realm.embedder.realm.encoder.layer.1.intermediate.dense.weight', 'realm.reader.realm.encoder.layer.6.intermediate.dense.weight', 'realm.embedder.realm.encoder.layer.10.attention.self.value.bias', 'realm.embedder.realm.encoder.layer.7.intermediate.dense.bias', 'realm.embedder.realm.encoder.layer.0.attention.self.query.weight', 'realm.reader.realm.encoder.layer.2.attention.output.dense.bias', 'realm.embedder.realm.encoder.layer.9.output.LayerNorm.weight', 'realm.reader.cls.predictions.transform.dense.weight', 'realm.reader.realm.embeddings.token_type_embeddings.weight', 'realm.reader.realm.encoder.layer.10.attention.self.key.bias', 'realm.reader.realm.encoder.layer.7.intermediate.dense.bias', 'realm.reader.realm.encoder.layer.7.attention.output.dense.bias', 'realm.reader.realm.encoder.layer.9.intermediate.dense.bias', 'realm.reader.realm.encoder.layer.4.attention.self.value.bias', 'realm.embedder.realm.encoder.layer.1.attention.self.query.weight', 'realm.embedder.cls.dense.bias', 'realm.reader.realm.encoder.layer.4.output.LayerNorm.weight', 'realm.reader.realm.encoder.layer.3.output.dense.bias', 'realm.embedder.realm.encoder.layer.8.output.dense.weight', 'realm.embedder.realm.encoder.layer.1.intermediate.dense.bias', 'realm.reader.realm.encoder.layer.11.attention.self.key.bias', 'realm.reader.realm.encoder.layer.6.attention.output.LayerNorm.bias', 'realm.embedder.realm.encoder.layer.11.output.LayerNorm.weight', 'realm.reader.realm.encoder.layer.2.intermediate.dense.bias', 'realm.reader.realm.embeddings.position_embeddings.weight', 'realm.embedder.realm.encoder.layer.11.intermediate.dense.weight', 'realm.reader.realm.encoder.layer.4.attention.output.dense.bias', 'realm.reader.realm.encoder.layer.4.attention.output.LayerNorm.bias', 'realm.reader.realm.encoder.layer.8.attention.output.LayerNorm.weight', 'realm.embedder.realm.encoder.layer.4.attention.output.LayerNorm.weight', 'realm.embedder.realm.encoder.layer.10.attention.output.dense.weight', 'realm.embedder.realm.encoder.layer.6.attention.self.query.weight', 'realm.embedder.realm.encoder.layer.8.output.LayerNorm.weight', 'realm.reader.realm.encoder.layer.9.output.LayerNorm.weight', 'realm.reader.qa_outputs.layer_normalization.weight', 'realm.reader.realm.encoder.layer.5.attention.self.query.weight', 'realm.embedder.realm.encoder.layer.2.attention.self.value.bias', 'realm.embedder.realm.encoder.layer.4.attention.output.dense.bias', 'realm.embedder.realm.encoder.layer.11.attention.output.dense.bias', 'realm.reader.realm.encoder.layer.9.attention.self.value.weight', 'realm.embedder.realm.encoder.layer.8.attention.self.query.weight', 'realm.embedder.realm.encoder.layer.10.attention.self.query.weight', 'realm.embedder.realm.encoder.layer.9.attention.output.LayerNorm.bias', 'realm.reader.realm.encoder.layer.11.intermediate.dense.bias', 'realm.embedder.realm.encoder.layer.3.attention.output.LayerNorm.bias', 'realm.embedder.realm.encoder.layer.1.attention.self.key.bias', 'realm.reader.realm.encoder.layer.8.output.LayerNorm.bias', 'realm.embedder.realm.encoder.layer.4.attention.output.dense.weight', 'realm.embedder.realm.encoder.layer.6.output.dense.bias', 'realm.reader.qa_outputs.dense_intermediate.weight', 'realm.reader.realm.encoder.layer.6.attention.self.value.bias', 'realm.reader.realm.encoder.layer.10.attention.output.LayerNorm.bias', 'realm.reader.realm.encoder.layer.8.output.dense.weight', 'realm.reader.realm.encoder.layer.8.intermediate.dense.bias', 'realm.reader.realm.pooler.dense.bias', 'realm.embedder.realm.encoder.layer.5.output.dense.weight', 'realm.reader.realm.encoder.layer.8.attention.self.query.bias', 'realm.reader.realm.encoder.layer.11.attention.output.LayerNorm.bias', 'realm.reader.realm.encoder.layer.9.attention.output.dense.bias', 'realm.embedder.cls.dense.weight', 'realm.reader.realm.encoder.layer.0.attention.self.query.bias', 'realm.embedder.realm.embeddings.LayerNorm.weight', 'realm.embedder.realm.encoder.layer.1.attention.output.dense.weight', 'realm.embedder.realm.encoder.layer.0.intermediate.dense.bias', 'realm.reader.realm.encoder.layer.4.attention.self.value.weight', 'realm.embedder.cls.predictions.decoder.weight', 'realm.reader.realm.encoder.layer.6.attention.self.value.weight', 'realm.embedder.realm.encoder.layer.9.output.dense.weight', 'realm.embedder.cls.predictions.bias', 'realm.reader.realm.encoder.layer.3.output.LayerNorm.bias', 'realm.embedder.realm.embeddings.token_type_embeddings.weight', 'realm.reader.realm.encoder.layer.9.attention.output.LayerNorm.bias', 'realm.reader.qa_outputs.dense_output.weight', 'realm.embedder.realm.encoder.layer.5.attention.output.dense.bias', 'realm.reader.realm.encoder.layer.6.attention.output.dense.weight', 'realm.reader.realm.encoder.layer.7.attention.self.query.bias', 'realm.reader.realm.encoder.layer.7.output.LayerNorm.weight', 'realm.embedder.realm.encoder.layer.8.attention.output.dense.weight', 'realm.embedder.realm.encoder.layer.1.attention.self.key.weight', 'realm.reader.realm.encoder.layer.2.output.dense.bias', 'realm.embedder.realm.encoder.layer.3.attention.self.value.bias', 'realm.reader.realm.encoder.layer.8.attention.self.key.bias', 'realm.embedder.realm.encoder.layer.8.attention.output.dense.bias', 'realm.reader.realm.encoder.layer.5.intermediate.dense.bias', 'realm.reader.realm.encoder.layer.2.attention.self.key.bias', 'realm.reader.realm.encoder.layer.5.attention.self.value.bias', 'realm.reader.realm.encoder.layer.5.attention.output.LayerNorm.weight', 'realm.embedder.realm.encoder.layer.9.attention.self.key.weight', 'realm.reader.realm.encoder.layer.2.attention.self.query.weight', 'realm.reader.realm.encoder.layer.1.output.LayerNorm.weight', 'realm.reader.realm.encoder.layer.6.attention.self.key.bias', 'realm.reader.realm.encoder.layer.5.output.LayerNorm.weight', 'realm.reader.realm.encoder.layer.4.intermediate.dense.weight', 'realm.reader.realm.encoder.layer.0.attention.self.value.bias', 'realm.block_emb', 'realm.embedder.realm.embeddings.LayerNorm.bias', 'realm.embedder.realm.encoder.layer.4.intermediate.dense.bias', 'realm.embedder.realm.encoder.layer.2.attention.self.query.weight', 'realm.reader.realm.encoder.layer.5.attention.self.key.weight', 'realm.embedder.realm.encoder.layer.1.output.LayerNorm.weight', 'realm.embedder.realm.encoder.layer.7.attention.self.key.bias', 'realm.reader.realm.encoder.layer.4.attention.self.key.bias', 'realm.reader.realm.encoder.layer.10.attention.self.value.bias', 'realm.embedder.realm.encoder.layer.6.output.LayerNorm.bias', 'realm.embedder.realm.encoder.layer.9.attention.output.dense.weight', 'realm.embedder.realm.encoder.layer.9.output.LayerNorm.bias', 'realm.reader.realm.encoder.layer.5.intermediate.dense.weight', 'realm.embedder.realm.encoder.layer.7.attention.output.dense.weight', 'realm.embedder.realm.encoder.layer.10.output.LayerNorm.weight', 'realm.reader.realm.embeddings.word_embeddings.weight', 'realm.embedder.realm.encoder.layer.2.attention.output.dense.weight', 'realm.embedder.realm.encoder.layer.5.attention.self.query.weight', 'realm.embedder.realm.encoder.layer.11.attention.output.LayerNorm.weight', 'realm.reader.realm.encoder.layer.5.output.dense.bias', 'realm.reader.realm.encoder.layer.5.attention.output.dense.bias', 'realm.embedder.realm.encoder.layer.0.attention.output.LayerNorm.weight', 'realm.embedder.realm.encoder.layer.8.attention.output.LayerNorm.weight', 'realm.reader.cls.predictions.decoder.bias', 'realm.reader.realm.encoder.layer.8.attention.output.dense.bias', 'realm.embedder.realm.encoder.layer.2.output.dense.bias', 'realm.embedder.realm.encoder.layer.2.attention.self.value.weight', 'realm.reader.realm.encoder.layer.6.output.LayerNorm.weight', 'realm.reader.realm.encoder.layer.3.attention.self.value.bias', 'realm.reader.realm.encoder.layer.5.output.dense.weight', 'realm.reader.realm.encoder.layer.7.output.LayerNorm.bias', 'realm.embedder.realm.encoder.layer.10.attention.output.LayerNorm.weight', 'realm.reader.realm.encoder.layer.4.attention.output.LayerNorm.weight', 'realm.reader.realm.encoder.layer.6.attention.output.LayerNorm.weight', 'realm.embedder.realm.encoder.layer.0.output.LayerNorm.bias', 'realm.reader.realm.encoder.layer.9.attention.self.value.bias', 'realm.embedder.realm.encoder.layer.7.attention.self.value.weight', 'realm.embedder.realm.encoder.layer.9.output.dense.bias', 'realm.embedder.realm.encoder.layer.5.attention.self.value.weight', 'realm.reader.realm.encoder.layer.0.output.LayerNorm.bias', 'realm.embedder.realm.encoder.layer.4.intermediate.dense.weight', 'realm.embedder.realm.encoder.layer.8.output.dense.bias', 'realm.embedder.realm.encoder.layer.11.attention.self.value.weight', 'realm.reader.realm.encoder.layer.1.intermediate.dense.weight', 'realm.reader.realm.encoder.layer.1.attention.self.value.bias', 'realm.reader.realm.encoder.layer.0.attention.self.key.bias', 'realm.reader.realm.encoder.layer.10.attention.self.value.weight', 'realm.embedder.realm.encoder.layer.11.attention.self.key.bias', 'realm.embedder.realm.encoder.layer.6.output.LayerNorm.weight', 'realm.reader.realm.encoder.layer.6.output.dense.bias', 'realm.embedder.realm.encoder.layer.6.attention.self.query.bias', 'realm.reader.realm.encoder.layer.1.attention.self.value.weight', 'realm.embedder.realm.encoder.layer.5.attention.output.dense.weight', 'realm.reader.realm.encoder.layer.3.attention.self.value.weight', 'realm.embedder.realm.encoder.layer.8.attention.self.query.bias', 'realm.reader.realm.encoder.layer.11.attention.self.value.weight', 'realm.embedder.realm.encoder.layer.5.attention.self.query.bias', 'realm.reader.realm.encoder.layer.11.attention.self.query.weight', 'realm.reader.realm.encoder.layer.11.output.dense.bias', 'realm.embedder.realm.encoder.layer.1.attention.self.value.bias', 'realm.reader.cls.predictions.bias', 'realm.reader.realm.encoder.layer.7.attention.self.key.weight', 'realm.reader.realm.encoder.layer.1.intermediate.dense.bias', 'realm.reader.realm.encoder.layer.3.intermediate.dense.bias', 'realm.reader.realm.encoder.layer.5.attention.output.dense.weight', 'realm.embedder.realm.encoder.layer.7.output.dense.bias', 'realm.embedder.realm.encoder.layer.4.output.LayerNorm.bias', 'realm.reader.realm.encoder.layer.1.output.dense.bias', 'realm.reader.realm.encoder.layer.0.output.dense.bias']\n",
      "You should probably TRAIN this model on a down-stream task to be able to use it for predictions and inference.\n"
     ]
    }
   ],
   "source": [
    "model = RealmForOpenQA.from_pretrained(\"google/realm-cc-news-pretrained-encoder\", retriever=retriever)\n"
   ],
   "metadata": {
    "collapsed": false
   }
  },
  {
   "cell_type": "code",
   "execution_count": 9,
   "outputs": [],
   "source": [
    "# Load (natural questions) dataset for use during fine-tuning the model\n",
    "\n",
    "def load_natural_questions():\n",
    "    MAX_TOKEN_SIZE = 5\n",
    "    def filter_fn(example):\n",
    "        \"\"\"\n",
    "            Remove answers with length > 5\n",
    "        \"\"\"\n",
    "        for short_ans in example['annotations.short_answers']:\n",
    "            if len(short_ans) != 0:\n",
    "                for i in range(len(short_ans['text'])):\n",
    "                    if short_ans['end_token'][i] - short_ans['start_token'][i] < MAX_TOKEN_SIZE:\n",
    "                        return True\n",
    "        return False\n",
    "\n",
    "    def map_fn(example):\n",
    "        \"\"\" Unify dataset structures \"\"\"\n",
    "        return {\n",
    "            'question': example['question.text'],\n",
    "            'answers': [answer['text'] for answer in example['annotations.short_answers']]\n",
    "        }\n",
    "\n",
    "    dataset = load_dataset(\"natural_questions\",\n",
    "                           # cache_dir=\"/run/user/1000/gvfs/smb-share:server=thecloud.local,share=elements_25a3-1\",  # NAS device, I don't have enough space locally\n",
    "                           beam_runner='DirectRunner')  # use default cache location\n",
    "\n",
    "    # get rid of unused columns and flatten the structure\n",
    "    train_dev_set = dataset['train'].train_test_split(test_size=0.2, shuffle=False)\n",
    "\n",
    "    # create train/test/val splits\n",
    "    train_set = train_dev_set['train'].remove_columns(['id', 'document']).flatten()\n",
    "    test_set = train_dev_set['test'].remove_columns(['id', 'document']).flatten()\n",
    "    eval_set = dataset['validation'].remove_columns(['id', 'document']).flatten()\n",
    "\n",
    "    # Perform filtering and mapping\n",
    "    train_set_filtered = train_set.filter(filter_fn).map(map_fn)\n",
    "    test_set_filtered = test_set.filter(filter_fn).map(map_fn)\n",
    "    eval_set_filtered = eval_set.filter(filter_fn).map(map_fn)\n",
    "\n",
    "    # After this, an example in this dataset should contain the following columns:\n",
    "    #     example['question']\n",
    "    #     example['answers'][num_answers]\n",
    "\n",
    "    return train_set_filtered, test_set_filtered, eval_set_filtered"
   ],
   "metadata": {
    "collapsed": false
   }
  },
  {
   "cell_type": "code",
   "execution_count": 12,
   "outputs": [],
   "source": [
    "# function to load zsRE qa dataset\n",
    "def load_zsre():\n",
    "    MAX_TOKEN_SIZE = 5\n",
    "\n",
    "    def set_subject_text(example):\n",
    "        \"\"\"\n",
    "        Put the subject of the context into the text\n",
    "            Example: {'question': \"What team does XXX belong to?\",\n",
    "                      ...\n",
    "                      'subject': 'Travis Harmonic'\n",
    "                      'answers': ['New York Islanders']\n",
    "                      }\n",
    "            Into: {'question': \"What team does Travis Harmonic belong to?\",\n",
    "                   'subject': 'Travis Harmonic'\n",
    "                   'answers': ['New York Islanders']}\n",
    "        \"\"\"\n",
    "        return {'question': example['question'].replace('XXX', example['subject']),\n",
    "                'answers': example['answers']}\n",
    "\n",
    "    def filter_empty_ans(example):\n",
    "        \"\"\"\n",
    "        Filter questions that have no answers\n",
    "        \"\"\"\n",
    "        return len(example['answers']) > 0\n",
    "\n",
    "    dataset = load_dataset(\"qa_zre\")  # cache_dir='/tmp/'\n",
    "\n",
    "    print(f\"{get_dataset_infos('qa_zre')}\")\n",
    "\n",
    "    # remove unused columns\n",
    "    train_set = dataset['train'].remove_columns(['relation', 'context']).flatten()\n",
    "    test_set = dataset['test'].remove_columns(['relation', 'context']).flatten()\n",
    "    eval_set = dataset['validation'].remove_columns(['relation', 'context']).flatten()\n",
    "\n",
    "    # map cleaning (we remove the subject column after fixing the answers)\n",
    "    train_filtered = train_set.filter(filter_empty_ans).map(set_subject_text).remove_columns(['subject'])\n",
    "    test_filtered = test_set.filter(filter_empty_ans).map(set_subject_text).remove_columns(['subject'])\n",
    "    eval_filtered = eval_set.filter(filter_empty_ans).map(set_subject_text).remove_columns(['subject'])\n",
    "\n",
    "    # Final dataset should look like:\n",
    "    #  {'question': 'some text',\n",
    "    #   'answers': [number of answers]\n",
    "\n",
    "    return train_filtered, test_filtered, eval_filtered # there's no inflection point t the reward"
   ],
   "metadata": {
    "collapsed": false
   }
  },
  {
   "cell_type": "code",
   "execution_count": 10,
   "outputs": [],
   "source": [],
   "metadata": {
    "collapsed": false
   }
  },
  {
   "cell_type": "code",
   "execution_count": 13,
   "outputs": [],
   "source": [
    "# Define a data collator to use with model\n",
    "# fixme: prefer torch.utils.data.DataCollator\n",
    "class DataCollator(object):\n",
    "    def __init__(self, _tokenizer):\n",
    "        # self.args = args\n",
    "        self.tokenizer = _tokenizer\n",
    "\n",
    "    def __call__(self, batch):\n",
    "        example = batch[0]\n",
    "        question = example['question']\n",
    "        answer_texts = []\n",
    "\n",
    "        # format the answers properly\n",
    "        for ans in example['answers']:\n",
    "            answer_texts += [ans] if isinstance(ans, str) else ans\n",
    "\n",
    "        # remove duplicates\n",
    "        answer_texts = list(set(answer_texts))\n",
    "        if len(answer_texts) != 0:\n",
    "            answer_ids = self.tokenizer(\n",
    "                answer_texts,\n",
    "                add_special_tokens=False,\n",
    "                return_token_type_ids=False,\n",
    "                return_attention_mask=False,\n",
    "            ).input_ids\n",
    "        else:\n",
    "            answer_ids = [[-1]]\n",
    "\n",
    "        return question, answer_texts, answer_ids\n",
    "\n"
   ],
   "metadata": {
    "collapsed": false
   }
  },
  {
   "cell_type": "code",
   "execution_count": 13,
   "outputs": [],
   "source": [],
   "metadata": {
    "collapsed": false
   }
  },
  {
   "cell_type": "code",
   "execution_count": 13,
   "outputs": [],
   "source": [],
   "metadata": {
    "collapsed": false
   }
  },
  {
   "cell_type": "code",
   "execution_count": null,
   "outputs": [],
   "source": [],
   "metadata": {
    "collapsed": false,
    "pycharm": {
     "is_executing": true
    }
   }
  },
  {
   "cell_type": "code",
   "execution_count": 12,
   "outputs": [
    {
     "name": "stderr",
     "output_type": "stream",
     "text": [
      "Found cached dataset qa_zre (/home/patrick/.cache/huggingface/datasets/qa_zre/default/0.1.0/9ad49793a90e5078eb59cf29a88c0b0e893635bbb797a054ac70ab55165bf453)\n"
     ]
    },
    {
     "data": {
      "text/plain": "  0%|          | 0/3 [00:00<?, ?it/s]",
      "application/vnd.jupyter.widget-view+json": {
       "version_major": 2,
       "version_minor": 0,
       "model_id": "eebff88f7a454e8a821bebb5ec074e26"
      }
     },
     "metadata": {},
     "output_type": "display_data"
    },
    {
     "name": "stdout",
     "output_type": "stream",
     "text": [
      "{'default': DatasetInfo(description='A dataset reducing relation extraction to simple reading comprehension questions\\n', citation='@inproceedings{levy-etal-2017-zero,\\n    title = \"Zero-Shot Relation Extraction via Reading Comprehension\",\\n    author = \"Levy, Omer  and\\n      Seo, Minjoon  and\\n      Choi, Eunsol  and\\n      Zettlemoyer, Luke\",\\n    booktitle = \"Proceedings of the 21st Conference on Computational Natural Language Learning ({C}o{NLL} 2017)\",\\n    month = aug,\\n    year = \"2017\",\\n    address = \"Vancouver, Canada\",\\n    publisher = \"Association for Computational Linguistics\",\\n    url = \"https://www.aclweb.org/anthology/K17-1034\",\\n    doi = \"10.18653/v1/K17-1034\",\\n    pages = \"333--342\",\\n}\\n', homepage='http://nlp.cs.washington.edu/zeroshot', license='', features={'relation': Value(dtype='string', id=None), 'question': Value(dtype='string', id=None), 'subject': Value(dtype='string', id=None), 'context': Value(dtype='string', id=None), 'answers': Sequence(feature=Value(dtype='string', id=None), length=-1, id=None)}, post_processed=None, supervised_keys=None, task_templates=None, builder_name='qa_zre', config_name='default', version=0.1.0, splits={'test': SplitInfo(name='test', num_bytes=29409906, num_examples=120000, dataset_name='qa_zre'), 'validation': SplitInfo(name='validation', num_bytes=1481406, num_examples=6000, dataset_name='qa_zre'), 'train': SplitInfo(name='train', num_bytes=2054933851, num_examples=8400000, dataset_name='qa_zre')}, download_checksums={'http://nlp.cs.washington.edu/zeroshot/relation_splits.tar.bz2': {'num_bytes': 516061636, 'checksum': 'e33d0e367b6e837370da17a2d09d217e0a92f8d180f7abb3fd543a2d1726b2b4'}}, download_size=516061636, post_processing_size=None, dataset_size=2085825163, size_in_bytes=2601886799)}\n"
     ]
    },
    {
     "data": {
      "text/plain": "  0%|          | 0/8400 [00:00<?, ?ba/s]",
      "application/vnd.jupyter.widget-view+json": {
       "version_major": 2,
       "version_minor": 0,
       "model_id": "b3271f7adaf747f1a1517dc9c632b085"
      }
     },
     "metadata": {},
     "output_type": "display_data"
    },
    {
     "data": {
      "text/plain": "  0%|          | 0/4200000 [00:00<?, ?ex/s]",
      "application/vnd.jupyter.widget-view+json": {
       "version_major": 2,
       "version_minor": 0,
       "model_id": "c665c5a8fbc64c539a44b644988eaf79"
      }
     },
     "metadata": {},
     "output_type": "display_data"
    },
    {
     "data": {
      "text/plain": "  0%|          | 0/120 [00:00<?, ?ba/s]",
      "application/vnd.jupyter.widget-view+json": {
       "version_major": 2,
       "version_minor": 0,
       "model_id": "0801c8c3a1564de0b9645ebf45d7e975"
      }
     },
     "metadata": {},
     "output_type": "display_data"
    },
    {
     "data": {
      "text/plain": "  0%|          | 0/60000 [00:00<?, ?ex/s]",
      "application/vnd.jupyter.widget-view+json": {
       "version_major": 2,
       "version_minor": 0,
       "model_id": "6fd1150e6ff641b8bb4748cc97543303"
      }
     },
     "metadata": {},
     "output_type": "display_data"
    },
    {
     "data": {
      "text/plain": "  0%|          | 0/6 [00:00<?, ?ba/s]",
      "application/vnd.jupyter.widget-view+json": {
       "version_major": 2,
       "version_minor": 0,
       "model_id": "9d768235d8664034916e9f1fc4866cfc"
      }
     },
     "metadata": {},
     "output_type": "display_data"
    },
    {
     "data": {
      "text/plain": "  0%|          | 0/3000 [00:00<?, ?ex/s]",
      "application/vnd.jupyter.widget-view+json": {
       "version_major": 2,
       "version_minor": 0,
       "model_id": "e8c196d9714149d4a9c682567e5c2b8c"
      }
     },
     "metadata": {},
     "output_type": "display_data"
    },
    {
     "name": "stdout",
     "output_type": "stream",
     "text": [
      "Train size: 4200000\n",
      "Test size: 60000\n",
      "Validation size: 3000\n"
     ]
    }
   ],
   "source": [
    "# get natural questions dataset for fine-tuning\n",
    "train_set, test_set, eval_set = load_zsre()\n",
    "print(f\"Train size: {len(train_set)}\\nTest size: {len(test_set)}\\nValidation size: {len(eval_set)}\")"
   ],
   "metadata": {
    "collapsed": false
   }
  },
  {
   "cell_type": "code",
   "execution_count": null,
   "outputs": [],
   "source": [],
   "metadata": {
    "collapsed": false
   }
  },
  {
   "cell_type": "code",
   "execution_count": 19,
   "outputs": [],
   "source": [
    "# Let's work with the pretrained version of the model\n",
    "def get_pretrained_realm():\n",
    "    # set activation function to use\n",
    "    config = RealmConfig(hidden_act='gelu_new')\n",
    "    tokenizer = RealmTokenizerFast.from_pretrained(\"google/realm-cc-news-pretrained-embedder\", do_lower_case=True)\n",
    "\n",
    "    # load the new wiki data converted to tf_record blocks to use with the retriever\n",
    "    block_records = convert_tfrecord_to_np(\"/home/patrick/Documents/MSc/Fall22/NLP/realm/data/wiki-raw/database/blocks.tfr\",\n",
    "                                           # num_block_records=config.num_block_records)  # default value is too big for local machine. Uncomment when running on instance\n",
    "                                           num_block_records=100)\n",
    "    _retriever = RealmRetriever(block_records, tokenizer)\n",
    "\n",
    "    _model = RealmForOpenQA(config=config, retriever=_retriever)\n",
    "\n",
    "    return _model\n"
   ],
   "metadata": {
    "collapsed": false
   }
  },
  {
   "cell_type": "code",
   "execution_count": 24,
   "outputs": [
    {
     "name": "stdout",
     "output_type": "stream",
     "text": [
      "[b\"Anarchism is a political philosophy and movement that is sceptical of authority and rejects all involuntary, coercive forms of hierarchy. Anarchism calls for the abolition of the state, which it holds to be unnecessary, undesirable, and harmful. As a historically left-wing movement, placed on the farthest left of the political spectrum, it is usually described alongside libertarian Marxism as the libertarian wing (libertarian socialism) of the socialist movement, and has a strong historical association with anti-capitalism and socialism. Humans lived in societies without formal hierarchies long before the establishment of formal states, realms, or empires. With the rise of organised hierarchical bodies, scepticism toward authority also rose. Although traces of anarchist thought are found throughout history, modern anarchism emerged from the Enlightenment. During the latter half of the 19th and the first decades of the 20th century, the anarchist movement flourished in most parts of the world and had a significant role in workers' struggles for emancipation. Various anarchist schools of thought formed during this period. Anarchists have taken part in several revolutions, most notably in the Comune of Paris, the Russian Civil War and the Spanish Civil War, whose end marked the end of the classical era of anarchism. In the last decades of the 20th and into the 21st century, the anarchist movement has been resurgent once more.\"\n",
      " b'Anarchism employs a diversity of tactics in order to meet its ideal ends which can be broadly separated into revolutionary and evolutionary tactics; there is significant overlap between the two, which are merely descriptive. Revolutionary tactics aim to bring down authority and state, having taken a violent turn in the past, while evolutionary tactics aim to prefigure what an anarchist society would be like. Anarchist thought, criticism, and praxis have played a part in diverse areas of human society. Criticism of anarchism include claims that it is internally inconsistent, violent, or utopian. Etymology, terminology, and definition. The etymological origin of \"anarchism\" is from the Ancient Greek \"anarkhia\", meaning \"without a ruler\", composed of the prefix \"an-\" (\"without\") and the word \"arkhos\" (\"leader\" or \"ruler\"). The suffix \"-ism\" denotes the ideological current that favours anarchy. \"Anarchism\" appears in English from 1642 as \"anarchisme\" and \"anarchy\" from 1539; early English usages emphasised a sense of disorder. Various factions within the French Revolution labelled their opponents as \"anarchists\", although few such accused shared many views with later anarchists.'\n",
      " b'Many revolutionaries of the 19th century such as William Godwin (1756\\xe2\\x80\\x931836) and Wilhelm Weitling (1808\\xe2\\x80\\x931871) would contribute to the anarchist doctrines of the next generation but did not use \"anarchist\" or \"anarchism\" in describing themselves or their beliefs. The first political philosopher to call himself an \"anarchist\" () was Pierre-Joseph Proudhon (1809\\xe2\\x80\\x931865), marking the formal birth of anarchism in the mid-19th century. Since the 1890s and beginning in France, \"libertarianism\" has often been used as a synonym for anarchism and its use as a synonym is still common outside the United States. Some usages of \"libertarianism\" refers to individualistic free-market philosophy only, and free-market anarchism in particular is termed \"libertarian anarchism\". While the term \"libertarian\" has been largely synonymous with anarchism, its meaning has more recently diluted with wider adoption from ideologically disparate groups, including both the New Left and libertarian Marxists, who do not associate themselves with authoritarian socialists or a vanguard party, and extreme cultural liberals, who are primarily concerned with civil liberties. Additionally, some anarchists use \"libertarian socialist\" to avoid anarchism\\'s negative connotations and emphasise its connections with socialism.'\n",
      " b'\"Anarchism\" is broadly used to describe the anti-authoritarian wing of the socialist movement. Anarchism is contrasted to socialist forms which are state-oriented or from above. Scholars of anarchism generally highlight anarchism\\'s socialist credentials and criticise attempts at creating dichotomies between the two. Some scholars describe anarchism as having many influences from liberalism, and being both liberals and socialists but more so, while most scholars reject anarcho-capitalism as a misunderstanding of anarchist principles. While opposition to the state is central to anarchist thought, defining \"anarchism\" is not an easy task for scholars, as there is a lot of discussion among scholars and anarchists on the matter, and various currents perceive anarchism slightly differently. Major definitional elements include the will for a non-coercive society, the rejection of the state apparatus, the belief that human nature allows humans to exist in or progress toward such a non-coercive society, and a suggestion on how to act to pursue the ideal of anarchy. History. Pre-modern era. Before the establishment of towns and cities, an established authority did not exist. It was after the creation of institutions of authority that anarchistic ideas espoused as a reaction. The most notable precursors to anarchism in the ancient world were in China and Greece.'\n",
      " b'In China, philosophical anarchism (the discussion on the legitimacy of the state) was delineated by Taoist philosophers Zhuang Zhou and Laozi. Alongside Stoicism, Taoism has been said to have had \"significant anticipations\" of anarchism. Anarchic attitudes were also articulated by tragedians and philosophers in Greece. Aeschylus and Sophocles used the myth of Antigone to illustrate the conflict between rules set by the state and personal autonomy. Socrates questioned Athenian authorities constantly and insisted on the right of individual freedom of conscience. Cynics dismissed human law (\"nomos\") and associated authorities while trying to live according to nature (\"physis\"). Stoics were supportive of a society based on unofficial and friendly relations among its citizens without the presence of a state. In medieval Europe, there was no anarchistic activity except some ascetic religious movements. These, and other Muslim movements, later gave birth to religious anarchism. In the Sasanian Empire, Mazdak called for an egalitarian society and the abolition of monarchy, only to be soon executed by Emperor Kavad I. In Basra, religious sects preached against the state. In Europe, various sects developed anti-state and libertarian tendencies.'\n",
      " b\"Libertarian ideas further emerged during the Renaissance with the spread of humanism, rationalism, and reasoning through Europe. Novelists fictionalised ideal societies that were based on voluntarism rather than coercion. The Age of Enlightenment further pushed towards anarchism with the optimism for social progress. Modern era. During the French Revolution, partisan groups such as the Enrag\\xc3\\xa9s and the saw a turning point in the fermentation of anti-state and federalist sentiments. The first anarchist currents developed throughout the 18th century as William Godwin espoused philosophical anarchism in England, morally delegitimising the state, Max Stirner's thinking paved the way to individualism and Pierre-Joseph Proudhon's theory of mutualism found fertile soil in France. By the late 1870s, various anarchist schools of thought had become well-defined and a wave of then unprecedented globalisation occurred from 1880 to 1914. This era of classical anarchism lasted until the end of the Spanish Civil War and is considered the golden age of anarchism. Drawing from mutualism, Mikhail Bakunin founded collectivist anarchism and entered the International Workingmen's Association, a class worker union later known as the First International that formed in 1864 to unite diverse revolutionary currents. The International became a significant political force, with Karl Marx being a leading figure and a member of its General Council.\"\n",
      " b\"Bakunin's faction (the Jura Federation) and Proudhon's followers (the mutualists) opposed state socialism, advocating political abstentionism and small property holdings. After bitter disputes, the Bakuninists were expelled from the International by the Marxists at the 1872 Hague Congress. Anarchists were treated similarly in the Second International, being ultimately expelled in 1896. Bakunin famously predicted that if revolutionaries gained power by Marx's terms, they would end up the new tyrants of workers. In response to their expulsion from the First International, anarchists formed the St. Imier International. Under the influence of Peter Kropotkin, a Russian philosopher and scientist, anarcho-communism overlapped with collectivism. Anarcho-communists, who drew inspiration from the 1871 Paris Commune, advocated for free federation and for the distribution of goods according to one's needs. At the turn of the century, anarchism had spread all over the world. It was a notable feature of the international syndicalism movement. In China, small groups of students imported the humanistic pro-science version of anarcho-communism. Tokyo was a hotspot for rebellious youth from countries of the far east, travelling to the Japanese capital to study.\"\n",
      " b\"In Latin America, Argentina was a stronghold for anarcho-syndicalism, where it became the most prominent left-wing ideology. During this time, a minority of anarchists adopted tactics of revolutionary political violence. This strategy became known as propaganda of the deed. The dismemberment of the French socialist movement into many groups and the execution and exile of many Communards to penal colonies following the suppression of the Paris Commune favoured individualist political expression and acts. Even though many anarchists distanced themselves from these terrorist acts, infamy came upon the movement and attempts were made to exclude them from American immigration, including the Immigration Act of 1903, also called the Anarchist Exclusion Act. Illegalism was another strategy which some anarchists adopted during this period. Despite concerns, anarchists enthusiastically participated in the Russian Revolution in opposition to the White movement; however, they met harsh suppression after the Bolshevik government was stabilised. Several anarchists from Petrograd and Moscow fled to Ukraine, notably leading to the Kronstadt rebellion and Nestor Makhno's struggle in the Free Territory. With the anarchists being crushed in Russia, two new antithetical currents emerged, namely platformism and synthesis anarchism. The former sought to create a coherent group that would push for revolution while the latter were against anything that would resemble a political party.\"\n",
      " b'Seeing the victories of the Bolsheviks in the October Revolution and the resulting Russian Civil War, many workers and activists turned to communist parties which grew at the expense of anarchism and other socialist movements. In France and the United States, members of major syndicalist movements such as the General Confederation of Labour and the Industrial Workers of the World left their organisations and joined the Communist International. In the Spanish Civil War of 1936, anarchists and syndicalists (CNT and FAI) once again allied themselves with various currents of leftists. A long tradition of Spanish anarchism led to anarchists playing a pivotal role in the war. In response to the army rebellion, an anarchist-inspired movement of peasants and workers, supported by armed militias, took control of Barcelona and of large areas of rural Spain, where they collectivised the land. The Soviet Union provided some limited assistance at the beginning of the war, but the result was a bitter fight among communists and anarchists at a series of events named May Days as Joseph Stalin tried to seize control of the Republicans. Post-war era. At the end of World War II, the anarchist movement was severely weakened. The 1960s witnessed a revival of anarchism, likely caused by a perceived failure of Marxism\\xe2\\x80\\x93Leninism and tensions built by the Cold War.'\n",
      " b'During this time, anarchism found a presence in other movements critical towards both capitalism and the state such as the anti-nuclear, environmental, and peace movements, the counterculture of the 1960s, and the New Left. It also saw a transition from its previous revolutionary nature to provocative anti-capitalist reformism. Anarchism became associated with punk subculture as exemplified by bands such as Crass and the Sex Pistols. The established feminist tendencies of anarcha-feminism returned with vigour during the second wave of feminism. Black anarchism began to take form at this time and influenced anarchism\\'s move from a Eurocentric demographic. This coincided with its failure to gain traction in Northern Europe and its unprecedented height in Latin America. Around the turn of the 21st century, anarchism grew in popularity and influence within anti-capitalist, anti-war and anti-globalisation movements. Anarchists became known for their involvement in protests against the World Trade Organization (WTO), the Group of Eight and the World Economic Forum. During the protests, \"ad hoc\" leaderless anonymous cadres known as black blocs engaged in rioting, property destruction and violent confrontations with the police. Other organisational tactics pioneered in this time include affinity groups, security culture and the use of decentralised technologies such as the Internet.'\n",
      " b'A significant event of this period was the confrontations at the 1999 Seattle WTO conference. Anarchist ideas have been influential in the development of the Zapatistas in Mexico and the Democratic Federation of Northern Syria, more commonly known as Rojava, a \"de facto\" autonomous region in northern Syria. Thought. Anarchist schools of thought have been generally grouped into two main historical traditions, social anarchism and individualist anarchism, owing to their different origins, values and evolution. The individualist current emphasises negative liberty in opposing restraints upon the free individual, while the social current emphasises positive liberty in aiming to achieve the free potential of society through equality and social ownership. In a chronological sense, anarchism can be segmented by the classical currents of the late 19th century and the post-classical currents (anarcha-feminism, green anarchism, and post-anarchism) developed thereafter. Beyond the specific factions of anarchist movements which constitute political anarchism lies philosophical anarchism which holds that the state lacks moral legitimacy, without necessarily accepting the imperative of revolution to eliminate it. A component especially of individualist anarchism, philosophical anarchism may tolerate the existence of a minimal state but claims that citizens have no moral obligation to obey government when it conflicts with individual autonomy.'\n",
      " b\"Anarchism pays significant attention to moral arguments since ethics have a central role in anarchist philosophy. Anarchism's emphasis on anti-capitalism, egalitarianism, and for the extension of community and individuality sets it apart from anarcho-capitalism and other types of economic libertarianism. Anarchism is usually placed on the far-left of the political spectrum. Much of its economics and legal philosophy reflect anti-authoritarian, anti-statist, libertarian, and radical interpretations of left-wing and socialist politics such as collectivism, communism, individualism, mutualism, and syndicalism, among other libertarian socialist economic theories. As anarchism does not offer a fixed body of doctrine from a single particular worldview, many anarchist types and traditions exist and varieties of anarchy diverge widely. One reaction against sectarianism within the anarchist milieu was anarchism without adjectives, a call for toleration and unity among anarchists first adopted by Fernando Tarrida del M\\xc3\\xa1rmol in 1889 in response to the bitter debates of anarchist theory at the time. Belief in political nihilism has been espoused by anarchists.\"\n",
      " b'Despite separation, the various anarchist schools of thought are not seen as distinct entities but rather as tendencies that intermingle and are connected through a set of uniform principles such as individual and local autonomy, mutual aid, network organisation, communal democracy, justified authority and decentralisation. Classical. Inceptive currents among classical anarchist currents were mutualism and individualism. They were followed by the major currents of social anarchism (collectivist, communist and syndicalist). They differ on organisational and economic aspects of their ideal society. Mutualism is an 18th-century economic theory that was developed into anarchist theory by Pierre-Joseph Proudhon. Its aims include reciprocity, free association, voluntary contract, federation and monetary reform of both credit and currency that would be regulated by a bank of the people. Mutualism has been retrospectively characterised as ideologically situated between individualist and collectivist forms of anarchism. In \"What Is Property?\" (1840), Proudhon first characterised his goal as a \"third form of society, the synthesis of communism and property.\" Collectivist anarchism is a revolutionary socialist form of anarchism commonly associated with Mikhail Bakunin.'\n",
      " b'Collectivist anarchists advocate collective ownership of the means of production which is theorised to be achieved through violent revolution and that workers be paid according to time worked, rather than goods being distributed according to need as in communism. Collectivist anarchism arose alongside Marxism but rejected the dictatorship of the proletariat despite the stated Marxist goal of a collectivist stateless society. Anarcho-communism is a theory of anarchism that advocates a communist society with common ownership of the means of production, direct democracy and a horizontal network of voluntary associations, workers\\' councils and worker cooperatives, with production and consumption based on the guiding principle \"From each according to his ability, to each according to his need.\" Anarcho-communism developed from radical socialist currents after the French Revolution but was first formulated as such in the Italian section of the First International. It was later expanded upon in the theoretical work of Peter Kropotkin, whose specific style would go onto become the dominating view of anarchists by the late 19th century. Anarcho-syndicalism is a branch of anarchism that views labour syndicates as a potential force for revolutionary social change, replacing capitalism and the state with a new society democratically self-managed by workers. The basic principles of anarcho-syndicalism are direct action, workers\\' solidarity and workers\\' self-management.'\n",
      " b\"Individualist anarchism is a set of several traditions of thought within the anarchist movement that emphasise the individual and their will over any kinds of external determinants. Early influences on individualist forms of anarchism include William Godwin, Max Stirner, and Henry David Thoreau. Through many countries, individualist anarchism attracted a small yet diverse following of Bohemian artists and intellectuals as well as young anarchist outlaws in what became known as illegalism and individual reclamation. Post-classical and contemporary. Anarchist principles undergird contemporary radical social movements of the left. Interest in the anarchist movement developed alongside momentum in the anti-globalisation movement, whose leading activist networks were anarchist in orientation. As the movement shaped 21st century radicalism, wider embrace of anarchist principles signaled a revival of interest. Anarchism has continued to generate many philosophies and movements, at times eclectic, drawing upon various sources and syncretic, combining disparate concepts to create new philosophical approaches.The anti-capitalist tradition of classical anarchism has remained prominent within contemporary currents. Contemporary news coverage which emphasizes black bloc demonstrations has reinforced anarchism's historical association with chaos and violence. Its publicity has also led more scholars in fields such as anthropology and history to engage with the anarchist movement, although contemporary anarchism favours actions over academic theory.\"\n",
      " b'Various anarchist groups, tendencies, and schools of thought exist today, making it difficult to describe the contemporary anarchist movement. While theorists and activists have established \"relatively stable constellations of anarchist principles\", there is no consensus on which principles are core and commentators describe multiple \"anarchisms\", rather than a singular \"anarchism\", in which common principles are shared between schools of anarchism while each group prioritizes those principles differently. Gender equality can be a common principle, although it ranks as a higher priority to anarcha-feminists than anarcho-communists. Anarchists are generally committed against coercive authority in all forms, namely \"all centralized and hierarchical forms of government (e.g., monarchy, representative democracy, state socialism, etc. ), economic class systems (e.g., capitalism, Bolshevism, feudalism, slavery, etc. ), autocratic religions (e.g., fundamentalist Islam, Roman Catholicism, etc. ), patriarchy, heterosexism, white supremacy, and imperialism.\" Anarchist schools disagree on the methods by which these forms should be opposed. The principle of equal liberty is closer to anarchist political ethics in that it transcends both the liberal and socialist traditions.'\n",
      " b\"This entails that liberty and equality cannot be implemented within the state, resulting in the questioning of all forms of domination and hierarchy. Tactics. Anarchists' tactics take various forms but in general serve two major goals, namely to first oppose the Establishment and secondly to promote anarchist ethics and reflect an anarchist vision of society, illustrating the unity of means and ends. A broad categorisation can be made between aims to destroy oppressive states and institutions by revolutionary means on one hand and aims to change society through evolutionary means on the other. Evolutionary tactics embrace nonviolence, reject violence and take a gradual approach to anarchist aims, although there is significant overlap between the two. Anarchist tactics have shifted during the course of the last century. Anarchists during the early 20th century focused more on strikes and militancy while contemporary anarchists use a broader array of approaches. Classical era tactics. During the classical era, anarchists had a militant tendency. Not only did they confront state armed forces, as in Spain and Ukraine, but some of them also employed terrorism as propaganda of the deed. Assassination attempts were carried out against heads of state, some of which were successful. Anarchists also took part in revolutions. Many anarchists, especially the Galleanists, believed that these attempts would be the impetus for a revolution against capitalism and the state.\"\n",
      " b'Many of these attacks were done by individual assailants and the majority took place in the late 1870s, the early 1880s and the 1890s, with some still occurring in the early 1900s. Their decrease in prevalence was the result of further judicial power and targeting and cataloging by state institutions. Anarchist perspectives towards violence have always been controversial. On one hand, anarcho-pacifists point out the unity of means and ends. On the other hand, other anarchist groups advocate direct action, a tactic which can include acts of sabotage or even acts of terrorism. This attitude was quite prominent a century ago when seeing the state as a tyrant and some anarchists believing that they had every right to oppose its oppression by any means possible. Emma Goldman and Errico Malatesta, who were proponents of limited use of violence, stated that violence is merely a reaction to state violence as a necessary evil. Anarchists took an active role in strike actions, although they tended to be antipathetic to formal syndicalism, seeing it as reformist. They saw it as a part of the movement which sought to overthrow the state and capitalism. Anarchists also reinforced their propaganda within the arts, some of whom practiced naturism and nudism. Those anarchists also built communities which were based on friendship and were involved in the news media. Revolutionary tactics.'\n",
      " b'In the current era, Italian anarchist Alfredo Bonanno, a proponent of insurrectionary anarchism, has reinstated the debate on violence by rejecting the nonviolence tactic adopted since the late 19th century by Kropotkin and other prominent anarchists afterwards. Both Bonanno and the French group The Invisible Committee advocate for small, informal affiliation groups, where each member is responsible for their own actions but works together to bring down oppression utilizing sabotage and other violent means against state, capitalism, and other enemies. Members of The Invisible Committee were arrested in 2008 on various charges, terrorism included. Overall, contemporary anarchists are much less violent and militant than their ideological ancestors. They mostly engage in confronting the police during demonstrations and riots, especially in countries such as Canada, Greece, and Mexico. Militant black bloc protest groups are known for clashing with the police; however, anarchists not only clash with state operators, they also engage in the struggle against fascists and racists, taking anti-fascist action and mobilizing to prevent hate rallies from happening. Evolutionary tactics. Anarchists commonly employ direct action. This can take the form of disrupting and protesting against unjust hierarchy, or the form of self-managing their lives through the creation of counter-institutions such as communes and non-hierarchical collectives.'\n",
      " b'Decision-making is often handled in an anti-authoritarian way, with everyone having equal say in each decision, an approach known as horizontalism. Contemporary-era anarchists have been engaging with various grassroots movements that are more or less based on horizontalism, although not explicitly anarchist, respecting personal autonomy and participating in mass activism such as strikes and demonstrations. In contrast with the \"big-A anarchism\" of the classical era, the newly coined term \"small-a anarchism\" signals their tendency not to base their thoughts and actions on classical-era anarchism or to refer to classical anarchists such as Peter Kropotkin and Pierre-Joseph Proudhon to justify their opinions. Those anarchists would rather base their thought and praxis on their own experience which they will later theorize. The decision-making process of small anarchist affinity groups plays a significant tactical role. Anarchists have employed various methods in order to build a rough consensus among members of their group without the need of a leader or a leading group. One way is for an individual from the group to play the role of facilitator to help achieve a consensus without taking part in the discussion themselves or promoting a specific point. Minorities usually accept rough consensus, except when they feel the proposal contradicts anarchist ethics, goals and values.'\n",
      " b\"Anarchists usually form small groups (5\\xe2\\x80\\x9320 individuals) to enhance autonomy and friendships among their members. These kinds of groups more often than not interconnect with each other, forming larger networks. Anarchists still support and participate in strikes, especially wildcat strikes as these are leaderless strikes not organised centrally by a syndicate. As in the past, newspapers and journals are used, and anarchists have gone online in the World Wide Web to spread their message. Anarchists have found it easier to create websites because of distributional and other difficulties, hosting electronic libraries and other portals. Anarchists were also involved in developing various software that are available for free. The way these hacktivists work to develop and distribute resembles the anarchist ideals, especially when it comes to preserving users' privacy from state surveillance. Anarchists organize themselves to squat and reclaim public spaces. During important events such as protests and when spaces are being occupied, they are often called Temporary Autonomous Zones (TAZ), spaces where art, poetry, and surrealism are blended to display the anarchist ideal. As seen by anarchists, squatting is a way to regain urban space from the capitalist market, serving pragmatical needs and also being an exemplary direct action. Acquiring space enables anarchists to experiment with their ideas and build social bonds.\"\n",
      " b\"Adding up these tactics while having in mind that not all anarchists share the same attitudes towards them, along with various forms of protesting at highly symbolic events, make up a carnivalesque atmosphere that is part of contemporary anarchist vividity. Key issues. As anarchism is a philosophy that embodies many diverse attitudes, tendencies, and schools of thought; disagreement over questions of values, ideology, and tactics is common. Its diversity has led to widely different uses of identical terms among different anarchist traditions which has created a number of definitional concerns in anarchist theory. The compatibility of capitalism, nationalism, and religion with anarchism is widely disputed, and anarchism enjoys complex relationships with ideologies such as communism, collectivism, Marxism, and trade unionism. Anarchists may be motivated by humanism, divine authority, enlightened self-interest, veganism, or any number of alternative ethical doctrines. Phenomena such as civilisation, technology (e.g. within anarcho-primitivism), and the democratic process may be sharply criticised within some anarchist tendencies and simultaneously lauded in others. Gender, sexuality, and free love. As gender and sexuality carry along them dynamics of hierarchy, many anarchists address, analyse, and oppose the suppression of one's autonomy imposed by gender roles.\"\n",
      " b\"Sexuality was not often discussed by classical anarchists but the few that did felt that an anarchist society would lead to sexuality naturally developing. Sexual violence was a concern for anarchists such as Benjamin Tucker, who opposed age of consent laws, believing they would benefit predatory men. A historical current that arose and flourished during 1890 and 1920 within anarchism was free love. In contemporary anarchism, this current survives as a tendency to support polyamory and queer anarchism. Free love advocates were against marriage, which they saw as a way of men imposing authority over women, largely because marriage law greatly favoured the power of men. The notion of free love was much broader and included a critique of the established order that limited women's sexual freedom and pleasure. Those free love movements contributed to the establishment of communal houses, where large groups of travelers, anarchists and other activists slept in beds together. Free love had roots both in Europe and the United States; however, some anarchists struggled with the jealousy that arose from free love. Anarchist feminists were advocates of free love, against marriage, and pro-choice (utilising a contemporary term), and had a similar agenda. Anarchist and non-anarchist feminists differed on suffrage but were supportive of one another.\"\n",
      " b'During the second half of the 20th century, anarchism intermingled with the second wave of feminism, radicalising some currents of the feminist movement and being influenced as well. By the latest decades of the 20th century, anarchists and feminists were advocating for the rights and autonomy of women, gays, queers and other marginalised groups, with some feminist thinkers suggesting a fusion of the two currents. With the third wave of feminism, sexual identity and compulsory heterosexuality became a subject of study for anarchists, yielding a post-structuralist critique of sexual normality. Some anarchists distanced themselves from this line of thinking, suggesting that it leaned towards an individualism that was dropping the cause of social liberation. Anarchism and education. The interest of anarchists in education stretches back to the first emergence of classical anarchism. Anarchists consider proper education, one which sets the foundations of the future autonomy of the individual and the society, to be an act of mutual aid. Anarchist writers such as William Godwin (\"Political Justice\") and Max Stirner (\"The False Principle of Our Education\") attacked both state education and private education as another means by which the ruling class replicate their privileges.'\n",
      " b'In 1901, Catalan anarchist and free thinker Francisco Ferrer established the Escuela Moderna in Barcelona as an opposition to the established education system which was dictated largely by the Catholic Church. Ferrer\\'s approach was secular, rejecting both state and church involvement in the educational process whilst giving pupils large amounts of autonomy in planning their work and attendance. Ferrer aimed to educate the working class and explicitly sought to foster class consciousness among students. The school closed after constant harassment by the state and Ferrer was later arrested. Nonetheless, his ideas formed the inspiration for a series of modern schools around the world. Christian anarchist Leo Tolstoy, who published the essay \"Education and Culture\", also established a similar school with its founding principle being that \"for education to be effective it had to be free.\" In a similar token, A. S. Neill founded what became the Summerhill School in 1921, also declaring being free from coercion. Anarchist education is based largely on the idea that a child\\'s right to develop freely and without manipulation ought to be respected and that rationality would lead children to morally good conclusions; however, there has been little consensus among anarchist figures as to what constitutes manipulation. Ferrer believed that moral indoctrination was necessary and explicitly taught pupils that equality, liberty and social justice were not possible under capitalism, along with other critiques of government and nationalism.'\n",
      " b'Late 20th century and contemporary anarchist writers (Paul Goodman, Herbert Read, and Colin Ward) intensified and expanded the anarchist critique of state education, largely focusing on the need for a system that focuses on children\\'s creativity rather than on their ability to attain a career or participate in consumerism as part of a consumer society. Contemporary anarchists such as Ward claim that state education serves to perpetuate socioeconomic inequality. While few anarchist education institutions have survived to the modern-day, major tenets of anarchist schools, among them respect for child autonomy and relying on reasoning rather than indoctrination as a teaching method, have spread among mainstream educational institutions. Judith Suissa names three schools as explicitly anarchists schools, namely the Free Skool Santa Cruz in the United States which is part of a wider American-Canadian network of schools, the Self-Managed Learning College in Brighton, England, and the Paideia School in Spain. Anarchism and the state. Objection to the state and its institutions is a \"sine qua non\" of anarchism. Anarchists consider the state as a tool of domination and believe it to be illegitimate regardless of its political tendencies. Instead of people being able to control the aspects of their life, major decisions are taken by a small elite.'\n",
      " b'Authority ultimately rests solely on power, regardless of whether that power is open or transparent, as it still has the ability to coerce people. Another anarchist argument against states is that the people constituting a government, even the most altruistic among officials, will unavoidably seek to gain more power, leading to corruption. Anarchists consider the idea that the state is the collective will of the people to be an unachievable fiction due to the fact that the ruling class is distinct from the rest of society. Specific anarchist attitudes towards the state vary. Robert Paul Wolff believed that the tension between authority and autonomy would mean the state could never be legitimate. Bakunin saw the state as meaning \"coercion, domination by means of coercion, camouflaged if possible but unceremonious and overt if need be.\" A. John Simmons and Leslie Green, who leaned toward philosophical anarchism, believed that the state could be legitimate if it is governed by consensus, although they saw this as highly unlikely. Beliefs on how to abolish the state also differ. Anarchism and the arts. The connection between anarchism and art was quite profound during the classical era of anarchism, especially among artistic currents that were developing during that era such as futurists, surrealists and others.'\n",
      " b'In literature, anarchism was mostly associated with the New Apocalyptics and the neo-romanticism movement. In music, anarchism has been associated with music scenes such as punk. Anarchists such as Leo Tolstoy and Herbert Read stated that the border between the artist and the non-artist, what separates art from a daily act, is a construct produced by the alienation caused by capitalism and it prevents humans from living a joyful life. Other anarchists advocated for or used art as a means to achieve anarchist ends. In his book \"Breaking the Spell: A History of Anarchist Filmmakers, Videotape Guerrillas, and Digital Ninjas\", Chris Rob\\xc3\\xa9 claims that \"anarchist-inflected practices have increasingly structured movement-based video activism.\" Throughout the 20th century, many prominent anarchists (Peter Kropotkin, Emma Goldman, Gustav Landauer and Camillo Berneri) and publications such as \"Anarchy\" wrote about matters pertaining to the arts. Three overlapping properties made art useful to anarchists. It could depict a critique of existing society and hierarchies, serve as a prefigurative tool to reflect the anarchist ideal society and even turn into a means of direct action such as in protests. As it appeals to both emotion and reason, art could appeal to the whole human and have a powerful effect.'\n",
      " b'The 19th-century neo-impressionist movement had an ecological aesthetic and offered an example of an anarchist perception of the road towards socialism. In \"Les chataigniers a Osny\" by anarchist painter Camille Pissarro, the blending of aesthetic and social harmony is prefiguring an ideal anarchistic agrarian community. Analysis. The most common critique of anarchism is that humans cannot self-govern and so a state is necessary for human survival. Philosopher Bertrand Russell supported this critique, stating that \"[p]eace and war, tariffs, regulations of sanitary conditions and the sale of noxious drugs, the preservation of a just system of distribution: these, among others, are functions which could hardly be performed in a community in which there was no central government.\" Another common criticism of anarchism is that it fits a world of isolation in which only the small enough entities can be self-governing; a response would be that major anarchist thinkers advocated anarchist federalism. Philosophy lecturer Andrew G. Fiala composed a list of common arguments against anarchism which includes critiques such as that anarchism is innately related to violence and destruction, not only in the pragmatic world, such as at protests, but in the world of ethics as well. Secondly, anarchism is evaluated as unfeasible or utopian since the state can not be defeated practically.'\n",
      " b'This line of arguments most often calls for political action within the system to reform it. The third argument is that anarchism is self-contradictory. While it advocates for no-one to \"archiei\", if accepted by the many, then anarchism would turn into the ruling political theory. In this line of criticism also comes the self-contradiction that anarchism calls for collective action whilst endorsing the autonomy of the individual, hence no collective action can be taken. Lastly, Fiala mentions a critique towards philosophical anarchism of being ineffective (all talk and thoughts) and in the meantime capitalism and bourgeois class remains strong. Philosophical anarchism has met the criticism of members of academia following the release of pro-anarchist books such as A. John Simmons\\' \"Moral Principles and Political Obligations\". Law professor William A. Edmundson authored an essay to argue against three major philosophical anarchist principles which he finds fallacious. Edmundson says that while the individual does not owe the state a duty of obedience, this does not imply that anarchism is the inevitable conclusion and the state is still morally legitimate. In \"The Problem of Political Authority\", Michael Huemer defends philosophical anarchism, claiming that \"political authority is a moral illusion.\" One of the earliest criticisms is that anarchism defies and fails to understand the biological inclination to authority.'\n",
      " b'Joseph Raz states that the acceptance of authority implies the belief that following their instructions will afford more success. Raz believes that this argument is true in following both authorities\\' successful and mistaken instruction. Anarchists reject this criticism because challenging or disobeying authority does not entail the disappearance of its advantages by acknowledging authority such as doctors or lawyers as reliable, nor does it involve a complete surrender of independent judgment. Anarchist perception of human nature, rejection of the state, and commitment to social revolution has been criticised by academics as naive, overly simplistic, and unrealistic, respectively. Classical anarchism has been criticised for relying too heavily on the belief that the abolition of the state will lead to human cooperation prospering. Friedrich Engels, considered to be one of the principal founders of Marxism, criticised anarchism\\'s anti-authoritarianism as inherently counter-revolutionary because in his view a revolution is by itself authoritarian. Academic John Molyneux writes in his book \"Anarchism: A Marxist Criticism\" that \"anarchism cannot win\", believing that it lacks the ability to properly implement its ideas. The Marxist criticism of anarchism is that it has a utopian character because all individuals should have anarchist views and values.'\n",
      " b'According to the Marxist view, that a social idea would follow directly from this human ideal and out of the free will of every individual formed its essence. Marxists state that this contradiction was responsible for their inability to act. In the anarchist vision, the conflict between liberty and equality was resolved through coexistence and intertwining.'\n",
      " b\"Autism is a neurodevelopmental disorder characterized by difficulties with social interaction and communication, and by restricted and repetitive behavior. Parents often notice signs during the first three years of their child's life. These signs often develop gradually, though some autistic children experience regression in their communication and social skills after reaching developmental milestones at a normal pace. Autism is associated with a combination of genetic and environmental factors. Risk factors during pregnancy include certain infections, such as rubella, toxins including valproic acid, alcohol, cocaine, pesticides, lead, and air pollution, fetal growth restriction, and autoimmune diseases. Controversies surround other proposed environmental causes; for example, the vaccine hypothesis, which has been disproven. Autism affects information processing in the brain and how nerve cells and their synapses connect and organize; how this occurs is not well understood. The Diagnostic and Statistical Manual of Mental Disorders (DSM-5) combines forms of the condition, including Asperger syndrome and pervasive developmental disorder not otherwise specified (PDD-NOS) into the diagnosis of autism spectrum disorder (ASD). Several interventions have been shown to reduce symptoms and improve the ability of autistic people to function and participate independently in the community.\"\n",
      " b'Behavioral, psychological, education, and/or skill-building interventions may be used to assist autistic people to learn life skills necessary for living independently, as well as other social, communication, and language skills. Therapy also aims to reduce challenging behaviors and build upon strengths. Some autistic adults are unable to live independently. An autistic culture has developed, with some individuals seeking a cure and others believing autism should be accepted as a difference to be accommodated instead of cured. Globally, autism is estimated to affect 24.8 million people . In the 2000s, the number of autistic people worldwide was estimated at 1\\xe2\\x80\\x932 per 1,000 people. In the developed countries, about 1.5% of children are diagnosed with ASD , from 0.7% in 2000 in the United States. It is diagnosed four to five times more often in males than females. The number of people diagnosed has increased considerably since the 1990s, which may be partly due to increased recognition of the condition. Characteristics. Autism is a highly variable neurodevelopmental disorder whose symptoms first appear during infancy or childhood, and generally follows a steady course without remission. Autistic people may be severely impaired in some respects but average, or even superior, in others.'\n",
      " b'Overt symptoms gradually begin after the age of six months, become established by age two or three years and tend to continue through adulthood, although often in more muted form. It is distinguished by a characteristic triad of symptoms: impairments in social interaction, impairments in communication, and repetitive behavior. Other aspects, such as atypical eating, are also common but are not essential for diagnosis. Individual symptoms of autism occur in the general population and appear not to associate highly, without a sharp line separating pathologically severe from common traits. Social development. Social deficits distinguish autism and the related autism spectrum disorders (ASD; see Classification) from other developmental disorders. Autistic people have social impairments and often lack the intuition about others that many people take for granted. Noted autistic Temple Grandin described her inability to understand the social communication of neurotypicals, or people with typical neural development, as leaving her feeling \"like an anthropologist on Mars\". Unusual social development becomes apparent early in childhood. Autistic infants show less attention to social stimuli, smile and look at others less often, and respond less to their own name. Autistic toddlers differ more strikingly from social norms; for example, they have less eye contact and turn-taking, and do not have the ability to use simple movements to express themselves, such as pointing at things.'\n",
      " b\"Three- to five-year-old autistic children are less likely to exhibit social understanding, approach others spontaneously, imitate and respond to emotions, communicate nonverbally, and take turns with others. However, they do form attachments to their primary caregivers. Most autistic children display moderately less attachment security than neurotypical children, although this difference disappears in children with higher mental development or less pronounced autistic traits. Older children and adults with ASD perform worse on tests of face and emotion recognition although this may be partly due to a lower ability to define a person's own emotions. Children with high-functioning autism have more intense and frequent loneliness compared to non-autistic peers, despite the common belief that autistic children prefer to be alone. Making and maintaining friendships often proves to be difficult for autistic people. For them, the quality of friendships, not the number of friends, predicts how lonely they feel. Functional friendships, such as those resulting in invitations to parties, may affect the quality of life more deeply. There are many anecdotal reports, but few systematic studies, of aggression and violence in individuals with ASD. The limited data suggest that, in children with intellectual disability, autism is associated with aggression, destruction of property, and meltdowns. Communication.\"\n",
      " b\"About one third to half of autistic people do not develop enough natural speech to meet their daily communication needs. Differences in communication may be present from the first year of life, and may include delayed onset of babbling, unusual gestures, diminished responsiveness, and vocal patterns that are not synchronized with the caregiver. In the second and third years, autistic children have less frequent and less diverse babbling, consonants, words, and word combinations; their gestures are less often integrated with words. Autistic children are less likely to make requests or share experiences, and are more likely to simply repeat others' words (echolalia) or reverse pronouns. Joint attention seems to be necessary for functional speech, and deficits in joint attention seem to distinguish infants with ASD. For example, they may look at a pointing hand instead of the object to which the hand is pointing, and they consistently fail to point at objects in order to comment on or share an experience. Autistic children may have difficulty with imaginative play and with developing symbols into language. In a pair of studies, high-functioning autistic children aged 8\\xe2\\x80\\x9315 performed equally well as, and as adults better than, individually matched controls at basic language tasks involving vocabulary and spelling. Both autistic groups performed worse than controls at complex language tasks such as figurative language, comprehension, and inference.\"\n",
      " b'As people are often sized up initially from their basic language skills, these studies suggest that people speaking to autistic individuals are more likely to overestimate what their audience comprehends. Repetitive behavior. Autistic individuals can display many forms of repetitive or restricted behavior, which the Repetitive Behavior Scale-Revised (RBS-R) categorizes as follows. No single repetitive or self-injurious behavior seems to be specific to autism, but autism appears to have an elevated pattern of occurrence and severity of these behaviors. Other symptoms. Autistic individuals may have symptoms that are independent of the diagnosis, but that can affect the individual or the family. An estimated 0.5% to 10% of individuals with ASD show unusual abilities, ranging from splinter skills such as the memorization of trivia to the extraordinarily rare talents of prodigious autistic savants. Many individuals with ASD show superior skills in perception and attention, relative to the general population. Sensory abnormalities are found in over 90% of autistic people, and are considered core features by some, although there is no good evidence that sensory symptoms differentiate autism from other developmental disorders.'\n",
      " b'Differences are greater for under-responsivity (for example, walking into things) than for over-responsivity (for example, distress from loud noises) or for sensation seeking (for example, rhythmic movements). An estimated 60\\xe2\\x80\\x9380% of autistic people have motor signs that include poor muscle tone, poor motor planning, and toe walking; deficits in motor coordination are pervasive across ASD and are greater in autism proper. Unusual eating behavior occurs in about three-quarters of children with ASD, to the extent that it was formerly a diagnostic indicator. Selectivity is the most common problem, although eating rituals and food refusal also occur. There is tentative evidence that gender dysphoria occurs more frequently in autistic people (see Autism and LGBT identities). As well as that, a 2021 anonymized online survey of 16-90 year-olds revealed that autistic males are more likely to be bisexual, while autistic females are more likely to be homosexual. Gastrointestinal problems are one of the most commonly co-occurring medical conditions in autistic people. These are linked to greater social impairment, irritability, behavior and sleep problems, language impairments and mood changes. Parents of children with ASD have higher levels of stress.'\n",
      " b\"Siblings of children with ASD report greater admiration of and less conflict with the affected sibling than siblings of unaffected children and were similar to siblings of children with Down syndrome in these aspects of the sibling relationship. However, they reported lower levels of closeness and intimacy than siblings of children with Down syndrome; siblings of individuals with ASD have greater risk of negative well-being and poorer sibling relationships as adults. Causes. It has long been presumed that there is a common cause at the genetic, cognitive, and neural levels for autism's characteristic triad of symptoms. However, there is increasing suspicion that autism is instead a complex disorder whose core aspects have distinct causes that often co-occur. Autism has a strong genetic basis, although the genetics of autism are complex and it is unclear whether ASD is explained more by rare mutations with major effects, or by rare multigene interactions of common genetic variants. Complexity arises due to interactions among multiple genes, the environment, and epigenetic factors which do not change DNA sequencing but are heritable and influence gene expression. Many genes have been associated with autism through sequencing the genomes of affected individuals and their parents. Studies of twins suggest that heritability is 0.7 for autism and as high as 0.9 for ASD, and siblings of those with autism are about 25 times more likely to be autistic than the general population.\"\n",
      " b'However, most of the mutations that increase autism risk have not been identified. Typically, autism cannot be traced to a Mendelian (single-gene) mutation or to a single chromosome abnormality, and none of the genetic syndromes associated with ASDs have been shown to selectively cause ASD. Numerous candidate genes have been located, with only small effects attributable to any particular gene. Most loci individually explain less than 1% of cases of autism. The large number of autistic individuals with unaffected family members may result from spontaneous structural variation\\xe2\\x80\\x94such as deletions, duplications or inversions in genetic material during meiosis. Hence, a substantial fraction of autism cases may be traceable to genetic causes that are highly heritable but not inherited: that is, the mutation that causes the autism is not present in the parental genome. Autism may be underdiagnosed in women and girls due to an assumption that it is primarily a male condition, but genetic phenomena such as imprinting and X linkage have the ability to raise the frequency and severity of conditions in males, and theories have been put forward for a genetic reason why males are diagnosed more often, such as the imprinted brain hypothesis and the extreme male brain theory. Maternal nutrition and inflammation during preconception and pregnancy influences fetal neurodevelopment.'\n",
      " b'Intrauterine growth restriction is associated with ASD, in both term and preterm infants. Maternal inflammatory and autoimmune diseases may damage fetal tissues, aggravating a genetic problem or damaging the nervous system. Exposure to air pollution during pregnancy, especially heavy metals and particulates, may increase the risk of autism. Environmental factors that have been claimed without evidence to contribute to or exacerbate autism include certain foods, infectious diseases, solvents, PCBs, phthalates and phenols used in plastic products, pesticides, brominated flame retardants, alcohol, smoking, illicit drugs, vaccines, and prenatal stress. Some, such as the MMR vaccine, have been completely disproven. Parents may first become aware of autistic symptoms in their child around the time of a routine vaccination. This has led to unsupported theories blaming vaccine \"overload\", a vaccine preservative, or the MMR vaccine for causing autism. The latter theory was supported by a litigation-funded study that has since been shown to have been \"an elaborate fraud\".'\n",
      " b\"Although these theories lack convincing scientific evidence and are biologically implausible, parental concern about a potential vaccine link with autism has led to lower rates of childhood immunizations, outbreaks of previously controlled childhood diseases in some countries, and the preventable deaths of several children. Mechanism. Autism's symptoms result from maturation-related changes in various systems of the brain. How autism occurs is not well understood. Its mechanism can be divided into two areas: the pathophysiology of brain structures and processes associated with autism, and the neuropsychological linkages between brain structures and behaviors. The behaviors appear to have multiple pathophysiologies. There is evidence that gut\\xe2\\x80\\x93brain axis abnormalities may be involved. A 2015 review proposed that immune dysregulation, gastrointestinal inflammation, malfunction of the autonomic nervous system, gut flora alterations, and food metabolites may cause brain neuroinflammation and dysfunction. A 2016 review concludes that enteric nervous system abnormalities might play a role in neurological disorders such as autism. Neural connections and the immune system are a pathway that may allow diseases originated in the intestine to spread to the brain. Several lines of evidence point to synaptic dysfunction as a cause of autism. Some rare mutations may lead to autism by disrupting some synaptic pathways, such as those involved with cell adhesion.\"\n",
      " b'Gene replacement studies in mice suggest that autistic symptoms are closely related to later developmental steps that depend on activity in synapses and on activity-dependent changes. All known teratogens (agents that cause birth defects) related to the risk of autism appear to act during the first eight weeks from conception, and though this does not exclude the possibility that autism can be initiated or affected later, there is strong evidence that autism arises very early in development. Diagnosis. Diagnosis is based on behavior, not cause or mechanism. Under the DSM-5, autism is characterized by persistent deficits in social communication and interaction across multiple contexts, as well as restricted, repetitive patterns of behavior, interests, or activities. These deficits are present in early childhood, typically before age three, and lead to clinically significant functional impairment. Sample symptoms include lack of social or emotional reciprocity, stereotyped and repetitive use of language or idiosyncratic language, and persistent preoccupation with unusual objects. The disturbance must not be better accounted for by Rett syndrome, intellectual disability or global developmental delay. ICD-10 uses essentially the same definition. Several diagnostic instruments are available. Two are commonly used in autism research: the Autism Diagnostic Interview-Revised (ADI-R) is a semistructured parent interview, and the Autism Diagnostic Observation Schedule (ADOS) uses observation and interaction with the child.'\n",
      " b\"The Childhood Autism Rating Scale (CARS) is used widely in clinical environments to assess severity of autism based on observation of children. The Diagnostic interview for social and communication disorders (DISCO) may also be used. A pediatrician commonly performs a preliminary investigation by taking developmental history and physically examining the child. If warranted, diagnosis and evaluations are conducted with help from ASD specialists, observing and assessing cognitive, communication, family, and other factors using standardized tools, and taking into account any associated medical conditions. A pediatric neuropsychologist is often asked to assess behavior and cognitive skills, both to aid diagnosis and to help recommend educational interventions. A differential diagnosis for ASD at this stage might also consider intellectual disability, hearing impairment, and a specific language impairment such as Landau\\xe2\\x80\\x93Kleffner syndrome. The presence of autism can make it harder to diagnose coexisting psychiatric disorders such as depression. Clinical genetics evaluations are often done once ASD is diagnosed, particularly when other symptoms already suggest a genetic cause. Although genetic technology allows clinical geneticists to link an estimated 40% of cases to genetic causes, consensus guidelines in the US and UK are limited to high-resolution chromosome and fragile X testing. A genotype-first model of diagnosis has been proposed, which would routinely assess the genome's copy number variations.\"\n",
      " b\"As new genetic tests are developed several ethical, legal, and social issues will emerge. Commercial availability of tests may precede adequate understanding of how to use test results, given the complexity of autism's genetics. Metabolic and neuroimaging tests are sometimes helpful, but are not routine. ASD can sometimes be diagnosed by age 14 months, although diagnosis becomes increasingly stable over the first three years of life: for example, a one-year-old who meets diagnostic criteria for ASD is less likely than a three-year-old to continue to do so a few years later. In the UK the National Autism Plan for Children recommends at most 30 weeks from first concern to completed diagnosis and assessment, though few cases are handled that quickly in practice. Although the symptoms of autism and ASD begin early in childhood, they are sometimes missed; years later, adults may seek diagnoses to help them or their friends and family understand themselves, to help their employers make adjustments, or in some locations to claim disability living allowances or other benefits. Signs of autism may be more challenging for clinicians to detect in females. Autistic females have been shown to engage in masking more frequently than autistic males. Masking may include making oneself perform normative facial expressions and eye contact.\"\n",
      " b'A notable percentage of autistic females may be misdiagnosed, diagnosed after a considerable delay, or not diagnosed at all. Conversely, the cost of screening and diagnosis and the challenge of obtaining payment can inhibit or delay diagnosis. It is particularly hard to diagnose autism among the visually impaired, partly because some of its diagnostic criteria depend on vision, and partly because autistic symptoms overlap with those of common blindness syndromes or blindisms. Classification. Autism is one of the five pervasive developmental disorders (PDD), which are characterized by widespread abnormalities of social interactions and communication, severely restricted interests, and highly repetitive behavior. These symptoms do not imply sickness, fragility, or emotional disturbance. Of the five PDD forms, Asperger syndrome is closest to autism in signs and likely causes; Rett syndrome and childhood disintegrative disorder share several signs with autism, but may have unrelated causes; PDD not otherwise specified (PDD-NOS; also called \"atypical autism\") is diagnosed when the criteria are not met for a more specific disorder. Unlike with autism, people with Asperger syndrome have no substantial delay in language development.'\n",
      " b'The terminology of autism can be bewildering, with autism, Asperger syndrome and PDD-NOS often called the \"autism spectrum disorders\" (ASD) or sometimes the \"autistic disorders\", whereas autism itself is often called \"autistic disorder\", \"childhood autism\", or \"infantile autism\". In this article, \"autism\" refers to the classic autistic disorder; in clinical practice, though, \"autism\", \"ASD\", and \"PDD\" are often used interchangeably. ASD, in turn, is a subset of the broader autism phenotype, which describes individuals who may not have ASD but do have autistic-like traits, such as avoiding eye contact. Research into causes has been hampered by the inability to identify biologically meaningful subgroups within the autistic population and by the traditional boundaries between the disciplines of psychiatry, psychology, neurology and pediatrics. Newer technologies such as fMRI and diffusion tensor imaging can help identify biologically relevant phenotypes (observable traits) that can be viewed on brain scans, to help further neurogenetic studies of autism; one example is lowered activity in the fusiform face area of the brain, which is associated with impaired perception of people versus objects. It has been proposed to classify autism using genetics as well as behavior.'\n",
      " b'(For more, see Brett Abrahams, geneticist and neuroscientist)\\nSpectrum. Autism has long been thought to cover a wide spectrum, ranging from individuals with severe impairments\\xe2\\x80\\x94who may be silent, developmentally disabled, and prone to frequent repetitive behavior such as hand flapping and rocking\\xe2\\x80\\x94to high functioning individuals who may have active but distinctly odd social approaches, narrowly focused interests, and verbose, pedantic communication. Because the behavior spectrum is continuous, boundaries between diagnostic categories are necessarily somewhat arbitrary. Screening. About half of parents of children with ASD notice their child\\'s unusual behaviors by age 18 months, and about four-fifths notice by age 24 months. According to an article, failure to meet any of the following milestones \"is an absolute indication to proceed with further evaluations. Delay in referral for such testing may delay early diagnosis and treatment and affect the long-term outcome\". The United States Preventive Services Task Force in 2016 found it was unclear if screening was beneficial or harmful among children in whom there is no concern. The Japanese practice is to screen all children for ASD at 18 and 24 months, using autism-specific formal screening tests. In contrast, in the UK, children whose families or doctors recognize possible signs of autism are screened. It is not known which approach is more effective.'\n",
      " b\"Screening tools include the Modified Checklist for Autism in Toddlers (M-CHAT), the Early Screening of Autistic Traits Questionnaire, and the First Year Inventory; initial data on M-CHAT and its predecessor, the Checklist for Autism in Toddlers (CHAT), on children aged 18\\xe2\\x80\\x9330 months suggests that it is best used in a clinical setting and that it has low sensitivity (many false-negatives) but good specificity (few false-positives). It may be more accurate to precede these tests with a broadband screener that does not distinguish ASD from other developmental disorders. Screening tools designed for one culture's norms for behaviors like eye contact may be inappropriate for a different culture. Although genetic screening for autism is generally still impractical, it can be considered in some cases, such as children with neurological symptoms and dysmorphic features. Prevention. While infection with rubella during pregnancy causes fewer than 1% of cases of autism, vaccination against rubella can prevent many of those cases. Management. The main goals when treating autistic children are to lessen associated deficits and family distress, and to increase quality of life and functional independence. In general, higher IQs are correlated with greater responsiveness to treatment and improved treatment outcomes. No single treatment is best and treatment is typically tailored to the child's needs.\"]\n"
     ]
    }
   ],
   "source": [
    "# test convert tfrecord function\n",
    "block_records = convert_tfrecord_to_np(\"/home/patrick/Documents/MSc/Fall22/NLP/realm/data/wiki-raw/database/blocks.tfr\", num_block_records=50)\n",
    "print(block_records)\n",
    "del block_records"
   ],
   "metadata": {
    "collapsed": false
   }
  },
  {
   "cell_type": "code",
   "execution_count": null,
   "outputs": [],
   "source": [],
   "metadata": {
    "collapsed": false
   }
  },
  {
   "cell_type": "code",
   "execution_count": 14,
   "outputs": [],
   "source": [
    "def get_realm_for_openqa(config=None):\n",
    "    if config is None:\n",
    "        config = RealmConfig(hidden_act='gelu_new')\n",
    "\n",
    "    _retriever = RealmRetriever.from_pretrained('google/realm-orqa-nq-openqa')\n",
    "    _model = RealmForOpenQA.from_pretrained('google/realm-orqa-nq-openqa', retriever=_retriever, config=config)\n",
    "\n",
    "    _model.eval()\n",
    "\n",
    "    return _model\n"
   ],
   "metadata": {
    "collapsed": false
   }
  },
  {
   "cell_type": "code",
   "execution_count": 20,
   "outputs": [],
   "source": [
    "# Run on zsre data\n",
    "# model = get_realm_for_openqa()\n",
    "model = get_pretrained_realm()"
   ],
   "metadata": {
    "collapsed": false
   }
  },
  {
   "cell_type": "code",
   "execution_count": 18,
   "outputs": [
    {
     "data": {
      "text/plain": "13353718"
     },
     "execution_count": 18,
     "metadata": {},
     "output_type": "execute_result"
    }
   ],
   "source": [
    "# what's the default value for num_block_records?\n",
    "RealmConfig().num_block_records\n",
    "# this is too big for"
   ],
   "metadata": {
    "collapsed": false
   }
  },
  {
   "cell_type": "code",
   "execution_count": 21,
   "outputs": [],
   "source": [
    "retriever = model.retriever\n",
    "tokenizer = model.retriever.tokenizer"
   ],
   "metadata": {
    "collapsed": false
   }
  },
  {
   "cell_type": "code",
   "execution_count": 52,
   "outputs": [
    {
     "data": {
      "text/plain": "{'input_ids': tensor([[  101,  2054,  2003, 19465,  1029,   102]]), 'token_type_ids': tensor([[0, 0, 0, 0, 0, 0]]), 'attention_mask': tensor([[1, 1, 1, 1, 1, 1]])}"
     },
     "execution_count": 52,
     "metadata": {},
     "output_type": "execute_result"
    }
   ],
   "source": [
    "tokenizer = RealmTokenizerFast.from_pretrained(\"google/realm-cc-news-pretrained-embedder\", do_lower_case=True)\n",
    "tokenizer(\"What is autism?\", return_tensors='pt')"
   ],
   "metadata": {
    "collapsed": false
   }
  },
  {
   "cell_type": "code",
   "execution_count": 22,
   "outputs": [
    {
     "data": {
      "text/plain": "[[9617, 11140, 2964, 2003, 1037, 2576, 4695]]"
     },
     "execution_count": 22,
     "metadata": {},
     "output_type": "execute_result"
    }
   ],
   "source": [
    "# let's test out our model\n",
    "#\n",
    "question = \"What is anarchism?\"\n",
    "question_ids = tokenizer([question], return_tensors='pt')\n",
    "\n",
    "answer=\"Anarchism is a political philosophy\"\n",
    "\n",
    "answer_ids = tokenizer([answer],\n",
    "                       add_special_tokens=False,\n",
    "                       return_token_type_ids=False,\n",
    "                       return_attention_mask=False).input_ids\n",
    "answer_ids"
   ],
   "metadata": {
    "collapsed": false
   }
  },
  {
   "cell_type": "code",
   "execution_count": 23,
   "outputs": [
    {
     "ename": "IndexError",
     "evalue": "index 2558 is out of bounds for axis 0 with size 100",
     "output_type": "error",
     "traceback": [
      "\u001B[0;31m---------------------------------------------------------------------------\u001B[0m",
      "\u001B[0;31mIndexError\u001B[0m                                Traceback (most recent call last)",
      "\u001B[0;32m/tmp/ipykernel_60849/2932320944.py\u001B[0m in \u001B[0;36m<module>\u001B[0;34m\u001B[0m\n\u001B[1;32m      1\u001B[0m reader_output, predicted_ans_ids = model(**question_ids,\n\u001B[1;32m      2\u001B[0m                                          \u001B[0manswer_ids\u001B[0m\u001B[0;34m=\u001B[0m\u001B[0manswer_ids\u001B[0m\u001B[0;34m,\u001B[0m\u001B[0;34m\u001B[0m\u001B[0;34m\u001B[0m\u001B[0m\n\u001B[0;32m----> 3\u001B[0;31m                                          return_dict=False)\n\u001B[0m\u001B[1;32m      4\u001B[0m \u001B[0;34m\u001B[0m\u001B[0m\n",
      "\u001B[0;32m~/Documents/MSc/Fall22/NLP/realm/realm-venv/lib/python3.7/site-packages/torch/nn/modules/module.py\u001B[0m in \u001B[0;36m_call_impl\u001B[0;34m(self, *input, **kwargs)\u001B[0m\n\u001B[1;32m   1128\u001B[0m         if not (self._backward_hooks or self._forward_hooks or self._forward_pre_hooks or _global_backward_hooks\n\u001B[1;32m   1129\u001B[0m                 or _global_forward_hooks or _global_forward_pre_hooks):\n\u001B[0;32m-> 1130\u001B[0;31m             \u001B[0;32mreturn\u001B[0m \u001B[0mforward_call\u001B[0m\u001B[0;34m(\u001B[0m\u001B[0;34m*\u001B[0m\u001B[0minput\u001B[0m\u001B[0;34m,\u001B[0m \u001B[0;34m**\u001B[0m\u001B[0mkwargs\u001B[0m\u001B[0;34m)\u001B[0m\u001B[0;34m\u001B[0m\u001B[0;34m\u001B[0m\u001B[0m\n\u001B[0m\u001B[1;32m   1131\u001B[0m         \u001B[0;31m# Do not call functions when jit is used\u001B[0m\u001B[0;34m\u001B[0m\u001B[0;34m\u001B[0m\u001B[0;34m\u001B[0m\u001B[0m\n\u001B[1;32m   1132\u001B[0m         \u001B[0mfull_backward_hooks\u001B[0m\u001B[0;34m,\u001B[0m \u001B[0mnon_full_backward_hooks\u001B[0m \u001B[0;34m=\u001B[0m \u001B[0;34m[\u001B[0m\u001B[0;34m]\u001B[0m\u001B[0;34m,\u001B[0m \u001B[0;34m[\u001B[0m\u001B[0;34m]\u001B[0m\u001B[0;34m\u001B[0m\u001B[0;34m\u001B[0m\u001B[0m\n",
      "\u001B[0;32m~/Documents/MSc/Fall22/NLP/realm/realm-venv/lib/python3.7/site-packages/transformers/models/realm/modeling_realm.py\u001B[0m in \u001B[0;36mforward\u001B[0;34m(self, input_ids, attention_mask, token_type_ids, answer_ids, return_dict)\u001B[0m\n\u001B[1;32m   1817\u001B[0m         \u001B[0;31m# Retrieve possible answers\u001B[0m\u001B[0;34m\u001B[0m\u001B[0;34m\u001B[0m\u001B[0;34m\u001B[0m\u001B[0m\n\u001B[1;32m   1818\u001B[0m         has_answers, start_pos, end_pos, concat_inputs = self.retriever(\n\u001B[0;32m-> 1819\u001B[0;31m             \u001B[0mretrieved_block_ids\u001B[0m\u001B[0;34m.\u001B[0m\u001B[0mcpu\u001B[0m\u001B[0;34m(\u001B[0m\u001B[0;34m)\u001B[0m\u001B[0;34m,\u001B[0m \u001B[0minput_ids\u001B[0m\u001B[0;34m,\u001B[0m \u001B[0manswer_ids\u001B[0m\u001B[0;34m,\u001B[0m \u001B[0mmax_length\u001B[0m\u001B[0;34m=\u001B[0m\u001B[0mself\u001B[0m\u001B[0;34m.\u001B[0m\u001B[0mconfig\u001B[0m\u001B[0;34m.\u001B[0m\u001B[0mreader_seq_len\u001B[0m\u001B[0;34m\u001B[0m\u001B[0;34m\u001B[0m\u001B[0m\n\u001B[0m\u001B[1;32m   1820\u001B[0m         )\n\u001B[1;32m   1821\u001B[0m \u001B[0;34m\u001B[0m\u001B[0m\n",
      "\u001B[0;32m~/Documents/MSc/Fall22/NLP/realm/realm-venv/lib/python3.7/site-packages/transformers/models/realm/retrieval_realm.py\u001B[0m in \u001B[0;36m__call__\u001B[0;34m(self, retrieved_block_ids, question_input_ids, answer_ids, max_length, return_tensors)\u001B[0m\n\u001B[1;32m     88\u001B[0m \u001B[0;34m\u001B[0m\u001B[0m\n\u001B[1;32m     89\u001B[0m     \u001B[0;32mdef\u001B[0m \u001B[0m__call__\u001B[0m\u001B[0;34m(\u001B[0m\u001B[0mself\u001B[0m\u001B[0;34m,\u001B[0m \u001B[0mretrieved_block_ids\u001B[0m\u001B[0;34m,\u001B[0m \u001B[0mquestion_input_ids\u001B[0m\u001B[0;34m,\u001B[0m \u001B[0manswer_ids\u001B[0m\u001B[0;34m,\u001B[0m \u001B[0mmax_length\u001B[0m\u001B[0;34m=\u001B[0m\u001B[0;32mNone\u001B[0m\u001B[0;34m,\u001B[0m \u001B[0mreturn_tensors\u001B[0m\u001B[0;34m=\u001B[0m\u001B[0;34m\"pt\"\u001B[0m\u001B[0;34m)\u001B[0m\u001B[0;34m:\u001B[0m\u001B[0;34m\u001B[0m\u001B[0;34m\u001B[0m\u001B[0m\n\u001B[0;32m---> 90\u001B[0;31m         \u001B[0mretrieved_blocks\u001B[0m \u001B[0;34m=\u001B[0m \u001B[0mnp\u001B[0m\u001B[0;34m.\u001B[0m\u001B[0mtake\u001B[0m\u001B[0;34m(\u001B[0m\u001B[0mself\u001B[0m\u001B[0;34m.\u001B[0m\u001B[0mblock_records\u001B[0m\u001B[0;34m,\u001B[0m \u001B[0mindices\u001B[0m\u001B[0;34m=\u001B[0m\u001B[0mretrieved_block_ids\u001B[0m\u001B[0;34m,\u001B[0m \u001B[0maxis\u001B[0m\u001B[0;34m=\u001B[0m\u001B[0;36m0\u001B[0m\u001B[0;34m)\u001B[0m\u001B[0;34m\u001B[0m\u001B[0;34m\u001B[0m\u001B[0m\n\u001B[0m\u001B[1;32m     91\u001B[0m \u001B[0;34m\u001B[0m\u001B[0m\n\u001B[1;32m     92\u001B[0m         \u001B[0mquestion\u001B[0m \u001B[0;34m=\u001B[0m \u001B[0mself\u001B[0m\u001B[0;34m.\u001B[0m\u001B[0mtokenizer\u001B[0m\u001B[0;34m.\u001B[0m\u001B[0mdecode\u001B[0m\u001B[0;34m(\u001B[0m\u001B[0mquestion_input_ids\u001B[0m\u001B[0;34m[\u001B[0m\u001B[0;36m0\u001B[0m\u001B[0;34m]\u001B[0m\u001B[0;34m,\u001B[0m \u001B[0mskip_special_tokens\u001B[0m\u001B[0;34m=\u001B[0m\u001B[0;32mTrue\u001B[0m\u001B[0;34m)\u001B[0m\u001B[0;34m\u001B[0m\u001B[0;34m\u001B[0m\u001B[0m\n",
      "\u001B[0;32m<__array_function__ internals>\u001B[0m in \u001B[0;36mtake\u001B[0;34m(*args, **kwargs)\u001B[0m\n",
      "\u001B[0;32m~/Documents/MSc/Fall22/NLP/realm/realm-venv/lib/python3.7/site-packages/numpy/core/fromnumeric.py\u001B[0m in \u001B[0;36mtake\u001B[0;34m(a, indices, axis, out, mode)\u001B[0m\n\u001B[1;32m    188\u001B[0m            [5, 7]])\n\u001B[1;32m    189\u001B[0m     \"\"\"\n\u001B[0;32m--> 190\u001B[0;31m     \u001B[0;32mreturn\u001B[0m \u001B[0m_wrapfunc\u001B[0m\u001B[0;34m(\u001B[0m\u001B[0ma\u001B[0m\u001B[0;34m,\u001B[0m \u001B[0;34m'take'\u001B[0m\u001B[0;34m,\u001B[0m \u001B[0mindices\u001B[0m\u001B[0;34m,\u001B[0m \u001B[0maxis\u001B[0m\u001B[0;34m=\u001B[0m\u001B[0maxis\u001B[0m\u001B[0;34m,\u001B[0m \u001B[0mout\u001B[0m\u001B[0;34m=\u001B[0m\u001B[0mout\u001B[0m\u001B[0;34m,\u001B[0m \u001B[0mmode\u001B[0m\u001B[0;34m=\u001B[0m\u001B[0mmode\u001B[0m\u001B[0;34m)\u001B[0m\u001B[0;34m\u001B[0m\u001B[0;34m\u001B[0m\u001B[0m\n\u001B[0m\u001B[1;32m    191\u001B[0m \u001B[0;34m\u001B[0m\u001B[0m\n\u001B[1;32m    192\u001B[0m \u001B[0;34m\u001B[0m\u001B[0m\n",
      "\u001B[0;32m~/Documents/MSc/Fall22/NLP/realm/realm-venv/lib/python3.7/site-packages/numpy/core/fromnumeric.py\u001B[0m in \u001B[0;36m_wrapfunc\u001B[0;34m(obj, method, *args, **kwds)\u001B[0m\n\u001B[1;32m     55\u001B[0m \u001B[0;34m\u001B[0m\u001B[0m\n\u001B[1;32m     56\u001B[0m     \u001B[0;32mtry\u001B[0m\u001B[0;34m:\u001B[0m\u001B[0;34m\u001B[0m\u001B[0;34m\u001B[0m\u001B[0m\n\u001B[0;32m---> 57\u001B[0;31m         \u001B[0;32mreturn\u001B[0m \u001B[0mbound\u001B[0m\u001B[0;34m(\u001B[0m\u001B[0;34m*\u001B[0m\u001B[0margs\u001B[0m\u001B[0;34m,\u001B[0m \u001B[0;34m**\u001B[0m\u001B[0mkwds\u001B[0m\u001B[0;34m)\u001B[0m\u001B[0;34m\u001B[0m\u001B[0;34m\u001B[0m\u001B[0m\n\u001B[0m\u001B[1;32m     58\u001B[0m     \u001B[0;32mexcept\u001B[0m \u001B[0mTypeError\u001B[0m\u001B[0;34m:\u001B[0m\u001B[0;34m\u001B[0m\u001B[0;34m\u001B[0m\u001B[0m\n\u001B[1;32m     59\u001B[0m         \u001B[0;31m# A TypeError occurs if the object does have such a method in its\u001B[0m\u001B[0;34m\u001B[0m\u001B[0;34m\u001B[0m\u001B[0;34m\u001B[0m\u001B[0m\n",
      "\u001B[0;31mIndexError\u001B[0m: index 2558 is out of bounds for axis 0 with size 100"
     ]
    }
   ],
   "source": [
    "reader_output, predicted_ans_ids = model(**question_ids,\n",
    "                                         answer_ids=answer_ids,\n",
    "                                         return_dict=False)\n"
   ],
   "metadata": {
    "collapsed": false
   }
  },
  {
   "cell_type": "code",
   "execution_count": null,
   "outputs": [],
   "source": [
    "\n",
    "predicted_answer = tokenizer.decode(predicted_ans_ids)\n",
    "\n",
    "reader_output.loss.backward()"
   ],
   "metadata": {
    "collapsed": false
   }
  },
  {
   "cell_type": "code",
   "execution_count": null,
   "outputs": [],
   "source": [
    "\n",
    "data_collator = DataCollator(_tokenizer=tokenizer)\n",
    "\n",
    "train_data_loader = DataLoader(dataset=train_set, batch_size=1, shuffle=True, collate_fn=data_collator)\n",
    "eval_data_loader = DataLoader(dataset=eval_set, batch_size=1, shuffle=False, collate_fn=data_collator)\n",
    "\n",
    "# Define a training params, followed by the training loop\n",
    "num_epochs = 2\n",
    "num_training_steps = num_epochs * len(train_data_loader)\n",
    "\n",
    "optim = AdamW(model.parameters, lr=5e-3)\n",
    "\n",
    "lr_scheduler = get_scheduler(\"linear\",\n",
    "                             optimizer=optim,\n",
    "                             num_warmup_steps=0,\n",
    "                             num_training_steps=num_training_steps)\n",
    "\n",
    "progress_bar = tqdm(range(num_training_steps))\n"
   ],
   "metadata": {
    "collapsed": false
   }
  },
  {
   "cell_type": "code",
   "execution_count": 65,
   "outputs": [],
   "source": [
    "# Normalize answer text strings for metric computation\n",
    "def normalize_answer(text: str):\n",
    "    \"\"\"\n",
    "    Normalize answer\n",
    "    \"\"\"\n",
    "    text = unicodedata.normalize('NFD', text)\n",
    "\n",
    "    def remove_articles(t: str):\n",
    "        return re.sub(r\"\\b(a|an|the)\\b\", \" \", t)\n",
    "\n",
    "    def white_space_fix(t: str):\n",
    "        return \" \".join(t.split())\n",
    "\n",
    "    def remove_punct(t: str):\n",
    "        exclude = set(string.punctuation)\n",
    "        return ''.join(ch for ch in t if ch not in exclude)\n",
    "\n",
    "    def lower(t: str):\n",
    "         return t.lower()\n",
    "\n",
    "    return white_space_fix(remove_articles(remove_punct(lower(text))))"
   ],
   "metadata": {
    "collapsed": false
   }
  },
  {
   "cell_type": "code",
   "execution_count": 66,
   "outputs": [
    {
     "name": "stdout",
     "output_type": "stream",
     "text": [
      "Normalize: 'a JambalaYa' => 'jambalaya'\n"
     ]
    }
   ],
   "source": [
    "# test normalize text function\n",
    "\n",
    "print(f\"Normalize: 'a JambalaYa' => '{normalize_answer('JambalaYa')}'\")"
   ],
   "metadata": {
    "collapsed": false
   }
  },
  {
   "cell_type": "code",
   "execution_count": 63,
   "outputs": [],
   "source": [
    "# Let's define some metrics training\n",
    "def compute_metrics(labels, predicted_ans, _reader_output):\n",
    "    # Exact match\n",
    "    em = torch.index_select(torch.index_select(_reader_output.reader_correct,\n",
    "                                               dim=0,\n",
    "                                               index=_reader_output.block_idx),\n",
    "                            dim=1,\n",
    "                            index=_reader_output.candidate)\n",
    "\n",
    "    def _true_em(_predicted_ans, references):\n",
    "        return torch.tensor(max([normalize_answer(_predicted_ans) == normalize_answer(ref) for ref in references]))\n",
    "\n",
    "    true_em = _true_em(predicted_ans, labels)\n",
    "\n",
    "    eval_metric = dict(exact_match=em[0][0],\n",
    "                       official_exact_match=true_em,\n",
    "                       reader_oracle=torch.any(_reader_output.reader_correct))\n",
    "\n",
    "    # Top k results\n",
    "    for k in (5, 10, 20, 50):\n",
    "        eval_metric[f\"top_{k}_match\"] = torch.any(_reader_output.retriever_correct[:k])\n",
    "\n",
    "    return eval_metric\n",
    "\n"
   ],
   "metadata": {
    "collapsed": false
   }
  },
  {
   "cell_type": "code",
   "execution_count": 12,
   "outputs": [
    {
     "ename": "NameError",
     "evalue": "name 'get_realm_for_openqa' is not defined",
     "output_type": "error",
     "traceback": [
      "\u001B[0;31m---------------------------------------------------------------------------\u001B[0m",
      "\u001B[0;31mNameError\u001B[0m                                 Traceback (most recent call last)",
      "\u001B[0;32m/tmp/ipykernel_13881/2926816998.py\u001B[0m in \u001B[0;36m<module>\u001B[0;34m\u001B[0m\n\u001B[1;32m      1\u001B[0m \u001B[0mdevice\u001B[0m \u001B[0;34m=\u001B[0m \u001B[0mtorch\u001B[0m\u001B[0;34m.\u001B[0m\u001B[0mdevice\u001B[0m\u001B[0;34m(\u001B[0m\u001B[0;34m'cuda'\u001B[0m \u001B[0;32mif\u001B[0m \u001B[0mtorch\u001B[0m\u001B[0;34m.\u001B[0m\u001B[0mcuda\u001B[0m\u001B[0;34m.\u001B[0m\u001B[0mis_available\u001B[0m\u001B[0;34m(\u001B[0m\u001B[0;34m)\u001B[0m \u001B[0;32melse\u001B[0m \u001B[0;34m'cpu'\u001B[0m\u001B[0;34m)\u001B[0m\u001B[0;34m\u001B[0m\u001B[0;34m\u001B[0m\u001B[0m\n\u001B[1;32m      2\u001B[0m \u001B[0;34m\u001B[0m\u001B[0m\n\u001B[0;32m----> 3\u001B[0;31m \u001B[0mmodel\u001B[0m \u001B[0;34m=\u001B[0m \u001B[0mget_realm_for_openqa\u001B[0m\u001B[0;34m(\u001B[0m\u001B[0;34m)\u001B[0m\u001B[0;34m\u001B[0m\u001B[0;34m\u001B[0m\u001B[0m\n\u001B[0m\u001B[1;32m      4\u001B[0m \u001B[0mretriever\u001B[0m \u001B[0;34m=\u001B[0m \u001B[0mmodel\u001B[0m\u001B[0;34m.\u001B[0m\u001B[0mretriever\u001B[0m\u001B[0;34m\u001B[0m\u001B[0;34m\u001B[0m\u001B[0m\n\u001B[1;32m      5\u001B[0m \u001B[0mtokenizer\u001B[0m \u001B[0;34m=\u001B[0m \u001B[0mmodel\u001B[0m\u001B[0;34m.\u001B[0m\u001B[0mtokenizer\u001B[0m\u001B[0;34m\u001B[0m\u001B[0;34m\u001B[0m\u001B[0m\n",
      "\u001B[0;31mNameError\u001B[0m: name 'get_realm_for_openqa' is not defined"
     ]
    }
   ],
   "source": [
    "\n",
    "device = torch.device('cuda' if torch.cuda.is_available() else 'cpu')\n",
    "\n",
    "model = get_realm_for_openqa()\n",
    "retriever = model.retriever\n",
    "tokenizer = model.tokenizer\n",
    "\n",
    "model.to(device)\n"
   ],
   "metadata": {
    "collapsed": false
   }
  },
  {
   "cell_type": "code",
   "execution_count": null,
   "outputs": [],
   "source": [
    "# define train loop\n",
    "for epoch in range(num_epochs):\n",
    "    # set to train mode\n",
    "    model.train()\n",
    "\n",
    "    for batch in train_data_loader:\n",
    "        optim.zero_grad()\n",
    "\n",
    "        question, answer_texts, answer_ids = batch\n",
    "\n",
    "        question_ids = tokenizer(question, return_tensors='pt')\n",
    "        reader_output, predicted_ans_ids = model(input_ids=question_ids.to(device),\n",
    "                                                 answer_ids=answer_ids,\n",
    "                                                 return_dict=False)\n",
    "\n",
    "        predicted_answer = tokenizer.decode(predicted_ans_ids)\n",
    "\n",
    "        reader_output.loss.backward()\n",
    "\n",
    "        # clip gradients?\n",
    "\n",
    "        optim.step()\n",
    "        lr_scheduler.step()\n",
    "        # print(f\"Epoch: \")\n",
    "        progress_bar.update(1)\n",
    "\n",
    "    model.eval()\n",
    "\n",
    "    metrics = []\n",
    "\n",
    "    for batch in tqdm(eval_data_loader):\n",
    "        question, ans_texts, ans_ids = batch\n",
    "\n",
    "        question_ids = tokenizer(question, return_tensors='pt').input_ids\n",
    "        with torch.no_grad():\n",
    "            outputs = model(input_ids=question_ids.to(device),\n",
    "                            answer_ids=ans_ids,\n",
    "                            return_dict=True)\n",
    "\n",
    "            pred_answer = tokenizer.decode(outputs.predicted_answer_ids)\n",
    "            metrics.append(compute_metrics(ans_texts, pred_answer, outputs.reader_output))\n",
    "\n",
    "    stack_metrics = {metric_key: torch.stack((*map(lambda metric: metric[metric_key], metrics), )) for metric_key in metrics[0].keys()}\n",
    "    print(f\"Saving model at checkpoint: {epoch}\")\n",
    "    model.save_pretrained()\n",
    "\n"
   ],
   "metadata": {
    "collapsed": false
   }
  }
 ],
 "metadata": {
  "kernelspec": {
   "display_name": "Python 3",
   "language": "python",
   "name": "python3"
  },
  "language_info": {
   "codemirror_mode": {
    "name": "ipython",
    "version": 2
   },
   "file_extension": ".py",
   "mimetype": "text/x-python",
   "name": "python",
   "nbconvert_exporter": "python",
   "pygments_lexer": "ipython2",
   "version": "2.7.6"
  }
 },
 "nbformat": 4,
 "nbformat_minor": 0
}
