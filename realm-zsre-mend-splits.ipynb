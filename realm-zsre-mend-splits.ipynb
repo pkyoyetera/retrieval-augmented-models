{
 "cells": [
  {
   "cell_type": "code",
   "execution_count": 1,
   "id": "494c4ee9-b1b0-4a8a-8c05-e742686c88a0",
   "metadata": {},
   "outputs": [
    {
     "data": {
      "text/plain": [
       "'3.9.1'"
      ]
     },
     "execution_count": 1,
     "metadata": {},
     "output_type": "execute_result"
    }
   ],
   "source": [
    "from platform import python_version\n",
    "\n",
    "python_version()"
   ]
  },
  {
   "cell_type": "code",
   "execution_count": null,
   "id": "bbf28c5a-8dee-44a3-b861-23ae7ec52a30",
   "metadata": {},
   "outputs": [],
   "source": []
  },
  {
   "cell_type": "code",
   "execution_count": 2,
   "id": "3461ddba-ffe4-4480-ac09-ab30f2df0df3",
   "metadata": {},
   "outputs": [],
   "source": [
    "import logging \n",
    "import torch"
   ]
  },
  {
   "cell_type": "code",
   "execution_count": 3,
   "id": "6bbb6bc3-10ac-49bc-a8e1-b06115b908e0",
   "metadata": {},
   "outputs": [],
   "source": [
    "from datasets import load_dataset, get_dataset_infos"
   ]
  },
  {
   "cell_type": "code",
   "execution_count": 4,
   "id": "17ef0fbe-1f06-4504-8641-f51fef3105fc",
   "metadata": {},
   "outputs": [],
   "source": [
    "import numpy as np"
   ]
  },
  {
   "cell_type": "code",
   "execution_count": 5,
   "id": "cf88f0fe-9590-4f0d-9739-5072200eff28",
   "metadata": {},
   "outputs": [],
   "source": [
    "from tqdm.auto import tqdm"
   ]
  },
  {
   "cell_type": "code",
   "execution_count": 6,
   "id": "41edc043-1500-4608-aae7-e5abc3c38c06",
   "metadata": {},
   "outputs": [
    {
     "name": "stderr",
     "output_type": "stream",
     "text": [
      "2022-11-21 21:28:25.387856: I tensorflow/core/platform/cpu_feature_guard.cc:193] This TensorFlow binary is optimized with oneAPI Deep Neural Network Library (oneDNN) to use the following CPU instructions in performance-critical operations:  AVX2 FMA\n",
      "To enable them in other operations, rebuild TensorFlow with the appropriate compiler flags.\n",
      "2022-11-21 21:28:25.570344: E tensorflow/stream_executor/cuda/cuda_blas.cc:2981] Unable to register cuBLAS factory: Attempting to register factory for plugin cuBLAS when one has already been registered\n",
      "2022-11-21 21:28:26.255607: W tensorflow/stream_executor/platform/default/dso_loader.cc:64] Could not load dynamic library 'libnvinfer.so.7'; dlerror: libnvinfer.so.7: cannot open shared object file: No such file or directory; LD_LIBRARY_PATH: /usr/local/cuda/lib64:/usr/local/nccl2/lib:/usr/local/cuda/extras/CUPTI/lib64\n",
      "2022-11-21 21:28:26.255716: W tensorflow/stream_executor/platform/default/dso_loader.cc:64] Could not load dynamic library 'libnvinfer_plugin.so.7'; dlerror: libnvinfer_plugin.so.7: cannot open shared object file: No such file or directory; LD_LIBRARY_PATH: /usr/local/cuda/lib64:/usr/local/nccl2/lib:/usr/local/cuda/extras/CUPTI/lib64\n",
      "2022-11-21 21:28:26.255727: W tensorflow/compiler/tf2tensorrt/utils/py_utils.cc:38] TF-TRT Warning: Cannot dlopen some TensorRT libraries. If you would like to use Nvidia GPU with TensorRT, please make sure the missing libraries mentioned above are installed properly.\n"
     ]
    }
   ],
   "source": [
    "from transformers import AdamW\n",
    "from transformers import get_linear_schedule_with_warmup, get_scheduler\n",
    "from transformers import RealmForOpenQA, RealmConfig, RealmRetriever, RealmTokenizerFast, RealmScorer\n",
    "from transformers import TrainingArguments, Trainer"
   ]
  },
  {
   "cell_type": "code",
   "execution_count": 7,
   "id": "9436431f-266a-4dfa-8109-8d1f507d7ca1",
   "metadata": {},
   "outputs": [],
   "source": [
    "from torch.nn.utils import clip_grad_norm_\n",
    "\n",
    "from torch.utils.tensorboard import SummaryWriter"
   ]
  },
  {
   "cell_type": "code",
   "execution_count": null,
   "id": "6e4b2d49-6080-4fb8-ac38-8d307b72e312",
   "metadata": {},
   "outputs": [],
   "source": []
  },
  {
   "cell_type": "markdown",
   "id": "58d6d5a9-3a33-4406-9624-8cd37556ca41",
   "metadata": {},
   "source": [
    "## Using the filtered splits used in the MEND paper\n"
   ]
  },
  {
   "cell_type": "code",
   "execution_count": null,
   "id": "06578af3-85c5-4441-aaf5-aa7dac0fefb3",
   "metadata": {},
   "outputs": [],
   "source": []
  },
  {
   "cell_type": "code",
   "execution_count": 8,
   "id": "129a888c-ecef-4626-92d7-0038e6ce4d95",
   "metadata": {},
   "outputs": [
    {
     "name": "stderr",
     "output_type": "stream",
     "text": [
      "Using custom data configuration zsre-eef22664d6c49664\n",
      "Found cached dataset csv (/home/patrick/.cache/huggingface/datasets/csv/zsre-eef22664d6c49664/0.0.0/6b34fb8fcf56f7c8ba51dc895bfa2bfbe43546f190a60fcf74bb5e8afdcc2317)\n"
     ]
    },
    {
     "data": {
      "application/vnd.jupyter.widget-view+json": {
       "model_id": "563715c915214182ae6383c85a07726c",
       "version_major": 2,
       "version_minor": 0
      },
      "text/plain": [
       "  0%|          | 0/2 [00:00<?, ?it/s]"
      ]
     },
     "metadata": {},
     "output_type": "display_data"
    },
    {
     "data": {
      "text/plain": [
       "DatasetDict({\n",
       "    train: Dataset({\n",
       "        features: ['question', 'answer'],\n",
       "        num_rows: 241523\n",
       "    })\n",
       "    validation: Dataset({\n",
       "        features: ['question', 'answer'],\n",
       "        num_rows: 27384\n",
       "    })\n",
       "})"
      ]
     },
     "execution_count": 8,
     "metadata": {},
     "output_type": "execute_result"
    }
   ],
   "source": [
    "dataset = load_dataset('data/zsre/', data_files={'train': 'train_filtered.tsv',\n",
    "                                                 'validation': 'dev_filtered.tsv'})\n",
    "\n",
    "dataset"
   ]
  },
  {
   "cell_type": "code",
   "execution_count": null,
   "id": "b2c1bb89-4f14-4d55-ad06-2f1b8d3b4430",
   "metadata": {},
   "outputs": [],
   "source": []
  },
  {
   "cell_type": "code",
   "execution_count": null,
   "id": "37f14cdb-c297-47c7-b5bc-3314a07388d4",
   "metadata": {},
   "outputs": [],
   "source": [
    "# what does the data look like?\n",
    "print(dataset['validation'][20])\n",
    "\n",
    "# Seems like each example is a question answer pair,\n",
    "# remever to wrap them in list notation as expected \n",
    "# by the realm tokenizer\n"
   ]
  },
  {
   "cell_type": "code",
   "execution_count": null,
   "id": "e4104ec6-3a1e-4dc8-85f4-c265e5d6d276",
   "metadata": {},
   "outputs": [],
   "source": [
    "# Save the dataset \n",
    "dataset.save_to_disk('data/zsre/zsre_hf.hf')"
   ]
  },
  {
   "cell_type": "markdown",
   "id": "5ae512f7-d1b9-4583-a8bd-3be1c9c059b2",
   "metadata": {},
   "source": [
    "### Dataloaders and collators"
   ]
  },
  {
   "cell_type": "code",
   "execution_count": null,
   "id": "412bfc61-a5a8-473f-9ba5-5d2d98004ec9",
   "metadata": {},
   "outputs": [],
   "source": []
  },
  {
   "cell_type": "code",
   "execution_count": 9,
   "id": "ed9e9b99-4343-4926-83d8-1f0fd194294a",
   "metadata": {},
   "outputs": [],
   "source": [
    "train_dataloader = torch.utils.data.DataLoader(dataset['train'], batch_size=1) # complains with a batch size > 1\n",
    "eval_dataloader = torch.utils.data.DataLoader(dataset['validation'], batch_size=1)"
   ]
  },
  {
   "cell_type": "code",
   "execution_count": null,
   "id": "35e5d492-ac5e-43e4-b3c7-8ea9e8b56ea6",
   "metadata": {},
   "outputs": [],
   "source": []
  },
  {
   "cell_type": "code",
   "execution_count": null,
   "id": "9305de9c-20c3-4535-9988-5b17b468886c",
   "metadata": {},
   "outputs": [],
   "source": []
  },
  {
   "cell_type": "markdown",
   "id": "4ae64a0d-5905-44ec-bd17-f6c33bc87502",
   "metadata": {},
   "source": [
    "## Convert data needed for pretrained checkpoints"
   ]
  },
  {
   "cell_type": "code",
   "execution_count": null,
   "id": "b0e36b33-634e-4dbe-af40-26e4a554562a",
   "metadata": {},
   "outputs": [],
   "source": [
    "from transformers.models.realm.retrieval_realm import convert_tfrecord_to_np\n",
    "\n",
    "block_records = convert_tfrecord_to_np('data/wiki/enwiki-20181220/blocks.tfr', RealmConfig().num_block_records)\n",
    "\n"
   ]
  },
  {
   "cell_type": "code",
   "execution_count": null,
   "id": "8de19f64-79a1-43e9-b15f-b72e0baf6732",
   "metadata": {},
   "outputs": [],
   "source": []
  },
  {
   "cell_type": "code",
   "execution_count": null,
   "id": "078bdd2c-e1a5-4dba-9d0c-92f31f937a23",
   "metadata": {},
   "outputs": [],
   "source": [
    "# save the block records object \n",
    "np.save(\"20181220_records\", block_records)"
   ]
  },
  {
   "cell_type": "code",
   "execution_count": 10,
   "id": "53ace6f9-1fab-490a-86f0-4ee0b85a6a90",
   "metadata": {},
   "outputs": [],
   "source": [
    "# we've already saved this file, read it in \n",
    "block_records = np.load(\"data/block_records.npy\", allow_pickle=True)"
   ]
  },
  {
   "cell_type": "code",
   "execution_count": 11,
   "id": "d4ebe0fc-92a0-44bb-9ecc-1d7d9141bb3f",
   "metadata": {},
   "outputs": [
    {
     "data": {
      "text/plain": [
       "13353718"
      ]
     },
     "execution_count": 11,
     "metadata": {},
     "output_type": "execute_result"
    }
   ],
   "source": [
    "len(block_records)"
   ]
  },
  {
   "cell_type": "markdown",
   "id": "078f8cd0-3e08-4bf8-bcd1-74ce039e9203",
   "metadata": {},
   "source": [
    "## Finetune openqa checkpoint "
   ]
  },
  {
   "cell_type": "code",
   "execution_count": 12,
   "id": "47fabf4c-43ef-4b99-b82c-9efdba5a0156",
   "metadata": {},
   "outputs": [],
   "source": [
    "# set up simple logging to file so we don't get overwhelmed in notebook \n",
    "logging.basicConfig(filename='logs/train.log',\n",
    "                    filemode='a',\n",
    "                    format='%(asctime)s,%(msecs)d %(levelname)s %(message)s',\n",
    "                    datefmt='%H:%M:%S',\n",
    "                    level=logging.INFO)\n",
    "\n",
    "logging.info(\"Setting up training...\\n\")"
   ]
  },
  {
   "cell_type": "code",
   "execution_count": 13,
   "id": "b1dd0c83-8adb-4f3c-bf72-4cf2d5624173",
   "metadata": {},
   "outputs": [],
   "source": [
    "checkpoint = \"google/realm-orqa-nq-openqa\"\n",
    "\n",
    "ft_checkpoint = \"google/realm-cc-news-pretrained-openqa\""
   ]
  },
  {
   "cell_type": "code",
   "execution_count": null,
   "id": "aab851e6-a4a8-40e3-838e-71e563d8a6be",
   "metadata": {},
   "outputs": [],
   "source": []
  },
  {
   "cell_type": "code",
   "execution_count": 14,
   "id": "c2140398-6d2c-4dc9-b19a-362dd9df829b",
   "metadata": {},
   "outputs": [],
   "source": [
    "tokenizer = RealmTokenizerFast.from_pretrained(ft_checkpoint)"
   ]
  },
  {
   "cell_type": "code",
   "execution_count": 16,
   "id": "a80cbd45-4cf0-4c39-ae0c-b3a1e8b0896b",
   "metadata": {},
   "outputs": [],
   "source": [
    "# retriever = RealmRetriever.from_pretrained(checkpoint)\n",
    "retriever = RealmRetriever(block_records, tokenizer)\n",
    "# retriever = RealmRetriever.from_pretrained(\"data/\")"
   ]
  },
  {
   "cell_type": "code",
   "execution_count": 17,
   "id": "c0c6dd5c-6cb8-435b-b924-2620f702ddd1",
   "metadata": {},
   "outputs": [],
   "source": [
    "model = RealmForOpenQA.from_pretrained(ft_checkpoint, retriever)\n"
   ]
  },
  {
   "cell_type": "code",
   "execution_count": null,
   "id": "38cdba77-302e-40b5-aebf-281a5277c84d",
   "metadata": {},
   "outputs": [],
   "source": []
  },
  {
   "cell_type": "code",
   "execution_count": 18,
   "id": "aebea79c-3f41-4c98-b2fb-6829cf8d0ac5",
   "metadata": {},
   "outputs": [],
   "source": [
    "# Borrowed from: https://github.com/huggingface/transformers/blob/e239fc3b0baf1171079a5e0177a69254350a063b/examples/pytorch/language-modeling/run_mlm_no_trainer.py#L456-L468\n",
    "\n",
    "no_decay = [\"bias\", \"LayerNorm.weight\"]\n",
    "optimizer_grouped_parameters = [\n",
    "    {\n",
    "        \"params\": [p for n, p in model.named_parameters() if not any(nd in n for nd in no_decay)],\n",
    "        \"weight_decay\": 0.01,\n",
    "    },\n",
    "    {\n",
    "        \"params\": [p for n, p in model.named_parameters() if any(nd in n for nd in no_decay)],\n",
    "        \"weight_decay\": 0.0,\n",
    "    },\n",
    "]\n"
   ]
  },
  {
   "cell_type": "code",
   "execution_count": null,
   "id": "2796be8e-2f00-4c15-83aa-518811666e87",
   "metadata": {},
   "outputs": [],
   "source": []
  },
  {
   "cell_type": "code",
   "execution_count": 19,
   "id": "b0d188b0-4871-4fe9-82df-2e012085bc14",
   "metadata": {},
   "outputs": [],
   "source": [
    "optimizer = torch.optim.AdamW(\n",
    "    optimizer_grouped_parameters,\n",
    "    lr=1e-5,\n",
    "    weight_decay=0.01,\n",
    "    eps=1e-6,\n",
    ")"
   ]
  },
  {
   "cell_type": "code",
   "execution_count": null,
   "id": "65fb2b10-8223-4f85-9b56-39fe33d5e909",
   "metadata": {},
   "outputs": [],
   "source": []
  },
  {
   "cell_type": "code",
   "execution_count": 20,
   "id": "80106803-3ccf-4d72-95df-64d9dbf17e53",
   "metadata": {},
   "outputs": [],
   "source": [
    "num_epochs = 2  # epochs \n",
    "\n",
    "num_steps = len(train_dataloader) * num_epochs  # total steps to set up scheduler \n",
    "\n",
    "global_step = 1  # tracker for number of steps \n",
    "\n",
    "checkpoint_interval = 1000"
   ]
  },
  {
   "cell_type": "code",
   "execution_count": 21,
   "id": "4764c901-93a4-4f8c-a399-b646be2398f3",
   "metadata": {},
   "outputs": [
    {
     "data": {
      "text/plain": [
       "device(type='cuda')"
      ]
     },
     "execution_count": 21,
     "metadata": {},
     "output_type": "execute_result"
    }
   ],
   "source": [
    "# set device\n",
    "device = torch.device('cuda')\n",
    "device"
   ]
  },
  {
   "cell_type": "code",
   "execution_count": 22,
   "id": "c77e553e-f077-4a67-97fe-e2750699ec13",
   "metadata": {},
   "outputs": [],
   "source": [
    "# Set learning rate scheduler \n",
    "\n",
    "lr_scheduler = get_linear_schedule_with_warmup(\n",
    "    optimizer=optimizer,\n",
    "    num_warmup_steps=10000,\n",
    "    num_training_steps=num_steps,\n",
    ")"
   ]
  },
  {
   "cell_type": "code",
   "execution_count": null,
   "id": "763e454e-c830-450f-8f55-33d117ccec48",
   "metadata": {},
   "outputs": [],
   "source": []
  },
  {
   "cell_type": "code",
   "execution_count": 23,
   "id": "7c582a65-d27e-4c71-96cc-86711f7bf408",
   "metadata": {},
   "outputs": [],
   "source": [
    "writer = SummaryWriter()"
   ]
  },
  {
   "cell_type": "code",
   "execution_count": null,
   "id": "8412831c-fb87-4754-9323-8c35acf68cf0",
   "metadata": {},
   "outputs": [],
   "source": []
  },
  {
   "cell_type": "code",
   "execution_count": null,
   "id": "741acbe3-ca19-40c2-9ef9-3a0114cfbb12",
   "metadata": {},
   "outputs": [],
   "source": [
    "model.to(device)"
   ]
  },
  {
   "cell_type": "code",
   "execution_count": null,
   "id": "07e2df14-b48f-4a69-9c4b-a305bb5fc27d",
   "metadata": {},
   "outputs": [],
   "source": []
  },
  {
   "cell_type": "code",
   "execution_count": null,
   "id": "e325c6fe-e62d-4012-a4f2-eecc3b98dc6c",
   "metadata": {},
   "outputs": [
    {
     "data": {
      "application/vnd.jupyter.widget-view+json": {
       "model_id": "f51bd364e56b4664b02539e16b3ef11a",
       "version_major": 2,
       "version_minor": 0
      },
      "text/plain": [
       "  0%|          | 0/241523 [00:00<?, ?it/s]"
      ]
     },
     "metadata": {},
     "output_type": "display_data"
    }
   ],
   "source": [
    "# Set up training loop\n",
    "\n",
    "for epoch in range(num_epochs):\n",
    "    model.train()\n",
    "    \n",
    "    for batch in tqdm(train_dataloader):\n",
    "        optimizer.zero_grad()\n",
    "        \n",
    "        # remember the batch is size 1 with 1 question and 1 answer\n",
    "        question_ids = tokenizer(batch['question'], return_tensors='pt')\n",
    "\n",
    "        answer_ids = tokenizer(batch['answer'],\n",
    "                               add_special_tokens=False,\n",
    "                               return_attention_mask=False,\n",
    "                               return_token_type_ids=False,\n",
    "                               return_tensors='pt').input_ids\n",
    "        \n",
    "        reader_output, predicted_ans_ids = model(**question_ids.to(device),\n",
    "                                                 answer_ids=answer_ids.to(device),\n",
    "                                                 return_dict=False)\n",
    "        \n",
    "        predicted_answer = tokenizer.decode(predicted_ans_ids)\n",
    "        \n",
    "        writer.add_scalar(\"Reader loss\", reader_output.loss.item())\n",
    "        \n",
    "        reader_output.loss.backward()\n",
    "        \n",
    "        clip_grad_norm_(model.parameters(), 1.0, norm_type=2.0, error_if_nonfinite=False)\n",
    "        \n",
    "        optimizer.step()\n",
    "        lr_scheduler.step()\n",
    "        \n",
    "        logging.info(\n",
    "            f\"Epoch: {epoch},\"\n",
    "            f\"Step: {global_step},\"\n",
    "            f\"Retriever Loss: {reader_output.retriever_loss.mean()},\"\n",
    "            f\"Reader Loss: {reader_output.reader_loss.mean()}\\n\"\n",
    "            f\"\\tQuestion: {batch['question'][0]}, Gold Answer: {batch['answer'][0]}, Predicted Answer: {predicted_answer}\"\n",
    "        )\n",
    "        \n",
    "        if global_step % checkpoint_interval == 0:\n",
    "            logging.info(f\"Saving checkpint at step {global_step}\")\n",
    "            \n",
    "            model.save_pretrained(f\"checkpoints/checkpoint-{global_step}\")\n",
    "\n",
    "        global_step += 1\n",
    "        if global_step >= num_steps:\n",
    "            break\n",
    "\n",
    "\n"
   ]
  },
  {
   "cell_type": "code",
   "execution_count": null,
   "id": "4d002464-df78-43b6-94d5-533c2ae95622",
   "metadata": {},
   "outputs": [],
   "source": [
    "# evaluate\n",
    "model.config.reader_seq_len"
   ]
  }
 ],
 "metadata": {
  "kernelspec": {
   "display_name": "Python 3 (ipykernel)",
   "language": "python",
   "name": "python3"
  },
  "language_info": {
   "codemirror_mode": {
    "name": "ipython",
    "version": 3
   },
   "file_extension": ".py",
   "mimetype": "text/x-python",
   "name": "python",
   "nbconvert_exporter": "python",
   "pygments_lexer": "ipython3",
   "version": "3.9.1"
  }
 },
 "nbformat": 4,
 "nbformat_minor": 5
}
